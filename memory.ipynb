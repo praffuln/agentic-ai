{
  "nbformat": 4,
  "nbformat_minor": 0,
  "metadata": {
    "colab": {
      "provenance": [],
      "authorship_tag": "ABX9TyP65cWG0enBdSDD1E+E4yxj",
      "include_colab_link": true
    },
    "kernelspec": {
      "name": "python3",
      "display_name": "Python 3"
    },
    "language_info": {
      "name": "python"
    }
  },
  "cells": [
    {
      "cell_type": "markdown",
      "metadata": {
        "id": "view-in-github",
        "colab_type": "text"
      },
      "source": [
        "<a href=\"https://colab.research.google.com/github/praffuln/agentic-ai/blob/master/memory.ipynb\" target=\"_parent\"><img src=\"https://colab.research.google.com/assets/colab-badge.svg\" alt=\"Open In Colab\"/></a>"
      ]
    },
    {
      "cell_type": "code",
      "execution_count": 1,
      "metadata": {
        "colab": {
          "base_uri": "https://localhost:8080/"
        },
        "id": "FRbIDlUX_fEe",
        "outputId": "1f7a4297-becd-49df-94d5-67638b66e99f"
      },
      "outputs": [
        {
          "output_type": "stream",
          "name": "stdout",
          "text": [
            "helloworld\n"
          ]
        }
      ],
      "source": [
        "print('helloworld')"
      ]
    },
    {
      "cell_type": "markdown",
      "source": [
        "# Lesson 2: Baseline Email Assistant\n",
        "\n",
        "This lesson builds an email assistant that:\n",
        "- Classifies incoming messages (respond, ignore, notify)\n",
        "- Drafts responses\n",
        "- Schedules meetings\n",
        "\n",
        "We'll start with a simple implementation - one that uses hard-coded rules to handle emails.\n",
        "\n",
        "![Memory Course App](./img/memory_course_email.png)\n"
      ],
      "metadata": {
        "id": "Gndpx86gBb8B"
      }
    },
    {
      "cell_type": "markdown",
      "source": [
        "### Setup Environments\n"
      ],
      "metadata": {
        "id": "BysPdFeyCL6R"
      }
    },
    {
      "cell_type": "code",
      "source": [
        "!pip install google-generativeai tiktoken chromadb langgraph langchain langchain_community langchainhub ipykernel langchain_groq sentence_transformers boto3 langchain_aws docx exceptions langchain_openai langchain-google-vertexai\n",
        "!pip install -U langchain-google-vertexai\n",
        "!pip install --upgrade python-docx\n"
      ],
      "metadata": {
        "collapsed": true,
        "id": "RmdLFhtECOcz"
      },
      "execution_count": null,
      "outputs": []
    },
    {
      "cell_type": "markdown",
      "source": [
        " ## Setup Keys For GOOGLE_API_KEY\n"
      ],
      "metadata": {
        "id": "YPFF-ppevar4"
      }
    },
    {
      "cell_type": "code",
      "source": [
        "\n",
        " # Assigning value to variable\n",
        "GEMINI_API_KEY=''\n",
        "SERPER_API_KEY = ''\n",
        "GROQ_API_KEY = ''\n"
      ],
      "metadata": {
        "id": "LbM3-zGMvdqZ"
      },
      "execution_count": 3,
      "outputs": []
    },
    {
      "cell_type": "markdown",
      "source": [
        "# setup environments\n"
      ],
      "metadata": {
        "id": "n0zcWVGYvr1d"
      }
    },
    {
      "cell_type": "code",
      "source": [
        "import os\n",
        "os.environ['SERPER_API_KEY'] = SERPER_API_KEY\n",
        "os.environ['GEMINI_API_KEY'] = GEMINI_API_KEY\n",
        "os.environ['GROQ_API_KEY'] = GROQ_API_KEY\n",
        "\n"
      ],
      "metadata": {
        "id": "LgoK_XsEvygs"
      },
      "execution_count": 4,
      "outputs": []
    },
    {
      "cell_type": "markdown",
      "source": [
        "## setup LLM"
      ],
      "metadata": {
        "id": "hDjCG2BM4415"
      }
    },
    {
      "cell_type": "code",
      "source": [
        "import google.generativeai as genai\n",
        "genai.configure(api_key=GEMINI_API_KEY)\n",
        "llm = genai.GenerativeModel(\"gemini-1.5-flash\")\n",
        "response = llm.generate_content(\"Explain how AI works\")\n",
        "print(response.text)\n",
        "\n",
        "\n",
        ""
      ],
      "metadata": {
        "id": "SE_J3PLz5cA8",
        "colab": {
          "base_uri": "https://localhost:8080/",
          "height": 697
        },
        "outputId": "2d44d3d0-7d58-4dfa-90df-d5d221ab5350"
      },
      "execution_count": 5,
      "outputs": [
        {
          "output_type": "stream",
          "name": "stdout",
          "text": [
            "AI, or Artificial Intelligence, encompasses a broad range of techniques designed to enable computers to mimic human intelligence.  There's no single \"how it works,\" but rather a collection of approaches, each with its own strengths and weaknesses.  Here's a breakdown of some key concepts:\n",
            "\n",
            "**1. Machine Learning (ML):**  This is arguably the most prominent approach to AI.  Instead of explicitly programming a computer with instructions for every possible scenario, ML algorithms learn from data.  They identify patterns, make predictions, and improve their performance over time without being explicitly programmed for each task.\n",
            "\n",
            "* **Supervised Learning:** The algorithm is trained on a labeled dataset – data where the input and desired output are provided.  For example, showing the algorithm thousands of pictures of cats and dogs, labeled accordingly, allows it to learn to distinguish between them.\n",
            "* **Unsupervised Learning:** The algorithm learns from unlabeled data, identifying patterns and structures on its own.  This is useful for tasks like clustering similar data points or dimensionality reduction.\n",
            "* **Reinforcement Learning:** The algorithm learns through trial and error, receiving rewards or penalties for its actions.  This is often used in robotics and game playing, where the AI learns optimal strategies through interaction with its environment.\n",
            "\n",
            "**2. Deep Learning (DL):** A subfield of ML that uses artificial neural networks with multiple layers (hence \"deep\").  These networks are inspired by the structure and function of the human brain.  Deep learning excels at tasks involving complex patterns and large datasets, such as image recognition, natural language processing, and speech recognition.\n",
            "\n",
            "* **Neural Networks:**  These are interconnected nodes (neurons) organized in layers.  Each connection has a weight that determines its influence on the next node.  The network learns by adjusting these weights based on the input data and desired output.\n",
            "\n",
            "**3. Natural Language Processing (NLP):**  This focuses on enabling computers to understand, interpret, and generate human language.  Techniques include:\n",
            "\n",
            "* **Text classification:** Categorizing text into different topics or sentiments.\n",
            "* **Machine translation:** Translating text from one language to another.\n",
            "* **Speech recognition:** Converting spoken language into text.\n",
            "* **Chatbots:**  Creating conversational AI agents.\n",
            "\n",
            "**4. Computer Vision:**  This involves enabling computers to \"see\" and interpret images and videos.  This includes:\n",
            "\n",
            "* **Image classification:** Identifying objects within images.\n",
            "* **Object detection:** Locating and classifying multiple objects in an image.\n",
            "* **Image segmentation:**  Partitioning an image into meaningful regions.\n",
            "\n",
            "**5. Expert Systems:**  These are older AI systems that use a set of rules and facts to mimic the decision-making process of a human expert in a specific domain.\n",
            "\n",
            "**In essence, AI works by:**\n",
            "\n",
            "1. **Data Acquisition:** Gathering large amounts of relevant data.\n",
            "2. **Data Preprocessing:** Cleaning and preparing the data for analysis.\n",
            "3. **Algorithm Selection:** Choosing the appropriate algorithm based on the task and data.\n",
            "4. **Model Training:** Training the algorithm on the data to learn patterns and relationships.\n",
            "5. **Model Evaluation:** Assessing the performance of the trained model.\n",
            "6. **Deployment:** Implementing the model to solve real-world problems.\n",
            "\n",
            "It's important to note that AI is still a rapidly evolving field, and many challenges remain, such as bias in data, explainability of models, and ethical considerations.  The techniques described above are just a glimpse into the complexities of AI, and many variations and combinations of these methods are constantly being developed.\n",
            "\n"
          ]
        }
      ]
    },
    {
      "cell_type": "markdown",
      "source": [
        "## Setup a Profile, Prompt and Example Email"
      ],
      "metadata": {
        "id": "-pjm6L8qCkEI"
      }
    },
    {
      "cell_type": "code",
      "source": [
        "profile = {\n",
        "    \"name\": \"John\",\n",
        "    \"full_name\": \"John Doe\",\n",
        "    \"user_profile_background\": \"Senior software engineer leading a team of 5 developers\",\n",
        "}"
      ],
      "metadata": {
        "id": "0VzEIAYXD_K1"
      },
      "execution_count": 6,
      "outputs": []
    },
    {
      "cell_type": "code",
      "source": [
        "prompt_instructions = {\n",
        "    \"triage_rules\": {\n",
        "        \"ignore\": \"Marketing newsletters, spam emails, mass company announcements\",\n",
        "        \"notify\": \"Team member out sick, build system notifications, project status updates\",\n",
        "        \"respond\": \"Direct questions from team members, meeting requests, critical bug reports\",\n",
        "    },\n",
        "    \"agent_instructions\": \"Use these tools when appropriate to help manage John's tasks efficiently.\"\n",
        "}"
      ],
      "metadata": {
        "id": "3UO5dbQ3EKun"
      },
      "execution_count": 7,
      "outputs": []
    },
    {
      "cell_type": "code",
      "source": [
        "# Example incoming email\n",
        "email = {\n",
        "    \"from\": \"Alice Smith <alice.smith@company.com>\",\n",
        "    \"to\": \"John Doe <john.doe@company.com>\",\n",
        "    \"subject\": \"Quick question about API documentation\",\n",
        "    \"body\": \"\"\"\n",
        "Hi John,\n",
        "\n",
        "I was reviewing the API documentation for the new authentication service and noticed a few endpoints seem to be missing from the specs. Could you help clarify if this was intentional or if we should update the docs?\n",
        "\n",
        "Specifically, I'm looking at:\n",
        "- /auth/refresh\n",
        "- /auth/validate\n",
        "\n",
        "Thanks!\n",
        "Alice\"\"\",\n",
        "}"
      ],
      "metadata": {
        "id": "JMA9ycE_EUwk"
      },
      "execution_count": 8,
      "outputs": []
    },
    {
      "cell_type": "markdown",
      "source": [
        "## Define the first part of the agent - triage."
      ],
      "metadata": {
        "id": "RuT65QNeEbqU"
      }
    },
    {
      "cell_type": "code",
      "source": [
        "from pydantic import BaseModel, Field\n",
        "from typing_extensions import TypedDict, Literal, Annotated\n",
        "from langchain.chat_models import init_chat_model"
      ],
      "metadata": {
        "id": "yefsem_SEgKE"
      },
      "execution_count": 9,
      "outputs": []
    },
    {
      "cell_type": "code",
      "source": [
        "!pip install langchain_google_genai -U\n",
        "from langchain_google_genai import GoogleGenerativeAI\n",
        "from pydantic import BaseModel, Field\n",
        "from typing_extensions import TypedDict, Literal, Annotated\n",
        "from langchain.chains import LLMChain\n",
        "from langchain.prompts import PromptTemplate\n",
        "from langchain.output_parsers import PydanticOutputParser # Import PydanticOutputParser\n",
        "\n",
        "\n",
        "class Router(BaseModel):\n",
        "    \"\"\"Analyze the unread email and route it according to its content.\"\"\"\n",
        "\n",
        "    reasoning: str = Field(\n",
        "        description=\"Step-by-step reasoning behind the classification.\"\n",
        "    )\n",
        "    classification: Literal[\"ignore\", \"respond\", \"notify\"] = Field(\n",
        "        description=\"The classification of an email: 'ignore' for irrelevant emails, \"\n",
        "        \"'notify' for important information that doesn't need a response, \"\n",
        "        \"'respond' for emails that need a reply\",\n",
        "    )\n",
        "\n",
        "# Wrap the Google Generative AI model with LangChain's wrapper\n",
        "# Use `model` instead of `model_name` to specify the model\n",
        "llm = genai.GenerativeModel(\"gemini-1.5-flash\") # This line is replaced\n",
        "\n",
        "\n",
        "# Define the prompt template\n",
        "prompt_template = \"\"\"Analyze the unread email and route it according to its content.\n",
        "Email: {email}\n",
        "Triage Rules:\n",
        "- Ignore: \"{ignore}\"\n",
        "- Notify: {notify}\n",
        "- Respond: {respond}\n",
        "\n",
        "Reasoning:\n",
        "\"\"\"  # The model will complete this with its reasoning\n",
        "\n",
        "# Create a PydanticOutputParser instance\n",
        "output_parser = PydanticOutputParser(pydantic_object=Router) # Create an instance of PydanticOutputParser\n",
        "\n",
        "# Create an LLMChain for structured output\n",
        "# llm_router = LLMChain(\n",
        "#     llm=llm,\n",
        "#     prompt=PromptTemplate.from_template(prompt_template),\n",
        "#     output_parser=output_parser  # Pass the PydanticOutputParser instance\n",
        "# )\n"
      ],
      "metadata": {
        "colab": {
          "base_uri": "https://localhost:8080/"
        },
        "id": "vBXwPXPkLhql",
        "outputId": "6507119c-db70-41ac-fa39-f8284539c616"
      },
      "execution_count": 10,
      "outputs": [
        {
          "output_type": "stream",
          "name": "stdout",
          "text": [
            "Requirement already satisfied: langchain_google_genai in /usr/local/lib/python3.11/dist-packages (2.1.2)\n",
            "Requirement already satisfied: filetype<2.0.0,>=1.2.0 in /usr/local/lib/python3.11/dist-packages (from langchain_google_genai) (1.2.0)\n",
            "Requirement already satisfied: google-ai-generativelanguage<0.7.0,>=0.6.16 in /usr/local/lib/python3.11/dist-packages (from langchain_google_genai) (0.6.17)\n",
            "Requirement already satisfied: langchain-core<0.4.0,>=0.3.49 in /usr/local/lib/python3.11/dist-packages (from langchain_google_genai) (0.3.49)\n",
            "Requirement already satisfied: pydantic<3,>=2 in /usr/local/lib/python3.11/dist-packages (from langchain_google_genai) (2.10.6)\n",
            "Requirement already satisfied: google-api-core!=2.0.*,!=2.1.*,!=2.10.*,!=2.2.*,!=2.3.*,!=2.4.*,!=2.5.*,!=2.6.*,!=2.7.*,!=2.8.*,!=2.9.*,<3.0.0,>=1.34.1 in /usr/local/lib/python3.11/dist-packages (from google-api-core[grpc]!=2.0.*,!=2.1.*,!=2.10.*,!=2.2.*,!=2.3.*,!=2.4.*,!=2.5.*,!=2.6.*,!=2.7.*,!=2.8.*,!=2.9.*,<3.0.0,>=1.34.1->google-ai-generativelanguage<0.7.0,>=0.6.16->langchain_google_genai) (2.24.2)\n",
            "Requirement already satisfied: google-auth!=2.24.0,!=2.25.0,<3.0.0,>=2.14.1 in /usr/local/lib/python3.11/dist-packages (from google-ai-generativelanguage<0.7.0,>=0.6.16->langchain_google_genai) (2.38.0)\n",
            "Requirement already satisfied: proto-plus<2.0.0,>=1.22.3 in /usr/local/lib/python3.11/dist-packages (from google-ai-generativelanguage<0.7.0,>=0.6.16->langchain_google_genai) (1.26.1)\n",
            "Requirement already satisfied: protobuf!=4.21.0,!=4.21.1,!=4.21.2,!=4.21.3,!=4.21.4,!=4.21.5,<7.0.0,>=3.20.2 in /usr/local/lib/python3.11/dist-packages (from google-ai-generativelanguage<0.7.0,>=0.6.16->langchain_google_genai) (5.29.4)\n",
            "Requirement already satisfied: langsmith<0.4,>=0.1.125 in /usr/local/lib/python3.11/dist-packages (from langchain-core<0.4.0,>=0.3.49->langchain_google_genai) (0.3.18)\n",
            "Requirement already satisfied: tenacity!=8.4.0,<10.0.0,>=8.1.0 in /usr/local/lib/python3.11/dist-packages (from langchain-core<0.4.0,>=0.3.49->langchain_google_genai) (9.0.0)\n",
            "Requirement already satisfied: jsonpatch<2.0,>=1.33 in /usr/local/lib/python3.11/dist-packages (from langchain-core<0.4.0,>=0.3.49->langchain_google_genai) (1.33)\n",
            "Requirement already satisfied: PyYAML>=5.3 in /usr/local/lib/python3.11/dist-packages (from langchain-core<0.4.0,>=0.3.49->langchain_google_genai) (6.0.2)\n",
            "Requirement already satisfied: packaging<25,>=23.2 in /usr/local/lib/python3.11/dist-packages (from langchain-core<0.4.0,>=0.3.49->langchain_google_genai) (24.2)\n",
            "Requirement already satisfied: typing-extensions>=4.7 in /usr/local/lib/python3.11/dist-packages (from langchain-core<0.4.0,>=0.3.49->langchain_google_genai) (4.12.2)\n",
            "Requirement already satisfied: annotated-types>=0.6.0 in /usr/local/lib/python3.11/dist-packages (from pydantic<3,>=2->langchain_google_genai) (0.7.0)\n",
            "Requirement already satisfied: pydantic-core==2.27.2 in /usr/local/lib/python3.11/dist-packages (from pydantic<3,>=2->langchain_google_genai) (2.27.2)\n",
            "Requirement already satisfied: googleapis-common-protos<2.0.0,>=1.56.2 in /usr/local/lib/python3.11/dist-packages (from google-api-core!=2.0.*,!=2.1.*,!=2.10.*,!=2.2.*,!=2.3.*,!=2.4.*,!=2.5.*,!=2.6.*,!=2.7.*,!=2.8.*,!=2.9.*,<3.0.0,>=1.34.1->google-api-core[grpc]!=2.0.*,!=2.1.*,!=2.10.*,!=2.2.*,!=2.3.*,!=2.4.*,!=2.5.*,!=2.6.*,!=2.7.*,!=2.8.*,!=2.9.*,<3.0.0,>=1.34.1->google-ai-generativelanguage<0.7.0,>=0.6.16->langchain_google_genai) (1.69.2)\n",
            "Requirement already satisfied: requests<3.0.0,>=2.18.0 in /usr/local/lib/python3.11/dist-packages (from google-api-core!=2.0.*,!=2.1.*,!=2.10.*,!=2.2.*,!=2.3.*,!=2.4.*,!=2.5.*,!=2.6.*,!=2.7.*,!=2.8.*,!=2.9.*,<3.0.0,>=1.34.1->google-api-core[grpc]!=2.0.*,!=2.1.*,!=2.10.*,!=2.2.*,!=2.3.*,!=2.4.*,!=2.5.*,!=2.6.*,!=2.7.*,!=2.8.*,!=2.9.*,<3.0.0,>=1.34.1->google-ai-generativelanguage<0.7.0,>=0.6.16->langchain_google_genai) (2.32.3)\n",
            "Requirement already satisfied: grpcio<2.0dev,>=1.33.2 in /usr/local/lib/python3.11/dist-packages (from google-api-core[grpc]!=2.0.*,!=2.1.*,!=2.10.*,!=2.2.*,!=2.3.*,!=2.4.*,!=2.5.*,!=2.6.*,!=2.7.*,!=2.8.*,!=2.9.*,<3.0.0,>=1.34.1->google-ai-generativelanguage<0.7.0,>=0.6.16->langchain_google_genai) (1.71.0)\n",
            "Requirement already satisfied: grpcio-status<2.0.dev0,>=1.33.2 in /usr/local/lib/python3.11/dist-packages (from google-api-core[grpc]!=2.0.*,!=2.1.*,!=2.10.*,!=2.2.*,!=2.3.*,!=2.4.*,!=2.5.*,!=2.6.*,!=2.7.*,!=2.8.*,!=2.9.*,<3.0.0,>=1.34.1->google-ai-generativelanguage<0.7.0,>=0.6.16->langchain_google_genai) (1.71.0)\n",
            "Requirement already satisfied: cachetools<6.0,>=2.0.0 in /usr/local/lib/python3.11/dist-packages (from google-auth!=2.24.0,!=2.25.0,<3.0.0,>=2.14.1->google-ai-generativelanguage<0.7.0,>=0.6.16->langchain_google_genai) (5.5.2)\n",
            "Requirement already satisfied: pyasn1-modules>=0.2.1 in /usr/local/lib/python3.11/dist-packages (from google-auth!=2.24.0,!=2.25.0,<3.0.0,>=2.14.1->google-ai-generativelanguage<0.7.0,>=0.6.16->langchain_google_genai) (0.4.1)\n",
            "Requirement already satisfied: rsa<5,>=3.1.4 in /usr/local/lib/python3.11/dist-packages (from google-auth!=2.24.0,!=2.25.0,<3.0.0,>=2.14.1->google-ai-generativelanguage<0.7.0,>=0.6.16->langchain_google_genai) (4.9)\n",
            "Requirement already satisfied: jsonpointer>=1.9 in /usr/local/lib/python3.11/dist-packages (from jsonpatch<2.0,>=1.33->langchain-core<0.4.0,>=0.3.49->langchain_google_genai) (3.0.0)\n",
            "Requirement already satisfied: httpx<1,>=0.23.0 in /usr/local/lib/python3.11/dist-packages (from langsmith<0.4,>=0.1.125->langchain-core<0.4.0,>=0.3.49->langchain_google_genai) (0.28.1)\n",
            "Requirement already satisfied: orjson<4.0.0,>=3.9.14 in /usr/local/lib/python3.11/dist-packages (from langsmith<0.4,>=0.1.125->langchain-core<0.4.0,>=0.3.49->langchain_google_genai) (3.10.15)\n",
            "Requirement already satisfied: requests-toolbelt<2.0.0,>=1.0.0 in /usr/local/lib/python3.11/dist-packages (from langsmith<0.4,>=0.1.125->langchain-core<0.4.0,>=0.3.49->langchain_google_genai) (1.0.0)\n",
            "Requirement already satisfied: zstandard<0.24.0,>=0.23.0 in /usr/local/lib/python3.11/dist-packages (from langsmith<0.4,>=0.1.125->langchain-core<0.4.0,>=0.3.49->langchain_google_genai) (0.23.0)\n",
            "Requirement already satisfied: anyio in /usr/local/lib/python3.11/dist-packages (from httpx<1,>=0.23.0->langsmith<0.4,>=0.1.125->langchain-core<0.4.0,>=0.3.49->langchain_google_genai) (4.9.0)\n",
            "Requirement already satisfied: certifi in /usr/local/lib/python3.11/dist-packages (from httpx<1,>=0.23.0->langsmith<0.4,>=0.1.125->langchain-core<0.4.0,>=0.3.49->langchain_google_genai) (2025.1.31)\n",
            "Requirement already satisfied: httpcore==1.* in /usr/local/lib/python3.11/dist-packages (from httpx<1,>=0.23.0->langsmith<0.4,>=0.1.125->langchain-core<0.4.0,>=0.3.49->langchain_google_genai) (1.0.7)\n",
            "Requirement already satisfied: idna in /usr/local/lib/python3.11/dist-packages (from httpx<1,>=0.23.0->langsmith<0.4,>=0.1.125->langchain-core<0.4.0,>=0.3.49->langchain_google_genai) (3.10)\n",
            "Requirement already satisfied: h11<0.15,>=0.13 in /usr/local/lib/python3.11/dist-packages (from httpcore==1.*->httpx<1,>=0.23.0->langsmith<0.4,>=0.1.125->langchain-core<0.4.0,>=0.3.49->langchain_google_genai) (0.14.0)\n",
            "Requirement already satisfied: pyasn1<0.7.0,>=0.4.6 in /usr/local/lib/python3.11/dist-packages (from pyasn1-modules>=0.2.1->google-auth!=2.24.0,!=2.25.0,<3.0.0,>=2.14.1->google-ai-generativelanguage<0.7.0,>=0.6.16->langchain_google_genai) (0.6.1)\n",
            "Requirement already satisfied: charset-normalizer<4,>=2 in /usr/local/lib/python3.11/dist-packages (from requests<3.0.0,>=2.18.0->google-api-core!=2.0.*,!=2.1.*,!=2.10.*,!=2.2.*,!=2.3.*,!=2.4.*,!=2.5.*,!=2.6.*,!=2.7.*,!=2.8.*,!=2.9.*,<3.0.0,>=1.34.1->google-api-core[grpc]!=2.0.*,!=2.1.*,!=2.10.*,!=2.2.*,!=2.3.*,!=2.4.*,!=2.5.*,!=2.6.*,!=2.7.*,!=2.8.*,!=2.9.*,<3.0.0,>=1.34.1->google-ai-generativelanguage<0.7.0,>=0.6.16->langchain_google_genai) (3.4.1)\n",
            "Requirement already satisfied: urllib3<3,>=1.21.1 in /usr/local/lib/python3.11/dist-packages (from requests<3.0.0,>=2.18.0->google-api-core!=2.0.*,!=2.1.*,!=2.10.*,!=2.2.*,!=2.3.*,!=2.4.*,!=2.5.*,!=2.6.*,!=2.7.*,!=2.8.*,!=2.9.*,<3.0.0,>=1.34.1->google-api-core[grpc]!=2.0.*,!=2.1.*,!=2.10.*,!=2.2.*,!=2.3.*,!=2.4.*,!=2.5.*,!=2.6.*,!=2.7.*,!=2.8.*,!=2.9.*,<3.0.0,>=1.34.1->google-ai-generativelanguage<0.7.0,>=0.6.16->langchain_google_genai) (2.3.0)\n",
            "Requirement already satisfied: sniffio>=1.1 in /usr/local/lib/python3.11/dist-packages (from anyio->httpx<1,>=0.23.0->langsmith<0.4,>=0.1.125->langchain-core<0.4.0,>=0.3.49->langchain_google_genai) (1.3.1)\n"
          ]
        }
      ]
    },
    {
      "cell_type": "code",
      "source": [
        "# Agent prompt baseline\n",
        "agent_system_prompt = \"\"\"\n",
        "< Role >\n",
        "You are {full_name}'s executive assistant. You are a top-notch executive assistant who cares about {name} performing as well as possible.\n",
        "</ Role >\n",
        "\n",
        "< Tools >\n",
        "You have access to the following tools to help manage {name}'s communications and schedule:\n",
        "\n",
        "1. write_email(to, subject, content) - Send emails to specified recipients\n",
        "2. schedule_meeting(attendees, subject, duration_minutes, preferred_day) - Schedule calendar meetings\n",
        "3. check_calendar_availability(day) - Check available time slots for a given day\n",
        "</ Tools >\n",
        "\n",
        "< Instructions >\n",
        "{instructions}\n",
        "</ Instructions >\n",
        "\"\"\"\n",
        "\n",
        "# Agent prompt semantic memory\n",
        "agent_system_prompt_memory = \"\"\"\n",
        "< Role >\n",
        "You are {full_name}'s executive assistant. You are a top-notch executive assistant who cares about {name} performing as well as possible.\n",
        "</ Role >\n",
        "\n",
        "< Tools >\n",
        "You have access to the following tools to help manage {name}'s communications and schedule:\n",
        "\n",
        "1. write_email(to, subject, content) - Send emails to specified recipients\n",
        "2. schedule_meeting(attendees, subject, duration_minutes, preferred_day) - Schedule calendar meetings\n",
        "3. check_calendar_availability(day) - Check available time slots for a given day\n",
        "4. manage_memory(\"email_assistant\", user, \"collection\") - Store any relevant information about contacts, actions, discussion, etc. in memory for future reference\n",
        "5. manage_memory(\"email_assistant\", user, \"user_profile\") - Store any relevant information about the recipient, {name}, in the user profile for future reference the current user profile is shown below\n",
        "6. search_memory(\"email_assistant\", user, \"collection\") - Search memory for detail from previous emails\n",
        "7. manage_memory(\"email_assistant\", user, \"instructions\") - Update the instructions for agent tool usage based upon the user feedback\n",
        "</ Tools >\n",
        "\n",
        "< User profile >\n",
        "{profile}\n",
        "</ User profile >\n",
        "\n",
        "< Instructions >\n",
        "{instructions}\n",
        "</ Instructions >\n",
        "\"\"\"\n",
        "\n",
        "# Triage prompt\n",
        "triage_system_prompt = \"\"\"\n",
        "< Role >\n",
        "You are {full_name}'s executive assistant. You are a top-notch executive assistant who cares about {name} performing as well as possible.\n",
        "</ Role >\n",
        "\n",
        "< Background >\n",
        "{user_profile_background}.\n",
        "</ Background >\n",
        "\n",
        "< Instructions >\n",
        "\n",
        "{name} gets lots of emails. Your job is to categorize each email into one of three categories:\n",
        "\n",
        "1. IGNORE - Emails that are not worth responding to or tracking\n",
        "2. NOTIFY - Important information that {name} should know about but doesn't require a response\n",
        "3. RESPOND - Emails that need a direct response from {name}\n",
        "\n",
        "Classify the below email into one of these categories. also print the reasoning.\n",
        "\n",
        "</ Instructions >\n",
        "\n",
        "< Rules >\n",
        "Emails that are not worth responding to:\n",
        "{triage_no}\n",
        "\n",
        "There are also other things that {name} should know about, but don't require an email response. For these, you should notify {name} (using the `notify` response). Examples of this include:\n",
        "{triage_notify}\n",
        "\n",
        "Emails that are worth responding to:\n",
        "{triage_email}\n",
        "</ Rules >\n",
        "\n",
        "< Few shot examples >\n",
        "{examples}\n",
        "</ Few shot examples >\n",
        "\"\"\"\n",
        "\n",
        "triage_user_prompt = \"\"\"\n",
        "Please determine how to handle the below email thread:\n",
        "\n",
        "From: {author}\n",
        "To: {to}\n",
        "Subject: {subject}\n",
        "{email_thread}\"\"\"\n"
      ],
      "metadata": {
        "id": "LC-N9tzUEwgb"
      },
      "execution_count": 11,
      "outputs": []
    },
    {
      "cell_type": "code",
      "source": [
        "system_prompt = triage_system_prompt.format(\n",
        "    full_name=profile[\"full_name\"],\n",
        "    name=profile[\"name\"],\n",
        "    examples=None,\n",
        "    user_profile_background=profile[\"user_profile_background\"],\n",
        "    triage_no=prompt_instructions[\"triage_rules\"][\"ignore\"],\n",
        "    triage_notify=prompt_instructions[\"triage_rules\"][\"notify\"],\n",
        "    triage_email=prompt_instructions[\"triage_rules\"][\"respond\"],\n",
        ")"
      ],
      "metadata": {
        "id": "V5Nx7fvIRmzz"
      },
      "execution_count": 12,
      "outputs": []
    },
    {
      "cell_type": "code",
      "source": [
        "user_prompt = triage_user_prompt.format(\n",
        "    author=email[\"from\"],\n",
        "    to=email[\"to\"],\n",
        "    subject=email[\"subject\"],\n",
        "    email_thread=email[\"body\"],\n",
        ")"
      ],
      "metadata": {
        "id": "82uQAKzsWUek"
      },
      "execution_count": 13,
      "outputs": []
    },
    {
      "cell_type": "code",
      "source": [
        "print(system_prompt)"
      ],
      "metadata": {
        "colab": {
          "base_uri": "https://localhost:8080/"
        },
        "id": "0MbvTd8caTf_",
        "outputId": "ec6c079e-c7bc-4f1a-fe47-b3015e363d86"
      },
      "execution_count": 14,
      "outputs": [
        {
          "output_type": "stream",
          "name": "stdout",
          "text": [
            "\n",
            "< Role >\n",
            "You are John Doe's executive assistant. You are a top-notch executive assistant who cares about John performing as well as possible.\n",
            "</ Role >\n",
            "\n",
            "< Background >\n",
            "Senior software engineer leading a team of 5 developers. \n",
            "</ Background >\n",
            "\n",
            "< Instructions >\n",
            "\n",
            "John gets lots of emails. Your job is to categorize each email into one of three categories:\n",
            "\n",
            "1. IGNORE - Emails that are not worth responding to or tracking\n",
            "2. NOTIFY - Important information that John should know about but doesn't require a response\n",
            "3. RESPOND - Emails that need a direct response from John\n",
            "\n",
            "Classify the below email into one of these categories. also print the reasoning.\n",
            "\n",
            "</ Instructions >\n",
            "\n",
            "< Rules >\n",
            "Emails that are not worth responding to:\n",
            "Marketing newsletters, spam emails, mass company announcements\n",
            "\n",
            "There are also other things that John should know about, but don't require an email response. For these, you should notify John (using the `notify` response). Examples of this include:\n",
            "Team member out sick, build system notifications, project status updates\n",
            "\n",
            "Emails that are worth responding to:\n",
            "Direct questions from team members, meeting requests, critical bug reports\n",
            "</ Rules >\n",
            "\n",
            "< Few shot examples >\n",
            "None\n",
            "</ Few shot examples >\n",
            "\n"
          ]
        }
      ]
    },
    {
      "cell_type": "code",
      "source": [
        "print(user_prompt)"
      ],
      "metadata": {
        "colab": {
          "base_uri": "https://localhost:8080/"
        },
        "id": "0nvQd63xab2v",
        "outputId": "4f3e54c8-d9fc-454b-ea88-a7ce28961d99"
      },
      "execution_count": 15,
      "outputs": [
        {
          "output_type": "stream",
          "name": "stdout",
          "text": [
            "\n",
            "Please determine how to handle the below email thread:\n",
            "\n",
            "From: Alice Smith <alice.smith@company.com>\n",
            "To: John Doe <john.doe@company.com>\n",
            "Subject: Quick question about API documentation\n",
            "\n",
            "Hi John,\n",
            "\n",
            "I was reviewing the API documentation for the new authentication service and noticed a few endpoints seem to be missing from the specs. Could you help clarify if this was intentional or if we should update the docs?\n",
            "\n",
            "Specifically, I'm looking at:\n",
            "- /auth/refresh\n",
            "- /auth/validate\n",
            "\n",
            "Thanks!\n",
            "Alice\n"
          ]
        }
      ]
    },
    {
      "cell_type": "code",
      "source": [
        "llm_google = genai.GenerativeModel(\"gemini-1.5-flash\")\n",
        "prompt = system_prompt + \"\\n\" + user_prompt # Concatenate system and user prompts\n",
        "response = llm_google.generate_content(prompt) # Use generate_content to generate response\n",
        "print(response.text) # Print the generated text\n",
        "\n",
        ""
      ],
      "metadata": {
        "colab": {
          "base_uri": "https://localhost:8080/",
          "height": 106
        },
        "id": "2iQ53fMHWYDo",
        "outputId": "9a500019-c371-4310-d8bd-9a8ca0e5291c"
      },
      "execution_count": 16,
      "outputs": [
        {
          "output_type": "stream",
          "name": "stdout",
          "text": [
            "**Category:** RESPOND\n",
            "\n",
            "**Reasoning:** This email contains a direct question from a team member (Alice Smith) regarding the API documentation.  The question is specific and requires John's input to clarify whether the missing endpoints are intentional or an oversight requiring documentation updates.  Ignoring this would hinder Alice's work and potentially introduce errors into the authentication service.  A timely response from John is necessary.\n",
            "\n"
          ]
        }
      ]
    },
    {
      "cell_type": "markdown",
      "source": [
        "## Main agent, define tools"
      ],
      "metadata": {
        "id": "FC-nOIqdh766"
      }
    },
    {
      "cell_type": "code",
      "source": [
        "from langchain_core.tools import tool"
      ],
      "metadata": {
        "id": "xww2ZNsver2t"
      },
      "execution_count": 17,
      "outputs": []
    },
    {
      "cell_type": "code",
      "source": [
        "from langchain_core.tools import tool\n",
        "from typing import Dict\n",
        "\n",
        "@tool\n",
        "def write_email(email_details: Dict) -> str:\n",
        "    \"\"\"Write and send an email.\"\"\"\n",
        "    print('inside write_email.....')\n",
        "    to = email_details[\"to\"]\n",
        "    subject = email_details[\"subject\"]\n",
        "    content = email_details[\"content\"]\n",
        "    # Placeholder response - in real app would send email\n",
        "    return f\"Email sent to {to} with subject '{subject}'\""
      ],
      "metadata": {
        "id": "PgArc_OOh-mu"
      },
      "execution_count": 42,
      "outputs": []
    },
    {
      "cell_type": "code",
      "source": [
        "@tool\n",
        "def schedule_meeting(meeting_details: dict) -> str:\n",
        "    \"\"\"Schedule a calendar meeting.\"\"\"\n",
        "    attendees = meeting_details[\"attendees\"]\n",
        "    subject = meeting_details[\"subject\"]\n",
        "    duration_minutes = meeting_details[\"duration_minutes\"]\n",
        "    preferred_day = meeting_details[\"preferred_day\"]\n",
        "    # Placeholder response - in real app would check calendar and schedule\n",
        "    return f\"Meeting '{subject}' scheduled for {preferred_day} with {len(attendees)} attendees\"\n"
      ],
      "metadata": {
        "id": "ycjuyNwziBBf"
      },
      "execution_count": 35,
      "outputs": []
    },
    {
      "cell_type": "code",
      "source": [
        "@tool\n",
        "def check_calendar_availability(day: str) -> str:\n",
        "    \"\"\"Check calendar availability for a given day.\"\"\"\n",
        "    # Placeholder response - in real app would check actual calendar\n",
        "    return f\"Available times on {day}: 9:00 AM, 2:00 PM, 4:00 PM\""
      ],
      "metadata": {
        "id": "jAC0fkTCiC-x"
      },
      "execution_count": 36,
      "outputs": []
    },
    {
      "cell_type": "markdown",
      "source": [
        "## Main agent, define prompt"
      ],
      "metadata": {
        "id": "hcKNXMDbiGhl"
      }
    },
    {
      "cell_type": "code",
      "source": [
        "def create_prompt(state):\n",
        "    return [\n",
        "        {\n",
        "            \"role\": \"system\",\n",
        "            \"content\": agent_system_prompt.format(\n",
        "                instructions=prompt_instructions[\"agent_instructions\"],\n",
        "                **profile\n",
        "                )\n",
        "        }\n",
        "    ] + state['messages']"
      ],
      "metadata": {
        "id": "BxCaf30FiIBw"
      },
      "execution_count": 37,
      "outputs": []
    },
    {
      "cell_type": "code",
      "source": [
        "print(agent_system_prompt)"
      ],
      "metadata": {
        "colab": {
          "base_uri": "https://localhost:8080/"
        },
        "id": "iGGsl35BiKkp",
        "outputId": "d34a215c-37d8-453e-bdb4-f7652407b403"
      },
      "execution_count": 22,
      "outputs": [
        {
          "output_type": "stream",
          "name": "stdout",
          "text": [
            "\n",
            "< Role >\n",
            "You are {full_name}'s executive assistant. You are a top-notch executive assistant who cares about {name} performing as well as possible.\n",
            "</ Role >\n",
            "\n",
            "< Tools >\n",
            "You have access to the following tools to help manage {name}'s communications and schedule:\n",
            "\n",
            "1. write_email(to, subject, content) - Send emails to specified recipients\n",
            "2. schedule_meeting(attendees, subject, duration_minutes, preferred_day) - Schedule calendar meetings\n",
            "3. check_calendar_availability(day) - Check available time slots for a given day\n",
            "</ Tools >\n",
            "\n",
            "< Instructions >\n",
            "{instructions}\n",
            "</ Instructions >\n",
            "\n"
          ]
        }
      ]
    },
    {
      "cell_type": "code",
      "source": [
        "!pip install langgraph\n",
        "!pip install -U langchain-community\n",
        "from langgraph.prebuilt import create_react_agent"
      ],
      "metadata": {
        "id": "SZXc7v2ciMHt"
      },
      "execution_count": null,
      "outputs": []
    },
    {
      "cell_type": "code",
      "source": [
        "tools=[write_email, schedule_meeting, check_calendar_availability]"
      ],
      "metadata": {
        "id": "FETF4v4_iN7W"
      },
      "execution_count": 38,
      "outputs": []
    },
    {
      "cell_type": "code",
      "source": [
        "from langchain_google_genai import GoogleGenerativeAI\n",
        "from langchain.agents import initialize_agent, AgentType\n",
        "from langchain.callbacks import StreamlitCallbackHandler\n",
        "import google.generativeai as genai\n",
        "genai.configure(api_key=os.environ['GEMINI_API_KEY'])\n",
        "\n",
        "!pip install langchain_groq\n",
        "from langchain_groq import ChatGroq\n",
        "\n",
        "llm = ChatGroq(model=\"llama-3.3-70b-versatile\")\n",
        "\n",
        "\n",
        "agent = initialize_agent(\n",
        "    tools,\n",
        "    llm,\n",
        "    agent=AgentType.ZERO_SHOT_REACT_DESCRIPTION,  # Specify the agent type\n",
        "    prompt = agent_system_prompt,\n",
        "    verbose=True\n",
        ")\n"
      ],
      "metadata": {
        "colab": {
          "base_uri": "https://localhost:8080/",
          "height": 845
        },
        "id": "P0ZL3c0SiPUe",
        "outputId": "00c2894c-26c9-444f-e760-4707fad96347"
      },
      "execution_count": 41,
      "outputs": [
        {
          "output_type": "stream",
          "name": "stdout",
          "text": [
            "Requirement already satisfied: langchain_groq in /usr/local/lib/python3.11/dist-packages (0.3.1)\n",
            "Requirement already satisfied: langchain-core<1.0.0,>=0.3.47 in /usr/local/lib/python3.11/dist-packages (from langchain_groq) (0.3.49)\n",
            "Requirement already satisfied: groq<1,>=0.4.1 in /usr/local/lib/python3.11/dist-packages (from langchain_groq) (0.20.0)\n",
            "Requirement already satisfied: anyio<5,>=3.5.0 in /usr/local/lib/python3.11/dist-packages (from groq<1,>=0.4.1->langchain_groq) (4.9.0)\n",
            "Requirement already satisfied: distro<2,>=1.7.0 in /usr/local/lib/python3.11/dist-packages (from groq<1,>=0.4.1->langchain_groq) (1.9.0)\n",
            "Requirement already satisfied: httpx<1,>=0.23.0 in /usr/local/lib/python3.11/dist-packages (from groq<1,>=0.4.1->langchain_groq) (0.28.1)\n",
            "Requirement already satisfied: pydantic<3,>=1.9.0 in /usr/local/lib/python3.11/dist-packages (from groq<1,>=0.4.1->langchain_groq) (2.10.6)\n",
            "Requirement already satisfied: sniffio in /usr/local/lib/python3.11/dist-packages (from groq<1,>=0.4.1->langchain_groq) (1.3.1)\n",
            "Requirement already satisfied: typing-extensions<5,>=4.10 in /usr/local/lib/python3.11/dist-packages (from groq<1,>=0.4.1->langchain_groq) (4.12.2)\n",
            "Requirement already satisfied: langsmith<0.4,>=0.1.125 in /usr/local/lib/python3.11/dist-packages (from langchain-core<1.0.0,>=0.3.47->langchain_groq) (0.3.18)\n",
            "Requirement already satisfied: tenacity!=8.4.0,<10.0.0,>=8.1.0 in /usr/local/lib/python3.11/dist-packages (from langchain-core<1.0.0,>=0.3.47->langchain_groq) (9.0.0)\n",
            "Requirement already satisfied: jsonpatch<2.0,>=1.33 in /usr/local/lib/python3.11/dist-packages (from langchain-core<1.0.0,>=0.3.47->langchain_groq) (1.33)\n",
            "Requirement already satisfied: PyYAML>=5.3 in /usr/local/lib/python3.11/dist-packages (from langchain-core<1.0.0,>=0.3.47->langchain_groq) (6.0.2)\n",
            "Requirement already satisfied: packaging<25,>=23.2 in /usr/local/lib/python3.11/dist-packages (from langchain-core<1.0.0,>=0.3.47->langchain_groq) (24.2)\n",
            "Requirement already satisfied: idna>=2.8 in /usr/local/lib/python3.11/dist-packages (from anyio<5,>=3.5.0->groq<1,>=0.4.1->langchain_groq) (3.10)\n",
            "Requirement already satisfied: certifi in /usr/local/lib/python3.11/dist-packages (from httpx<1,>=0.23.0->groq<1,>=0.4.1->langchain_groq) (2025.1.31)\n",
            "Requirement already satisfied: httpcore==1.* in /usr/local/lib/python3.11/dist-packages (from httpx<1,>=0.23.0->groq<1,>=0.4.1->langchain_groq) (1.0.7)\n",
            "Requirement already satisfied: h11<0.15,>=0.13 in /usr/local/lib/python3.11/dist-packages (from httpcore==1.*->httpx<1,>=0.23.0->groq<1,>=0.4.1->langchain_groq) (0.14.0)\n",
            "Requirement already satisfied: jsonpointer>=1.9 in /usr/local/lib/python3.11/dist-packages (from jsonpatch<2.0,>=1.33->langchain-core<1.0.0,>=0.3.47->langchain_groq) (3.0.0)\n",
            "Requirement already satisfied: orjson<4.0.0,>=3.9.14 in /usr/local/lib/python3.11/dist-packages (from langsmith<0.4,>=0.1.125->langchain-core<1.0.0,>=0.3.47->langchain_groq) (3.10.15)\n",
            "Requirement already satisfied: requests<3,>=2 in /usr/local/lib/python3.11/dist-packages (from langsmith<0.4,>=0.1.125->langchain-core<1.0.0,>=0.3.47->langchain_groq) (2.32.3)\n",
            "Requirement already satisfied: requests-toolbelt<2.0.0,>=1.0.0 in /usr/local/lib/python3.11/dist-packages (from langsmith<0.4,>=0.1.125->langchain-core<1.0.0,>=0.3.47->langchain_groq) (1.0.0)\n",
            "Requirement already satisfied: zstandard<0.24.0,>=0.23.0 in /usr/local/lib/python3.11/dist-packages (from langsmith<0.4,>=0.1.125->langchain-core<1.0.0,>=0.3.47->langchain_groq) (0.23.0)\n",
            "Requirement already satisfied: annotated-types>=0.6.0 in /usr/local/lib/python3.11/dist-packages (from pydantic<3,>=1.9.0->groq<1,>=0.4.1->langchain_groq) (0.7.0)\n",
            "Requirement already satisfied: pydantic-core==2.27.2 in /usr/local/lib/python3.11/dist-packages (from pydantic<3,>=1.9.0->groq<1,>=0.4.1->langchain_groq) (2.27.2)\n",
            "Requirement already satisfied: charset-normalizer<4,>=2 in /usr/local/lib/python3.11/dist-packages (from requests<3,>=2->langsmith<0.4,>=0.1.125->langchain-core<1.0.0,>=0.3.47->langchain_groq) (3.4.1)\n",
            "Requirement already satisfied: urllib3<3,>=1.21.1 in /usr/local/lib/python3.11/dist-packages (from requests<3,>=2->langsmith<0.4,>=0.1.125->langchain-core<1.0.0,>=0.3.47->langchain_groq) (2.3.0)\n"
          ]
        },
        {
          "output_type": "error",
          "ename": "ValueError",
          "evalue": "ConversationalAgent does not support multi-input tool write_email.",
          "traceback": [
            "\u001b[0;31m---------------------------------------------------------------------------\u001b[0m",
            "\u001b[0;31mValueError\u001b[0m                                Traceback (most recent call last)",
            "\u001b[0;32m<ipython-input-41-ae237de3b98b>\u001b[0m in \u001b[0;36m<cell line: 0>\u001b[0;34m()\u001b[0m\n\u001b[1;32m     11\u001b[0m \u001b[0;34m\u001b[0m\u001b[0m\n\u001b[1;32m     12\u001b[0m \u001b[0;34m\u001b[0m\u001b[0m\n\u001b[0;32m---> 13\u001b[0;31m agent = initialize_agent(\n\u001b[0m\u001b[1;32m     14\u001b[0m     \u001b[0mtools\u001b[0m\u001b[0;34m,\u001b[0m\u001b[0;34m\u001b[0m\u001b[0;34m\u001b[0m\u001b[0m\n\u001b[1;32m     15\u001b[0m     \u001b[0mllm\u001b[0m\u001b[0;34m,\u001b[0m\u001b[0;34m\u001b[0m\u001b[0;34m\u001b[0m\u001b[0m\n",
            "\u001b[0;32m/usr/local/lib/python3.11/dist-packages/langchain_core/_api/deprecation.py\u001b[0m in \u001b[0;36mwarning_emitting_wrapper\u001b[0;34m(*args, **kwargs)\u001b[0m\n\u001b[1;32m    179\u001b[0m                 \u001b[0mwarned\u001b[0m \u001b[0;34m=\u001b[0m \u001b[0;32mTrue\u001b[0m\u001b[0;34m\u001b[0m\u001b[0;34m\u001b[0m\u001b[0m\n\u001b[1;32m    180\u001b[0m                 \u001b[0memit_warning\u001b[0m\u001b[0;34m(\u001b[0m\u001b[0;34m)\u001b[0m\u001b[0;34m\u001b[0m\u001b[0;34m\u001b[0m\u001b[0m\n\u001b[0;32m--> 181\u001b[0;31m             \u001b[0;32mreturn\u001b[0m \u001b[0mwrapped\u001b[0m\u001b[0;34m(\u001b[0m\u001b[0;34m*\u001b[0m\u001b[0margs\u001b[0m\u001b[0;34m,\u001b[0m \u001b[0;34m**\u001b[0m\u001b[0mkwargs\u001b[0m\u001b[0;34m)\u001b[0m\u001b[0;34m\u001b[0m\u001b[0;34m\u001b[0m\u001b[0m\n\u001b[0m\u001b[1;32m    182\u001b[0m \u001b[0;34m\u001b[0m\u001b[0m\n\u001b[1;32m    183\u001b[0m         \u001b[0;32masync\u001b[0m \u001b[0;32mdef\u001b[0m \u001b[0mawarning_emitting_wrapper\u001b[0m\u001b[0;34m(\u001b[0m\u001b[0;34m*\u001b[0m\u001b[0margs\u001b[0m\u001b[0;34m:\u001b[0m \u001b[0mAny\u001b[0m\u001b[0;34m,\u001b[0m \u001b[0;34m**\u001b[0m\u001b[0mkwargs\u001b[0m\u001b[0;34m:\u001b[0m \u001b[0mAny\u001b[0m\u001b[0;34m)\u001b[0m \u001b[0;34m->\u001b[0m \u001b[0mAny\u001b[0m\u001b[0;34m:\u001b[0m\u001b[0;34m\u001b[0m\u001b[0;34m\u001b[0m\u001b[0m\n",
            "\u001b[0;32m/usr/local/lib/python3.11/dist-packages/langchain/agents/initialize.py\u001b[0m in \u001b[0;36minitialize_agent\u001b[0;34m(tools, llm, agent, callback_manager, agent_path, agent_kwargs, tags, **kwargs)\u001b[0m\n\u001b[1;32m     71\u001b[0m         \u001b[0magent_cls\u001b[0m \u001b[0;34m=\u001b[0m \u001b[0mAGENT_TO_CLASS\u001b[0m\u001b[0;34m[\u001b[0m\u001b[0magent\u001b[0m\u001b[0;34m]\u001b[0m\u001b[0;34m\u001b[0m\u001b[0;34m\u001b[0m\u001b[0m\n\u001b[1;32m     72\u001b[0m         \u001b[0magent_kwargs\u001b[0m \u001b[0;34m=\u001b[0m \u001b[0magent_kwargs\u001b[0m \u001b[0;32mor\u001b[0m \u001b[0;34m{\u001b[0m\u001b[0;34m}\u001b[0m\u001b[0;34m\u001b[0m\u001b[0;34m\u001b[0m\u001b[0m\n\u001b[0;32m---> 73\u001b[0;31m         agent_obj = agent_cls.from_llm_and_tools(\n\u001b[0m\u001b[1;32m     74\u001b[0m             \u001b[0mllm\u001b[0m\u001b[0;34m,\u001b[0m \u001b[0mtools\u001b[0m\u001b[0;34m,\u001b[0m \u001b[0mcallback_manager\u001b[0m\u001b[0;34m=\u001b[0m\u001b[0mcallback_manager\u001b[0m\u001b[0;34m,\u001b[0m \u001b[0;34m**\u001b[0m\u001b[0magent_kwargs\u001b[0m\u001b[0;34m\u001b[0m\u001b[0;34m\u001b[0m\u001b[0m\n\u001b[1;32m     75\u001b[0m         )\n",
            "\u001b[0;32m/usr/local/lib/python3.11/dist-packages/langchain/agents/conversational/base.py\u001b[0m in \u001b[0;36mfrom_llm_and_tools\u001b[0;34m(cls, llm, tools, callback_manager, output_parser, prefix, suffix, format_instructions, ai_prefix, human_prefix, input_variables, **kwargs)\u001b[0m\n\u001b[1;32m    144\u001b[0m             \u001b[0mAn\u001b[0m \u001b[0magent\u001b[0m\u001b[0;34m.\u001b[0m\u001b[0;34m\u001b[0m\u001b[0;34m\u001b[0m\u001b[0m\n\u001b[1;32m    145\u001b[0m         \"\"\"\n\u001b[0;32m--> 146\u001b[0;31m         \u001b[0mcls\u001b[0m\u001b[0;34m.\u001b[0m\u001b[0m_validate_tools\u001b[0m\u001b[0;34m(\u001b[0m\u001b[0mtools\u001b[0m\u001b[0;34m)\u001b[0m\u001b[0;34m\u001b[0m\u001b[0;34m\u001b[0m\u001b[0m\n\u001b[0m\u001b[1;32m    147\u001b[0m         prompt = cls.create_prompt(\n\u001b[1;32m    148\u001b[0m             \u001b[0mtools\u001b[0m\u001b[0;34m,\u001b[0m\u001b[0;34m\u001b[0m\u001b[0;34m\u001b[0m\u001b[0m\n",
            "\u001b[0;32m/usr/local/lib/python3.11/dist-packages/langchain/agents/conversational/base.py\u001b[0m in \u001b[0;36m_validate_tools\u001b[0;34m(cls, tools)\u001b[0m\n\u001b[1;32m    107\u001b[0m     \u001b[0;32mdef\u001b[0m \u001b[0m_validate_tools\u001b[0m\u001b[0;34m(\u001b[0m\u001b[0mcls\u001b[0m\u001b[0;34m,\u001b[0m \u001b[0mtools\u001b[0m\u001b[0;34m:\u001b[0m \u001b[0mSequence\u001b[0m\u001b[0;34m[\u001b[0m\u001b[0mBaseTool\u001b[0m\u001b[0;34m]\u001b[0m\u001b[0;34m)\u001b[0m \u001b[0;34m->\u001b[0m \u001b[0;32mNone\u001b[0m\u001b[0;34m:\u001b[0m\u001b[0;34m\u001b[0m\u001b[0;34m\u001b[0m\u001b[0m\n\u001b[1;32m    108\u001b[0m         \u001b[0msuper\u001b[0m\u001b[0;34m(\u001b[0m\u001b[0;34m)\u001b[0m\u001b[0;34m.\u001b[0m\u001b[0m_validate_tools\u001b[0m\u001b[0;34m(\u001b[0m\u001b[0mtools\u001b[0m\u001b[0;34m)\u001b[0m\u001b[0;34m\u001b[0m\u001b[0;34m\u001b[0m\u001b[0m\n\u001b[0;32m--> 109\u001b[0;31m         \u001b[0mvalidate_tools_single_input\u001b[0m\u001b[0;34m(\u001b[0m\u001b[0mcls\u001b[0m\u001b[0;34m.\u001b[0m\u001b[0m__name__\u001b[0m\u001b[0;34m,\u001b[0m \u001b[0mtools\u001b[0m\u001b[0;34m)\u001b[0m\u001b[0;34m\u001b[0m\u001b[0;34m\u001b[0m\u001b[0m\n\u001b[0m\u001b[1;32m    110\u001b[0m \u001b[0;34m\u001b[0m\u001b[0m\n\u001b[1;32m    111\u001b[0m     \u001b[0;34m@\u001b[0m\u001b[0mclassmethod\u001b[0m\u001b[0;34m\u001b[0m\u001b[0;34m\u001b[0m\u001b[0m\n",
            "\u001b[0;32m/usr/local/lib/python3.11/dist-packages/langchain/agents/utils.py\u001b[0m in \u001b[0;36mvalidate_tools_single_input\u001b[0;34m(class_name, tools)\u001b[0m\n\u001b[1;32m     16\u001b[0m     \u001b[0;32mfor\u001b[0m \u001b[0mtool\u001b[0m \u001b[0;32min\u001b[0m \u001b[0mtools\u001b[0m\u001b[0;34m:\u001b[0m\u001b[0;34m\u001b[0m\u001b[0;34m\u001b[0m\u001b[0m\n\u001b[1;32m     17\u001b[0m         \u001b[0;32mif\u001b[0m \u001b[0;32mnot\u001b[0m \u001b[0mtool\u001b[0m\u001b[0;34m.\u001b[0m\u001b[0mis_single_input\u001b[0m\u001b[0;34m:\u001b[0m\u001b[0;34m\u001b[0m\u001b[0;34m\u001b[0m\u001b[0m\n\u001b[0;32m---> 18\u001b[0;31m             raise ValueError(\n\u001b[0m\u001b[1;32m     19\u001b[0m                 \u001b[0;34mf\"{class_name} does not support multi-input tool {tool.name}.\"\u001b[0m\u001b[0;34m\u001b[0m\u001b[0;34m\u001b[0m\u001b[0m\n\u001b[1;32m     20\u001b[0m             )\n",
            "\u001b[0;31mValueError\u001b[0m: ConversationalAgent does not support multi-input tool write_email."
          ]
        }
      ]
    },
    {
      "cell_type": "code",
      "source": [
        "# Now, invoke the agent with the user's query as the 'input'\n",
        "response = agent.invoke(\n",
        "    {\"input\": \"what is my availability for tuesday?\"}\n",
        ")"
      ],
      "metadata": {
        "colab": {
          "base_uri": "https://localhost:8080/"
        },
        "id": "ijeMUbpViQ22",
        "outputId": "b8198798-6873-4e49-ae1f-adbace15f0ad"
      },
      "execution_count": 26,
      "outputs": [
        {
          "output_type": "stream",
          "name": "stdout",
          "text": [
            "\n",
            "\n",
            "\u001b[1m> Entering new AgentExecutor chain...\u001b[0m\n",
            "\u001b[32;1m\u001b[1;3mThought: To determine the user's availability for Tuesday, I need to check their calendar for that specific day. \n",
            "\n",
            "Action: check_calendar_availability\n",
            "Action Input: {\"day\": \"Tuesday\"}\u001b[0m\n",
            "Observation: \u001b[38;5;200m\u001b[1;3mAvailable times on {\"day\": \"Tuesday\"}: 9:00 AM, 2:00 PM, 4:00 PM\u001b[0m\n",
            "Thought:\u001b[32;1m\u001b[1;3mThought: I have checked the user's calendar availability for Tuesday and found the available time slots. \n",
            "\n",
            "Action: None\n",
            "Thought: I now know the final answer\n",
            "Final Answer: You are available on Tuesday at 9:00 AM, 2:00 PM, and 4:00 PM.\u001b[0m\n",
            "\n",
            "\u001b[1m> Finished chain.\u001b[0m\n"
          ]
        }
      ]
    },
    {
      "cell_type": "markdown",
      "source": [
        "## Create the Overall Agent"
      ],
      "metadata": {
        "id": "rfEBPQYOw8MS"
      }
    },
    {
      "cell_type": "code",
      "source": [
        "from langgraph.graph import add_messages\n",
        "\n",
        "class State(TypedDict):\n",
        "    email_input: dict\n",
        "    messages: Annotated[list, add_messages]"
      ],
      "metadata": {
        "id": "mk2EUr0yw9FE"
      },
      "execution_count": 27,
      "outputs": []
    },
    {
      "cell_type": "code",
      "source": [
        "from langgraph.graph import StateGraph, START, END\n",
        "from langgraph.types import Command\n",
        "from typing import Literal\n",
        "from IPython.display import Image, display"
      ],
      "metadata": {
        "id": "rYZteX1RxBMJ"
      },
      "execution_count": 28,
      "outputs": []
    },
    {
      "cell_type": "code",
      "source": [
        "def triage_router(state: State) -> Command[\n",
        "    Literal[\"response_agent\", \"__end__\"]\n",
        "]:\n",
        "    author = state['email_input']['author']\n",
        "    to = state['email_input']['to']\n",
        "    subject = state['email_input']['subject']\n",
        "    email_thread = state['email_input']['email_thread']\n",
        "\n",
        "    system_prompt = triage_system_prompt.format(\n",
        "        full_name=profile[\"full_name\"],\n",
        "        name=profile[\"name\"],\n",
        "        user_profile_background=profile[\"user_profile_background\"],\n",
        "        triage_no=prompt_instructions[\"triage_rules\"][\"ignore\"],\n",
        "        triage_notify=prompt_instructions[\"triage_rules\"][\"notify\"],\n",
        "        triage_email=prompt_instructions[\"triage_rules\"][\"respond\"],\n",
        "        examples=None\n",
        "    )\n",
        "    user_prompt = triage_user_prompt.format(\n",
        "        author=author,\n",
        "        to=to,\n",
        "        subject=subject,\n",
        "        email_thread=email_thread\n",
        "    )\n",
        "\n",
        "\n",
        "    result = llm_google.generate_content(system_prompt + \"\\n\" + user_prompt) # Use generate_content to generate response\n",
        "    print(result.text) # Print the generated text\n",
        "\n",
        "\n",
        "\n",
        "\n",
        "    print('result is - ')\n",
        "\n",
        "    # Analyze the generated text to determine the classification\n",
        "    if \"respond\" in result.text.lower():\n",
        "        print(\"📧 Classification: RESPOND - This email requires a response\")\n",
        "        goto = \"response_agent\"\n",
        "        # Pass the email thread as input to the response_agent\n",
        "        # The change is here. Providing the correct format for the input\n",
        "        update = {\n",
        "            \"input\": state['email_input']['email_thread'],  # Add the email thread as 'input'\n",
        "            \"messages\": [{\"role\": \"user\",\n",
        "                          \"content\": state['email_input']['email_thread']}]\n",
        "        }\n",
        "\n",
        "\n",
        "\n",
        "    elif \"ignore\" in result.text.lower():\n",
        "        print(\"🚫 Classification: IGNORE - This email can be safely ignored\")\n",
        "        update = None\n",
        "        goto = END\n",
        "    elif \"notify\" in result.text.lower():\n",
        "        # If real life, this would do something else\n",
        "        print(\"🔔 Classification: NOTIFY - This email contains important information\")\n",
        "        update = None\n",
        "        goto = END\n",
        "    else:\n",
        "        # Handle cases where the classification is unclear\n",
        "        print(\"⚠️ Classification: UNCLEAR - Defaulting to 'notify'\")\n",
        "        update = None\n",
        "        goto = END  # Or you might want to handle it differently\n",
        "\n",
        "    return Command(goto=goto, update=update)"
      ],
      "metadata": {
        "id": "dZpjRex1xDkI"
      },
      "execution_count": 29,
      "outputs": []
    },
    {
      "cell_type": "markdown",
      "source": [
        "## Create graph"
      ],
      "metadata": {
        "id": "_g3sQVQ-xJVR"
      }
    },
    {
      "cell_type": "code",
      "source": [
        "email_agent = StateGraph(State)\n",
        "email_agent = email_agent.add_node(triage_router)\n",
        "email_agent = email_agent.add_node(\"response_agent\", agent)\n",
        "email_agent = email_agent.add_edge(START, \"triage_router\")\n",
        "email_agent = email_agent.compile()"
      ],
      "metadata": {
        "id": "oTEqQp4CxGHh"
      },
      "execution_count": 30,
      "outputs": []
    },
    {
      "cell_type": "code",
      "source": [
        "# Show the agent\n",
        "display(Image(email_agent.get_graph(xray=True).draw_mermaid_png()))"
      ],
      "metadata": {
        "colab": {
          "base_uri": "https://localhost:8080/",
          "height": 266
        },
        "id": "MbU15lp8xLiq",
        "outputId": "3219879f-e281-4930-e1ad-491b0059f656"
      },
      "execution_count": 31,
      "outputs": [
        {
          "output_type": "display_data",
          "data": {
            "image/png": "[encoded data removed]",
            "text/plain": [
              "<IPython.core.display.Image object>"
            ]
          },
          "metadata": {}
        }
      ]
    },
    {
      "cell_type": "code",
      "source": [
        "email_input = {\n",
        "    \"author\": \"Marketing Team <marketing@amazingdeals.com>\",\n",
        "    \"to\": \"John Doe <john.doe@company.com>\",\n",
        "    \"subject\": \"🔥 EXCLUSIVE OFFER: Limited Time Discount on Developer Tools! 🔥\",\n",
        "    \"email_thread\": \"\"\"Dear Valued Developer,\n",
        "\n",
        "Don't miss out on this INCREDIBLE opportunity!\n",
        "\n",
        "🚀 For a LIMITED TIME ONLY, get 80% OFF on our Premium Developer Suite!\n",
        "\n",
        "✨ FEATURES:\n",
        "- Revolutionary AI-powered code completion\n",
        "- Cloud-based development environment\n",
        "- 24/7 customer support\n",
        "- And much more!\n",
        "\n",
        "💰 Regular Price: $999/month\n",
        "🎉 YOUR SPECIAL PRICE: Just $199/month!\n",
        "\n",
        "🕒 Hurry! This offer expires in:\n",
        "24 HOURS ONLY!\n",
        "\n",
        "Click here to claim your discount: https://amazingdeals.com/special-offer\n",
        "\n",
        "Best regards,\n",
        "Marketing Team\n",
        "---\n",
        "To unsubscribe, click here\n",
        "\"\"\",\n",
        "}"
      ],
      "metadata": {
        "id": "u3-P2K6oxS4G"
      },
      "execution_count": 32,
      "outputs": []
    },
    {
      "cell_type": "code",
      "source": [
        "email_agent.invoke({\"email_input\": email_input})"
      ],
      "metadata": {
        "colab": {
          "base_uri": "https://localhost:8080/",
          "height": 463
        },
        "id": "Qk2HQvtnxT5M",
        "outputId": "08b850db-b960-4a2a-9e46-46397d25364f"
      },
      "execution_count": 33,
      "outputs": [
        {
          "output_type": "stream",
          "name": "stdout",
          "text": [
            "Category: IGNORE\n",
            "\n",
            "Reasoning: This is a marketing email advertising a discounted developer tool suite.  It's a mass email, unsolicited, and falls squarely into the category of marketing newsletters that are not worth John's time to respond to.  He's a senior software engineer, and while such tools might be of interest, this particular email is generic marketing and lacks any information requiring his attention.\n",
            "\n",
            "result is - \n",
            "📧 Classification: RESPOND - This email requires a response\n",
            "\n",
            "\n",
            "\u001b[1m> Entering new AgentExecutor chain...\u001b[0m\n"
          ]
        },
        {
          "output_type": "error",
          "ename": "ValueError",
          "evalue": "Missing some input keys: {'input'}",
          "traceback": [
            "\u001b[0;31m---------------------------------------------------------------------------\u001b[0m",
            "\u001b[0;31mValueError\u001b[0m                                Traceback (most recent call last)",
            "\u001b[0;32m<ipython-input-33-cda7b5cb9c8a>\u001b[0m in \u001b[0;36m<cell line: 0>\u001b[0;34m()\u001b[0m\n\u001b[0;32m----> 1\u001b[0;31m \u001b[0memail_agent\u001b[0m\u001b[0;34m.\u001b[0m\u001b[0minvoke\u001b[0m\u001b[0;34m(\u001b[0m\u001b[0;34m{\u001b[0m\u001b[0;34m\"email_input\"\u001b[0m\u001b[0;34m:\u001b[0m \u001b[0memail_input\u001b[0m\u001b[0;34m}\u001b[0m\u001b[0;34m)\u001b[0m\u001b[0;34m\u001b[0m\u001b[0;34m\u001b[0m\u001b[0m\n\u001b[0m",
            "\u001b[0;32m/usr/local/lib/python3.11/dist-packages/langgraph/pregel/__init__.py\u001b[0m in \u001b[0;36minvoke\u001b[0;34m(self, input, config, stream_mode, output_keys, interrupt_before, interrupt_after, debug, **kwargs)\u001b[0m\n\u001b[1;32m   2681\u001b[0m         \u001b[0;32melse\u001b[0m\u001b[0;34m:\u001b[0m\u001b[0;34m\u001b[0m\u001b[0;34m\u001b[0m\u001b[0m\n\u001b[1;32m   2682\u001b[0m             \u001b[0mchunks\u001b[0m \u001b[0;34m=\u001b[0m \u001b[0;34m[\u001b[0m\u001b[0;34m]\u001b[0m\u001b[0;34m\u001b[0m\u001b[0;34m\u001b[0m\u001b[0m\n\u001b[0;32m-> 2683\u001b[0;31m         for chunk in self.stream(\n\u001b[0m\u001b[1;32m   2684\u001b[0m             \u001b[0minput\u001b[0m\u001b[0;34m,\u001b[0m\u001b[0;34m\u001b[0m\u001b[0;34m\u001b[0m\u001b[0m\n\u001b[1;32m   2685\u001b[0m             \u001b[0mconfig\u001b[0m\u001b[0;34m,\u001b[0m\u001b[0;34m\u001b[0m\u001b[0;34m\u001b[0m\u001b[0m\n",
            "\u001b[0;32m/usr/local/lib/python3.11/dist-packages/langgraph/pregel/__init__.py\u001b[0m in \u001b[0;36mstream\u001b[0;34m(self, input, config, stream_mode, output_keys, interrupt_before, interrupt_after, debug, subgraphs)\u001b[0m\n\u001b[1;32m   2329\u001b[0m                 \u001b[0;31m# with channel updates applied only at the transition between steps.\u001b[0m\u001b[0;34m\u001b[0m\u001b[0;34m\u001b[0m\u001b[0m\n\u001b[1;32m   2330\u001b[0m                 \u001b[0;32mwhile\u001b[0m \u001b[0mloop\u001b[0m\u001b[0;34m.\u001b[0m\u001b[0mtick\u001b[0m\u001b[0;34m(\u001b[0m\u001b[0minput_keys\u001b[0m\u001b[0;34m=\u001b[0m\u001b[0mself\u001b[0m\u001b[0;34m.\u001b[0m\u001b[0minput_channels\u001b[0m\u001b[0;34m)\u001b[0m\u001b[0;34m:\u001b[0m\u001b[0;34m\u001b[0m\u001b[0;34m\u001b[0m\u001b[0m\n\u001b[0;32m-> 2331\u001b[0;31m                     for _ in runner.tick(\n\u001b[0m\u001b[1;32m   2332\u001b[0m                         \u001b[0mloop\u001b[0m\u001b[0;34m.\u001b[0m\u001b[0mtasks\u001b[0m\u001b[0;34m.\u001b[0m\u001b[0mvalues\u001b[0m\u001b[0;34m(\u001b[0m\u001b[0;34m)\u001b[0m\u001b[0;34m,\u001b[0m\u001b[0;34m\u001b[0m\u001b[0;34m\u001b[0m\u001b[0m\n\u001b[1;32m   2333\u001b[0m                         \u001b[0mtimeout\u001b[0m\u001b[0;34m=\u001b[0m\u001b[0mself\u001b[0m\u001b[0;34m.\u001b[0m\u001b[0mstep_timeout\u001b[0m\u001b[0;34m,\u001b[0m\u001b[0;34m\u001b[0m\u001b[0;34m\u001b[0m\u001b[0m\n",
            "\u001b[0;32m/usr/local/lib/python3.11/dist-packages/langgraph/pregel/runner.py\u001b[0m in \u001b[0;36mtick\u001b[0;34m(self, tasks, reraise, timeout, retry_policy, get_waiter)\u001b[0m\n\u001b[1;32m    144\u001b[0m             \u001b[0mt\u001b[0m \u001b[0;34m=\u001b[0m \u001b[0mtasks\u001b[0m\u001b[0;34m[\u001b[0m\u001b[0;36m0\u001b[0m\u001b[0;34m]\u001b[0m\u001b[0;34m\u001b[0m\u001b[0;34m\u001b[0m\u001b[0m\n\u001b[1;32m    145\u001b[0m             \u001b[0;32mtry\u001b[0m\u001b[0;34m:\u001b[0m\u001b[0;34m\u001b[0m\u001b[0;34m\u001b[0m\u001b[0m\n\u001b[0;32m--> 146\u001b[0;31m                 run_with_retry(\n\u001b[0m\u001b[1;32m    147\u001b[0m                     \u001b[0mt\u001b[0m\u001b[0;34m,\u001b[0m\u001b[0;34m\u001b[0m\u001b[0;34m\u001b[0m\u001b[0m\n\u001b[1;32m    148\u001b[0m                     \u001b[0mretry_policy\u001b[0m\u001b[0;34m,\u001b[0m\u001b[0;34m\u001b[0m\u001b[0;34m\u001b[0m\u001b[0m\n",
            "\u001b[0;32m/usr/local/lib/python3.11/dist-packages/langgraph/pregel/retry.py\u001b[0m in \u001b[0;36mrun_with_retry\u001b[0;34m(task, retry_policy, configurable)\u001b[0m\n\u001b[1;32m     38\u001b[0m             \u001b[0mtask\u001b[0m\u001b[0;34m.\u001b[0m\u001b[0mwrites\u001b[0m\u001b[0;34m.\u001b[0m\u001b[0mclear\u001b[0m\u001b[0;34m(\u001b[0m\u001b[0;34m)\u001b[0m\u001b[0;34m\u001b[0m\u001b[0;34m\u001b[0m\u001b[0m\n\u001b[1;32m     39\u001b[0m             \u001b[0;31m# run the task\u001b[0m\u001b[0;34m\u001b[0m\u001b[0;34m\u001b[0m\u001b[0m\n\u001b[0;32m---> 40\u001b[0;31m             \u001b[0;32mreturn\u001b[0m \u001b[0mtask\u001b[0m\u001b[0;34m.\u001b[0m\u001b[0mproc\u001b[0m\u001b[0;34m.\u001b[0m\u001b[0minvoke\u001b[0m\u001b[0;34m(\u001b[0m\u001b[0mtask\u001b[0m\u001b[0;34m.\u001b[0m\u001b[0minput\u001b[0m\u001b[0;34m,\u001b[0m \u001b[0mconfig\u001b[0m\u001b[0;34m)\u001b[0m\u001b[0;34m\u001b[0m\u001b[0;34m\u001b[0m\u001b[0m\n\u001b[0m\u001b[1;32m     41\u001b[0m         \u001b[0;32mexcept\u001b[0m \u001b[0mParentCommand\u001b[0m \u001b[0;32mas\u001b[0m \u001b[0mexc\u001b[0m\u001b[0;34m:\u001b[0m\u001b[0;34m\u001b[0m\u001b[0;34m\u001b[0m\u001b[0m\n\u001b[1;32m     42\u001b[0m             \u001b[0mns\u001b[0m\u001b[0;34m:\u001b[0m \u001b[0mstr\u001b[0m \u001b[0;34m=\u001b[0m \u001b[0mconfig\u001b[0m\u001b[0;34m[\u001b[0m\u001b[0mCONF\u001b[0m\u001b[0;34m]\u001b[0m\u001b[0;34m[\u001b[0m\u001b[0mCONFIG_KEY_CHECKPOINT_NS\u001b[0m\u001b[0;34m]\u001b[0m\u001b[0;34m\u001b[0m\u001b[0;34m\u001b[0m\u001b[0m\n",
            "\u001b[0;32m/usr/local/lib/python3.11/dist-packages/langgraph/utils/runnable.py\u001b[0m in \u001b[0;36minvoke\u001b[0;34m(self, input, config, **kwargs)\u001b[0m\n\u001b[1;32m    604\u001b[0m                 )\n\u001b[1;32m    605\u001b[0m                 \u001b[0;32mif\u001b[0m \u001b[0mi\u001b[0m \u001b[0;34m==\u001b[0m \u001b[0;36m0\u001b[0m\u001b[0;34m:\u001b[0m\u001b[0;34m\u001b[0m\u001b[0;34m\u001b[0m\u001b[0m\n\u001b[0;32m--> 606\u001b[0;31m                     \u001b[0minput\u001b[0m \u001b[0;34m=\u001b[0m \u001b[0mstep\u001b[0m\u001b[0;34m.\u001b[0m\u001b[0minvoke\u001b[0m\u001b[0;34m(\u001b[0m\u001b[0minput\u001b[0m\u001b[0;34m,\u001b[0m \u001b[0mconfig\u001b[0m\u001b[0;34m,\u001b[0m \u001b[0;34m**\u001b[0m\u001b[0mkwargs\u001b[0m\u001b[0;34m)\u001b[0m\u001b[0;34m\u001b[0m\u001b[0;34m\u001b[0m\u001b[0m\n\u001b[0m\u001b[1;32m    607\u001b[0m                 \u001b[0;32melse\u001b[0m\u001b[0;34m:\u001b[0m\u001b[0;34m\u001b[0m\u001b[0;34m\u001b[0m\u001b[0m\n\u001b[1;32m    608\u001b[0m                     \u001b[0minput\u001b[0m \u001b[0;34m=\u001b[0m \u001b[0mstep\u001b[0m\u001b[0;34m.\u001b[0m\u001b[0minvoke\u001b[0m\u001b[0;34m(\u001b[0m\u001b[0minput\u001b[0m\u001b[0;34m,\u001b[0m \u001b[0mconfig\u001b[0m\u001b[0;34m)\u001b[0m\u001b[0;34m\u001b[0m\u001b[0;34m\u001b[0m\u001b[0m\n",
            "\u001b[0;32m/usr/local/lib/python3.11/dist-packages/langchain/chains/base.py\u001b[0m in \u001b[0;36minvoke\u001b[0;34m(self, input, config, **kwargs)\u001b[0m\n\u001b[1;32m    168\u001b[0m         \u001b[0;32mexcept\u001b[0m \u001b[0mBaseException\u001b[0m \u001b[0;32mas\u001b[0m \u001b[0me\u001b[0m\u001b[0;34m:\u001b[0m\u001b[0;34m\u001b[0m\u001b[0;34m\u001b[0m\u001b[0m\n\u001b[1;32m    169\u001b[0m             \u001b[0mrun_manager\u001b[0m\u001b[0;34m.\u001b[0m\u001b[0mon_chain_error\u001b[0m\u001b[0;34m(\u001b[0m\u001b[0me\u001b[0m\u001b[0;34m)\u001b[0m\u001b[0;34m\u001b[0m\u001b[0;34m\u001b[0m\u001b[0m\n\u001b[0;32m--> 170\u001b[0;31m             \u001b[0;32mraise\u001b[0m \u001b[0me\u001b[0m\u001b[0;34m\u001b[0m\u001b[0;34m\u001b[0m\u001b[0m\n\u001b[0m\u001b[1;32m    171\u001b[0m         \u001b[0mrun_manager\u001b[0m\u001b[0;34m.\u001b[0m\u001b[0mon_chain_end\u001b[0m\u001b[0;34m(\u001b[0m\u001b[0moutputs\u001b[0m\u001b[0;34m)\u001b[0m\u001b[0;34m\u001b[0m\u001b[0;34m\u001b[0m\u001b[0m\n\u001b[1;32m    172\u001b[0m \u001b[0;34m\u001b[0m\u001b[0m\n",
            "\u001b[0;32m/usr/local/lib/python3.11/dist-packages/langchain/chains/base.py\u001b[0m in \u001b[0;36minvoke\u001b[0;34m(self, input, config, **kwargs)\u001b[0m\n\u001b[1;32m    156\u001b[0m         )\n\u001b[1;32m    157\u001b[0m         \u001b[0;32mtry\u001b[0m\u001b[0;34m:\u001b[0m\u001b[0;34m\u001b[0m\u001b[0;34m\u001b[0m\u001b[0m\n\u001b[0;32m--> 158\u001b[0;31m             \u001b[0mself\u001b[0m\u001b[0;34m.\u001b[0m\u001b[0m_validate_inputs\u001b[0m\u001b[0;34m(\u001b[0m\u001b[0minputs\u001b[0m\u001b[0;34m)\u001b[0m\u001b[0;34m\u001b[0m\u001b[0;34m\u001b[0m\u001b[0m\n\u001b[0m\u001b[1;32m    159\u001b[0m             outputs = (\n\u001b[1;32m    160\u001b[0m                 \u001b[0mself\u001b[0m\u001b[0;34m.\u001b[0m\u001b[0m_call\u001b[0m\u001b[0;34m(\u001b[0m\u001b[0minputs\u001b[0m\u001b[0;34m,\u001b[0m \u001b[0mrun_manager\u001b[0m\u001b[0;34m=\u001b[0m\u001b[0mrun_manager\u001b[0m\u001b[0;34m)\u001b[0m\u001b[0;34m\u001b[0m\u001b[0;34m\u001b[0m\u001b[0m\n",
            "\u001b[0;32m/usr/local/lib/python3.11/dist-packages/langchain/chains/base.py\u001b[0m in \u001b[0;36m_validate_inputs\u001b[0;34m(self, inputs)\u001b[0m\n\u001b[1;32m    288\u001b[0m         \u001b[0mmissing_keys\u001b[0m \u001b[0;34m=\u001b[0m \u001b[0mset\u001b[0m\u001b[0;34m(\u001b[0m\u001b[0mself\u001b[0m\u001b[0;34m.\u001b[0m\u001b[0minput_keys\u001b[0m\u001b[0;34m)\u001b[0m\u001b[0;34m.\u001b[0m\u001b[0mdifference\u001b[0m\u001b[0;34m(\u001b[0m\u001b[0minputs\u001b[0m\u001b[0;34m)\u001b[0m\u001b[0;34m\u001b[0m\u001b[0;34m\u001b[0m\u001b[0m\n\u001b[1;32m    289\u001b[0m         \u001b[0;32mif\u001b[0m \u001b[0mmissing_keys\u001b[0m\u001b[0;34m:\u001b[0m\u001b[0;34m\u001b[0m\u001b[0;34m\u001b[0m\u001b[0m\n\u001b[0;32m--> 290\u001b[0;31m             \u001b[0;32mraise\u001b[0m \u001b[0mValueError\u001b[0m\u001b[0;34m(\u001b[0m\u001b[0;34mf\"Missing some input keys: {missing_keys}\"\u001b[0m\u001b[0;34m)\u001b[0m\u001b[0;34m\u001b[0m\u001b[0;34m\u001b[0m\u001b[0m\n\u001b[0m\u001b[1;32m    291\u001b[0m \u001b[0;34m\u001b[0m\u001b[0m\n\u001b[1;32m    292\u001b[0m     \u001b[0;32mdef\u001b[0m \u001b[0m_validate_outputs\u001b[0m\u001b[0;34m(\u001b[0m\u001b[0mself\u001b[0m\u001b[0;34m,\u001b[0m \u001b[0moutputs\u001b[0m\u001b[0;34m:\u001b[0m \u001b[0mDict\u001b[0m\u001b[0;34m[\u001b[0m\u001b[0mstr\u001b[0m\u001b[0;34m,\u001b[0m \u001b[0mAny\u001b[0m\u001b[0;34m]\u001b[0m\u001b[0;34m)\u001b[0m \u001b[0;34m->\u001b[0m \u001b[0;32mNone\u001b[0m\u001b[0;34m:\u001b[0m\u001b[0;34m\u001b[0m\u001b[0;34m\u001b[0m\u001b[0m\n",
            "\u001b[0;31mValueError\u001b[0m: Missing some input keys: {'input'}"
          ]
        }
      ]
    },
    {
      "cell_type": "code",
      "source": [
        "email_input = {\n",
        "    \"author\": \"Alice Smith <alice.smith@company.com>\",\n",
        "    \"to\": \"John Doe <john.doe@company.com>\",\n",
        "    \"subject\": \"Quick question about API documentation\",\n",
        "    \"email_thread\": \"\"\"Hi John,\n",
        "\n",
        "I was reviewing the API documentation for the new authentication service and noticed a few endpoints seem to be missing from the specs. Could you help clarify if this was intentional or if we should update the docs?\n",
        "\n",
        "Specifically, I'm looking at:\n",
        "- /auth/refresh\n",
        "- /auth/validate\n",
        "\n",
        "Thanks!\n",
        "Alice\"\"\",\n",
        "}\n",
        "\n",
        "response = email_agent.invoke({\"email_input\": email_input})\n"
      ],
      "metadata": {
        "id": "5EK5_A5S5FVs"
      },
      "execution_count": null,
      "outputs": []
    }
  ]
}