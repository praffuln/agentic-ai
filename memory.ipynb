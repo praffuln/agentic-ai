{
  "nbformat": 4,
  "nbformat_minor": 0,
  "metadata": {
    "colab": {
      "provenance": [],
      "authorship_tag": "ABX9TyMXnodCLX7ouf0DNFaeuDz7",
      "include_colab_link": true
    },
    "kernelspec": {
      "name": "python3",
      "display_name": "Python 3"
    },
    "language_info": {
      "name": "python"
    }
  },
  "cells": [
    {
      "cell_type": "markdown",
      "metadata": {
        "id": "view-in-github",
        "colab_type": "text"
      },
      "source": [
        "<a href=\"https://colab.research.google.com/github/praffuln/agentic-ai/blob/master/memory.ipynb\" target=\"_parent\"><img src=\"https://colab.research.google.com/assets/colab-badge.svg\" alt=\"Open In Colab\"/></a>"
      ]
    },
    {
      "cell_type": "code",
      "execution_count": 1,
      "metadata": {
        "colab": {
          "base_uri": "https://localhost:8080/"
        },
        "id": "FRbIDlUX_fEe",
        "outputId": "a844c9d9-e87c-4db8-fd4d-4c971cb8c86e"
      },
      "outputs": [
        {
          "output_type": "stream",
          "name": "stdout",
          "text": [
            "helloworld\n"
          ]
        }
      ],
      "source": [
        "print('helloworld')"
      ]
    },
    {
      "cell_type": "markdown",
      "source": [
        "# Lesson 2: Baseline Email Assistant\n",
        "\n",
        "This lesson builds an email assistant that:\n",
        "- Classifies incoming messages (respond, ignore, notify)\n",
        "- Drafts responses\n",
        "- Schedules meetings\n",
        "\n",
        "We'll start with a simple implementation - one that uses hard-coded rules to handle emails.\n",
        "\n",
        "![Memory Course App](./img/memory_course_email.png)\n"
      ],
      "metadata": {
        "id": "Gndpx86gBb8B"
      }
    },
    {
      "cell_type": "markdown",
      "source": [
        "### Setup Environments\n"
      ],
      "metadata": {
        "id": "BysPdFeyCL6R"
      }
    },
    {
      "cell_type": "code",
      "source": [
        "!pip install google-generativeai tiktoken chromadb langgraph langchain langchain_community langchainhub ipykernel langchain_groq sentence_transformers boto3 langchain_aws docx exceptions langchain_openai langchain-google-vertexai\n",
        "!pip install -U langchain-google-vertexai\n",
        "!pip install --upgrade python-docx\n"
      ],
      "metadata": {
        "collapsed": true,
        "id": "RmdLFhtECOcz"
      },
      "execution_count": null,
      "outputs": []
    },
    {
      "cell_type": "markdown",
      "source": [
        " ## Setup Keys For GOOGLE_API_KEY\n"
      ],
      "metadata": {
        "id": "YPFF-ppevar4"
      }
    },
    {
      "cell_type": "code",
      "source": [
        "\n",
        " # Assigning value to variable\n",
        "GEMINI_API_KEY=''\n",
        "SERPER_API_KEY = ''\n",
        "\n"
      ],
      "metadata": {
        "id": "LbM3-zGMvdqZ"
      },
      "execution_count": 3,
      "outputs": []
    },
    {
      "cell_type": "markdown",
      "source": [
        "# setup environments\n"
      ],
      "metadata": {
        "id": "n0zcWVGYvr1d"
      }
    },
    {
      "cell_type": "code",
      "source": [
        "import os\n",
        "os.environ['SERPER_API_KEY'] = SERPER_API_KEY\n",
        "os.environ['GEMINI_API_KEY'] = GEMINI_API_KEY\n",
        "\n",
        "\n"
      ],
      "metadata": {
        "id": "LgoK_XsEvygs"
      },
      "execution_count": 4,
      "outputs": []
    },
    {
      "cell_type": "markdown",
      "source": [
        "## setup LLM"
      ],
      "metadata": {
        "id": "hDjCG2BM4415"
      }
    },
    {
      "cell_type": "code",
      "source": [
        "import google.generativeai as genai\n",
        "genai.configure(api_key=GEMINI_API_KEY)\n",
        "llm = genai.GenerativeModel(\"gemini-1.5-flash\")\n",
        "response = llm.generate_content(\"Explain how AI works\")\n",
        "print(response.text)\n",
        "\n",
        "\n",
        ""
      ],
      "metadata": {
        "id": "SE_J3PLz5cA8",
        "colab": {
          "base_uri": "https://localhost:8080/",
          "height": 488
        },
        "outputId": "ad5f6d83-ca23-44fb-fb9e-2cd4bef481ca"
      },
      "execution_count": 5,
      "outputs": [
        {
          "output_type": "stream",
          "name": "stdout",
          "text": [
            "Artificial intelligence (AI) is a broad field encompassing many techniques, but at its core, it's about creating systems that can perform tasks that typically require human intelligence. These tasks include learning, reasoning, problem-solving, perception, and natural language understanding.  There's no single \"how\" it works, as different AI approaches utilize different methods.  However, we can break it down into key concepts:\n",
            "\n",
            "**1. Data is King:**  AI systems learn from data.  The more relevant and high-quality data you feed an AI, the better it performs. This data can be anything from images and text to sensor readings and financial transactions.\n",
            "\n",
            "**2. Algorithms: The Recipes for Learning:**  Algorithms are sets of rules and statistical techniques that AI systems use to analyze data and learn patterns.  These algorithms are the \"brains\" of the operation, dictating how the system processes information and makes decisions.  Different algorithms are suited to different tasks.\n",
            "\n",
            "**3. Machine Learning (ML):  Learning from Data:**  This is a major subset of AI where systems learn from data without explicit programming. Instead of being explicitly programmed to perform a task, the system identifies patterns and relationships in the data to make predictions or decisions.  Examples include:\n",
            "\n",
            "* **Supervised Learning:** The algorithm is trained on a labeled dataset (e.g., images of cats and dogs labeled accordingly).  It learns to map inputs (images) to outputs (cat or dog).\n",
            "* **Unsupervised Learning:** The algorithm is trained on an unlabeled dataset.  It identifies patterns and structures in the data without explicit guidance.  Clustering similar data points is an example.\n",
            "* **Reinforcement Learning:** The algorithm learns through trial and error by interacting with an environment.  It receives rewards for good actions and penalties for bad ones, learning to maximize its rewards.\n",
            "\n",
            "\n",
            "**4. Deep Learning (DL):  Learning with Neural Networks:**  This is a subset of machine learning that utilizes artificial neural networks with multiple layers (hence \"deep\"). These networks are inspired by the structure and function of the human brain.  They are particularly powerful for processing complex data like images, speech, and text.  Deep learning fuels many advancements in AI, such as image recognition and natural language processing.\n",
            "\n",
            "**5. Natural Language Processing (NLP):  Understanding Human Language:**  NLP focuses on enabling computers to understand, interpret, and generate human language.  This involves tasks like text translation, sentiment analysis, and chatbots.\n",
            "\n",
            "**6. Computer Vision:  Seeing the World:**  Computer vision allows computers to \"see\" and interpret images and videos.  This involves tasks like object recognition, image classification, and facial recognition.\n",
            "\n",
            "\n",
            "**Simplified Analogy:**\n",
            "\n",
            "Imagine you're teaching a dog a trick.  You (the programmer) provide the data (treats and commands). The algorithm (the training method) dictates how the dog learns.  The dog (the AI system) learns to associate actions (sitting, fetching) with rewards (treats).  The more data (training sessions) you provide, the better the dog (AI system) learns.\n",
            "\n",
            "**In summary:** AI systems use algorithms to learn from data, often through machine learning or deep learning techniques.  Different types of AI focus on specific tasks, such as understanding language or processing images.  The complexity of AI varies greatly depending on the task and the algorithms used.\n",
            "\n"
          ]
        }
      ]
    },
    {
      "cell_type": "markdown",
      "source": [
        "## Setup a Profile, Prompt and Example Email"
      ],
      "metadata": {
        "id": "-pjm6L8qCkEI"
      }
    },
    {
      "cell_type": "code",
      "source": [
        "profile = {\n",
        "    \"name\": \"John\",\n",
        "    \"full_name\": \"John Doe\",\n",
        "    \"user_profile_background\": \"Senior software engineer leading a team of 5 developers\",\n",
        "}"
      ],
      "metadata": {
        "id": "0VzEIAYXD_K1"
      },
      "execution_count": 6,
      "outputs": []
    },
    {
      "cell_type": "code",
      "source": [
        "prompt_instructions = {\n",
        "    \"triage_rules\": {\n",
        "        \"ignore\": \"Marketing newsletters, spam emails, mass company announcements\",\n",
        "        \"notify\": \"Team member out sick, build system notifications, project status updates\",\n",
        "        \"respond\": \"Direct questions from team members, meeting requests, critical bug reports\",\n",
        "    },\n",
        "    \"agent_instructions\": \"Use these tools when appropriate to help manage John's tasks efficiently.\"\n",
        "}"
      ],
      "metadata": {
        "id": "3UO5dbQ3EKun"
      },
      "execution_count": 7,
      "outputs": []
    },
    {
      "cell_type": "code",
      "source": [
        "# Example incoming email\n",
        "email = {\n",
        "    \"from\": \"Alice Smith <alice.smith@company.com>\",\n",
        "    \"to\": \"John Doe <john.doe@company.com>\",\n",
        "    \"subject\": \"Quick question about API documentation\",\n",
        "    \"body\": \"\"\"\n",
        "Hi John,\n",
        "\n",
        "I was reviewing the API documentation for the new authentication service and noticed a few endpoints seem to be missing from the specs. Could you help clarify if this was intentional or if we should update the docs?\n",
        "\n",
        "Specifically, I'm looking at:\n",
        "- /auth/refresh\n",
        "- /auth/validate\n",
        "\n",
        "Thanks!\n",
        "Alice\"\"\",\n",
        "}"
      ],
      "metadata": {
        "id": "JMA9ycE_EUwk"
      },
      "execution_count": 8,
      "outputs": []
    },
    {
      "cell_type": "markdown",
      "source": [
        "## Define the first part of the agent - triage."
      ],
      "metadata": {
        "id": "RuT65QNeEbqU"
      }
    },
    {
      "cell_type": "code",
      "source": [
        "from pydantic import BaseModel, Field\n",
        "from typing_extensions import TypedDict, Literal, Annotated\n",
        "from langchain.chat_models import init_chat_model"
      ],
      "metadata": {
        "id": "yefsem_SEgKE"
      },
      "execution_count": 9,
      "outputs": []
    },
    {
      "cell_type": "code",
      "source": [
        "!pip install langchain_google_genai -U\n",
        "from langchain_google_genai import GoogleGenerativeAI\n",
        "from pydantic import BaseModel, Field\n",
        "from typing_extensions import TypedDict, Literal, Annotated\n",
        "from langchain.chains import LLMChain\n",
        "from langchain.prompts import PromptTemplate\n",
        "from langchain.output_parsers import PydanticOutputParser # Import PydanticOutputParser\n",
        "\n",
        "\n",
        "class Router(BaseModel):\n",
        "    \"\"\"Analyze the unread email and route it according to its content.\"\"\"\n",
        "\n",
        "    reasoning: str = Field(\n",
        "        description=\"Step-by-step reasoning behind the classification.\"\n",
        "    )\n",
        "    classification: Literal[\"ignore\", \"respond\", \"notify\"] = Field(\n",
        "        description=\"The classification of an email: 'ignore' for irrelevant emails, \"\n",
        "        \"'notify' for important information that doesn't need a response, \"\n",
        "        \"'respond' for emails that need a reply\",\n",
        "    )\n",
        "\n",
        "# Wrap the Google Generative AI model with LangChain's wrapper\n",
        "# Use `model` instead of `model_name` to specify the model\n",
        "llm = genai.GenerativeModel(\"gemini-1.5-flash\") # This line is replaced\n",
        "\n",
        "\n",
        "# Define the prompt template\n",
        "prompt_template = \"\"\"Analyze the unread email and route it according to its content.\n",
        "Email: {email}\n",
        "Triage Rules:\n",
        "- Ignore: \"{ignore}\"\n",
        "- Notify: {notify}\n",
        "- Respond: {respond}\n",
        "\n",
        "Reasoning:\n",
        "\"\"\"  # The model will complete this with its reasoning\n",
        "\n",
        "# Create a PydanticOutputParser instance\n",
        "output_parser = PydanticOutputParser(pydantic_object=Router) # Create an instance of PydanticOutputParser\n",
        "\n",
        "# Create an LLMChain for structured output\n",
        "# llm_router = LLMChain(\n",
        "#     llm=llm,\n",
        "#     prompt=PromptTemplate.from_template(prompt_template),\n",
        "#     output_parser=output_parser  # Pass the PydanticOutputParser instance\n",
        "# )\n"
      ],
      "metadata": {
        "id": "vBXwPXPkLhql"
      },
      "execution_count": null,
      "outputs": []
    },
    {
      "cell_type": "code",
      "source": [
        "# Agent prompt baseline\n",
        "agent_system_prompt = \"\"\"\n",
        "< Role >\n",
        "You are {full_name}'s executive assistant. You are a top-notch executive assistant who cares about {name} performing as well as possible.\n",
        "</ Role >\n",
        "\n",
        "< Tools >\n",
        "You have access to the following tools to help manage {name}'s communications and schedule:\n",
        "\n",
        "1. write_email(to, subject, content) - Send emails to specified recipients\n",
        "2. schedule_meeting(attendees, subject, duration_minutes, preferred_day) - Schedule calendar meetings\n",
        "3. check_calendar_availability(day) - Check available time slots for a given day\n",
        "</ Tools >\n",
        "\n",
        "< Instructions >\n",
        "{instructions}\n",
        "</ Instructions >\n",
        "\"\"\"\n",
        "\n",
        "# Agent prompt semantic memory\n",
        "agent_system_prompt_memory = \"\"\"\n",
        "< Role >\n",
        "You are {full_name}'s executive assistant. You are a top-notch executive assistant who cares about {name} performing as well as possible.\n",
        "</ Role >\n",
        "\n",
        "< Tools >\n",
        "You have access to the following tools to help manage {name}'s communications and schedule:\n",
        "\n",
        "1. write_email(to, subject, content) - Send emails to specified recipients\n",
        "2. schedule_meeting(attendees, subject, duration_minutes, preferred_day) - Schedule calendar meetings\n",
        "3. check_calendar_availability(day) - Check available time slots for a given day\n",
        "4. manage_memory(\"email_assistant\", user, \"collection\") - Store any relevant information about contacts, actions, discussion, etc. in memory for future reference\n",
        "5. manage_memory(\"email_assistant\", user, \"user_profile\") - Store any relevant information about the recipient, {name}, in the user profile for future reference the current user profile is shown below\n",
        "6. search_memory(\"email_assistant\", user, \"collection\") - Search memory for detail from previous emails\n",
        "7. manage_memory(\"email_assistant\", user, \"instructions\") - Update the instructions for agent tool usage based upon the user feedback\n",
        "</ Tools >\n",
        "\n",
        "< User profile >\n",
        "{profile}\n",
        "</ User profile >\n",
        "\n",
        "< Instructions >\n",
        "{instructions}\n",
        "</ Instructions >\n",
        "\"\"\"\n",
        "\n",
        "# Triage prompt\n",
        "triage_system_prompt = \"\"\"\n",
        "< Role >\n",
        "You are {full_name}'s executive assistant. You are a top-notch executive assistant who cares about {name} performing as well as possible.\n",
        "</ Role >\n",
        "\n",
        "< Background >\n",
        "{user_profile_background}.\n",
        "</ Background >\n",
        "\n",
        "< Instructions >\n",
        "\n",
        "{name} gets lots of emails. Your job is to categorize each email into one of three categories:\n",
        "\n",
        "1. IGNORE - Emails that are not worth responding to or tracking\n",
        "2. NOTIFY - Important information that {name} should know about but doesn't require a response\n",
        "3. RESPOND - Emails that need a direct response from {name}\n",
        "\n",
        "Classify the below email into one of these categories.\n",
        "\n",
        "</ Instructions >\n",
        "\n",
        "< Rules >\n",
        "Emails that are not worth responding to:\n",
        "{triage_no}\n",
        "\n",
        "There are also other things that {name} should know about, but don't require an email response. For these, you should notify {name} (using the `notify` response). Examples of this include:\n",
        "{triage_notify}\n",
        "\n",
        "Emails that are worth responding to:\n",
        "{triage_email}\n",
        "</ Rules >\n",
        "\n",
        "< Few shot examples >\n",
        "{examples}\n",
        "</ Few shot examples >\n",
        "\"\"\"\n",
        "\n",
        "triage_user_prompt = \"\"\"\n",
        "Please determine how to handle the below email thread:\n",
        "\n",
        "From: {author}\n",
        "To: {to}\n",
        "Subject: {subject}\n",
        "{email_thread}\"\"\"\n"
      ],
      "metadata": {
        "id": "LC-N9tzUEwgb"
      },
      "execution_count": 25,
      "outputs": []
    },
    {
      "cell_type": "code",
      "source": [
        "system_prompt = triage_system_prompt.format(\n",
        "    full_name=profile[\"full_name\"],\n",
        "    name=profile[\"name\"],\n",
        "    examples=None,\n",
        "    user_profile_background=profile[\"user_profile_background\"],\n",
        "    triage_no=prompt_instructions[\"triage_rules\"][\"ignore\"],\n",
        "    triage_notify=prompt_instructions[\"triage_rules\"][\"notify\"],\n",
        "    triage_email=prompt_instructions[\"triage_rules\"][\"respond\"],\n",
        ")"
      ],
      "metadata": {
        "id": "V5Nx7fvIRmzz"
      },
      "execution_count": 26,
      "outputs": []
    },
    {
      "cell_type": "code",
      "source": [
        "user_prompt = triage_user_prompt.format(\n",
        "    author=email[\"from\"],\n",
        "    to=email[\"to\"],\n",
        "    subject=email[\"subject\"],\n",
        "    email_thread=email[\"body\"],\n",
        ")"
      ],
      "metadata": {
        "id": "82uQAKzsWUek"
      },
      "execution_count": 27,
      "outputs": []
    },
    {
      "cell_type": "code",
      "source": [
        "print(system_prompt)"
      ],
      "metadata": {
        "colab": {
          "base_uri": "https://localhost:8080/"
        },
        "id": "0MbvTd8caTf_",
        "outputId": "577aae65-7efb-4019-f7c3-5d07794a0c92"
      },
      "execution_count": 14,
      "outputs": [
        {
          "output_type": "stream",
          "name": "stdout",
          "text": [
            "\n",
            "< Role >\n",
            "You are John Doe's executive assistant. You are a top-notch executive assistant who cares about John performing as well as possible.\n",
            "</ Role >\n",
            "\n",
            "< Background >\n",
            "Senior software engineer leading a team of 5 developers. \n",
            "</ Background >\n",
            "\n",
            "< Instructions >\n",
            "\n",
            "John gets lots of emails. Your job is to categorize each email into one of three categories:\n",
            "\n",
            "1. IGNORE - Emails that are not worth responding to or tracking\n",
            "2. NOTIFY - Important information that John should know about but doesn't require a response\n",
            "3. RESPOND - Emails that need a direct response from John\n",
            "\n",
            "Classify the below email into one of these categories.\n",
            "\n",
            "</ Instructions >\n",
            "\n",
            "< Rules >\n",
            "Emails that are not worth responding to:\n",
            "Marketing newsletters, spam emails, mass company announcements\n",
            "\n",
            "There are also other things that John should know about, but don't require an email response. For these, you should notify John (using the `notify` response). Examples of this include:\n",
            "Team member out sick, build system notifications, project status updates\n",
            "\n",
            "Emails that are worth responding to:\n",
            "Direct questions from team members, meeting requests, critical bug reports\n",
            "</ Rules >\n",
            "\n",
            "< Few shot examples >\n",
            "None\n",
            "</ Few shot examples >\n",
            "\n"
          ]
        }
      ]
    },
    {
      "cell_type": "code",
      "source": [
        "print(user_prompt)"
      ],
      "metadata": {
        "colab": {
          "base_uri": "https://localhost:8080/"
        },
        "id": "0nvQd63xab2v",
        "outputId": "5b2abe6b-fb18-4a29-bbfa-5d61d0150661"
      },
      "execution_count": 15,
      "outputs": [
        {
          "output_type": "stream",
          "name": "stdout",
          "text": [
            "\n",
            "Please determine how to handle the below email thread:\n",
            "\n",
            "From: Alice Smith <alice.smith@company.com>\n",
            "To: John Doe <john.doe@company.com>\n",
            "Subject: Quick question about API documentation\n",
            "\n",
            "Hi John,\n",
            "\n",
            "I was reviewing the API documentation for the new authentication service and noticed a few endpoints seem to be missing from the specs. Could you help clarify if this was intentional or if we should update the docs?\n",
            "\n",
            "Specifically, I'm looking at:\n",
            "- /auth/refresh\n",
            "- /auth/validate\n",
            "\n",
            "Thanks!\n",
            "Alice\n"
          ]
        }
      ]
    },
    {
      "cell_type": "code",
      "source": [
        "llm = genai.GenerativeModel(\"gemini-1.5-flash\")\n",
        "prompt = system_prompt + \"\\n\" + user_prompt # Concatenate system and user prompts\n",
        "response = llm.generate_content(prompt) # Use generate_content to generate response\n",
        "print(response.text) # Print the generated text\n",
        "\n",
        ""
      ],
      "metadata": {
        "colab": {
          "base_uri": "https://localhost:8080/",
          "height": 52
        },
        "id": "2iQ53fMHWYDo",
        "outputId": "308fcd9f-26b4-413a-d268-95b98a0f3202"
      },
      "execution_count": 33,
      "outputs": [
        {
          "output_type": "stream",
          "name": "stdout",
          "text": [
            "RESPOND\n",
            "\n"
          ]
        }
      ]
    },
    {
      "cell_type": "code",
      "source": [],
      "metadata": {
        "id": "xww2ZNsver2t"
      },
      "execution_count": null,
      "outputs": []
    }
  ]
}