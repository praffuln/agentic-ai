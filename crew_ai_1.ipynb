{
  "nbformat": 4,
  "nbformat_minor": 0,
  "metadata": {
    "colab": {
      "provenance": [],
      "authorship_tag": "ABX9TyN/zloI3e8gWHX5fg4nFU5q",
      "include_colab_link": true
    },
    "kernelspec": {
      "name": "python3",
      "display_name": "Python 3"
    },
    "language_info": {
      "name": "python"
    }
  },
  "cells": [
    {
      "cell_type": "markdown",
      "metadata": {
        "id": "view-in-github",
        "colab_type": "text"
      },
      "source": [
        "<a href=\"https://colab.research.google.com/github/praffuln/agentic-ai/blob/master/crew_ai_1.ipynb\" target=\"_parent\"><img src=\"https://colab.research.google.com/assets/colab-badge.svg\" alt=\"Open In Colab\"/></a>"
      ]
    },
    {
      "cell_type": "code",
      "execution_count": null,
      "metadata": {
        "id": "0rtBdmk67Uoa"
      },
      "outputs": [],
      "source": [
        "print('hello world!!')"
      ]
    },
    {
      "cell_type": "code",
      "source": [
        "!python3 --version\n"
      ],
      "metadata": {
        "id": "En6xBadvuBPk",
        "outputId": "fbe6247e-2843-45f4-b528-65cdbae3f03a",
        "colab": {
          "base_uri": "https://localhost:8080/"
        }
      },
      "execution_count": null,
      "outputs": [
        {
          "output_type": "stream",
          "name": "stdout",
          "text": [
            "Python 3.11.11\n"
          ]
        }
      ]
    },
    {
      "cell_type": "code",
      "source": [
        "!pip install 'crewai[tools]' google-generativeai\n"
      ],
      "metadata": {
        "id": "XUPvgZUquE8s"
      },
      "execution_count": null,
      "outputs": []
    },
    {
      "cell_type": "markdown",
      "source": [
        "## Setup Keys For GOOGLE_API_KEY\n"
      ],
      "metadata": {
        "id": "YPFF-ppevar4"
      }
    },
    {
      "cell_type": "code",
      "source": [
        "\n",
        " # Assigning value to variable\n",
        "GEMINI_API_KEY=''\n",
        "SERPER_API_KEY = ''\n",
        "\n"
      ],
      "metadata": {
        "id": "LbM3-zGMvdqZ"
      },
      "execution_count": null,
      "outputs": []
    },
    {
      "cell_type": "markdown",
      "source": [
        "# setup environments\n"
      ],
      "metadata": {
        "id": "n0zcWVGYvr1d"
      }
    },
    {
      "cell_type": "code",
      "source": [
        "import os\n",
        "os.environ['SERPER_API_KEY'] = SERPER_API_KEY\n",
        "os.environ['GEMINI_API_KEY'] = GEMINI_API_KEY\n",
        "\n",
        "\n"
      ],
      "metadata": {
        "id": "LgoK_XsEvygs"
      },
      "execution_count": null,
      "outputs": []
    },
    {
      "cell_type": "markdown",
      "source": [
        "## setup LLM"
      ],
      "metadata": {
        "id": "hDjCG2BM4415"
      }
    },
    {
      "cell_type": "code",
      "source": [
        "from crewai import Agent, Task, Process, Crew, LLM"
      ],
      "metadata": {
        "id": "UcdB75hy47Yq"
      },
      "execution_count": null,
      "outputs": []
    },
    {
      "cell_type": "code",
      "source": [
        "import google.generativeai as genai\n",
        "\n",
        "genai.configure(api_key=GEMINI_API_KEY)\n",
        "model = genai.GenerativeModel(\"gemini-1.5-flash\")\n",
        "response = model.generate_content(\"Explain how AI works\")\n",
        "print(response.text)\n"
      ],
      "metadata": {
        "id": "zfuv4uE3Dj2A"
      },
      "execution_count": null,
      "outputs": []
    },
    {
      "cell_type": "code",
      "source": [
        "llm = LLM(\n",
        "    model=\"gemini/gemini-1.5-flash\",\n",
        "    temperature=0.7\n",
        ")"
      ],
      "metadata": {
        "id": "SE_J3PLz5cA8"
      },
      "execution_count": null,
      "outputs": []
    },
    {
      "cell_type": "code",
      "source": [
        "from crewai import Agent\n",
        "from crewai_tools import SerperDevTool\n",
        "\n",
        "\n",
        "research_agent = Agent(\n",
        "    role=\"Research Analyst\",\n",
        "    goal=\"Find and summarize information about specific topics\",\n",
        "    backstory=\"You are an experienced researcher with attention to detail\",\n",
        "    tools=[SerperDevTool()],\n",
        "    llm=llm,\n",
        "    verbose=True,  # Enable logging for debugging\n",
        ")\n",
        "\n",
        "project_description = \"a clock on the webpage\"\n",
        "\n",
        "requirement_creator_agent = Agent(\n",
        "    role=\"Requirement Creator\",\n",
        "    goal=\"Find the requirement for given project based on {project_description}\",\n",
        "    backstory=\"You are an excillent in search and able to find functional requirement based on project_description\",\n",
        "    tools=[SerperDevTool()],\n",
        "    verbose=True,  # Enable logging for debugging\n",
        "    llm=llm\n",
        ")\n",
        "\n",
        "\n"
      ],
      "metadata": {
        "id": "TdGyp2iX_n2E"
      },
      "execution_count": null,
      "outputs": []
    },
    {
      "cell_type": "code",
      "source": [
        "requirement_creator_task = Task(\n",
        "    name=\"Requirement Creator\",\n",
        "    description=\"This Task creates Functional Requirements based on given {project_description}\",\n",
        "    expected_output=\"\"\"at least a description of functional requirement which is asked by agent.\n",
        "                    List your output as points, you can use below example\n",
        "                    '''\n",
        "                          1. **Search Functionality:**\n",
        "                                * The system shall accept user input (textual queries) via a search bar.\n",
        "                                * The system shall process user queries and generate relevant search results using a generative AI model.  This includes understanding the intent and context of the query, even if it's phrased in an unconventional way.\n",
        "                                * The system shall handle various query types, including keyword searches, question-answering, and complex requests.\n",
        "                                * The system shall support auto-completion and suggestion features to assist users in formulating their queries.\n",
        "                            2. **Result Presentation:**\n",
        "                                * The system shall display search results in a clear, concise, and user-friendly manner.\n",
        "                                * The system shall present diverse result formats, such as summaries, links to relevant web pages, images, videos, and other multimedia content.\n",
        "                            3. **User Interface:**\n",
        "                                * The system shall have a visually appealing and intuitive user interface.\n",
        "                                * The system shall be accessible to users with disabilities, conforming to WCAG guidelines.\n",
        "                            4. **Integration:**\n",
        "                                * The system may integrate with other services or APIs (e.g., knowledge graphs, external databases) to enhance search results and functionality.\n",
        "                                * The system may allow users to save or share search results.\n",
        "                            5. **Performance and Scalability:**\n",
        "                                * The system shall be designed for high availability and scalability to handle a large volume of search queries.\n",
        "                                * The system shall provide quick response times for search queries.\n",
        "                    '''\n",
        "                    \"\"\", # Added expected output\n",
        "    agent=requirement_creator_agent  # Assign the requirement_creator_agent to the task\n",
        ")\n",
        "\n",
        "\n"
      ],
      "metadata": {
        "id": "9QiF73lOAUUI"
      },
      "execution_count": null,
      "outputs": []
    },
    {
      "cell_type": "markdown",
      "source": [
        "# UserStories Creator Agent and Tasks"
      ],
      "metadata": {
        "id": "BGpjUSIyPmin"
      }
    },
    {
      "cell_type": "code",
      "source": [
        "user_stories_creator_agent = Agent(\n",
        "    role=\"User Stories Creator\",\n",
        "    goal=\"Create User Stories for sprint-1 based on requirements\",\n",
        "    backstory=\"You are an excillent in creation of user-stories and able to find create concise user stories with descriptions\",\n",
        "    tools=[SerperDevTool()],\n",
        "    verbose=True,  # Enable logging for debugging\n",
        "    llm=llm\n",
        ")\n",
        "\n",
        "\n",
        "user_stories_creator_task = Task(\n",
        "    name=\"User Stories Creator\",\n",
        "    description=\"This Task creates userstories based on given requirements\",\n",
        "    expected_output=\"\"\"create the userstories for first sprint of given requirements\n",
        "                       - User stories must have proper description should be at least 2 lines and not more than 6 lines.\n",
        "                       - User stories must have proper acceptance criteria\n",
        "                       - User stories should be completely functional\n",
        "                       - User stories should be understandable to anyone including scrum-master, project-owner and developers\n",
        "                    \"\"\", # Added expected output\n",
        "    agent=user_stories_creator_agent  # Assign the requirement_creator_agent to the task\n",
        ")\n",
        "\n",
        "\n",
        "\n"
      ],
      "metadata": {
        "id": "P8aWxAnzPlyg"
      },
      "execution_count": null,
      "outputs": []
    },
    {
      "cell_type": "markdown",
      "source": [
        "# Story Points Estimator Agent and Tasks"
      ],
      "metadata": {
        "id": "LFYOsrJZRyhd"
      }
    },
    {
      "cell_type": "code",
      "source": [
        "story_point_estimator_agent = Agent(\n",
        "    role=\"Story Point Estimator\",\n",
        "    goal=\"Estimate the Story Points based on complexity\",\n",
        "    backstory=\"\"\"You are an excillent in estimate the user stories in any scrum, estimate the stories points based on\n",
        "                  - Story complexity\n",
        "                  - Story efforts\n",
        "                  - Story Functionality\n",
        "                  - Story Development Efforts\n",
        "                  - Story Testing Efforts\n",
        "                  - Story Priority\n",
        "                  - Story descriptions\n",
        "              \"\"\",\n",
        "    verbose=True,  # Enable logging for debugging\n",
        "    llm=llm\n",
        ")\n",
        "\n",
        "\n",
        "story_point_estimator_task = Task(\n",
        "    name=\"User Stories Creator\",\n",
        "    description=\"This Task estimates story points\",\n",
        "    expected_output=\"\"\"\n",
        "                      estimation of story points using a Fibonacci sequence (1, 2, 3, 5, 8, 13...) to represent complexity.\n",
        "                      Estimate the stories points based on\n",
        "                        - Story complexity\n",
        "                        - Story efforts\n",
        "                        - Story Functionality\n",
        "                        - Story Development Efforts\n",
        "                        - Story Testing Efforts\n",
        "                        - Story Priority\n",
        "                        - Story descriptions\n",
        "                      Print your output in table format\n",
        "                      Also print reason for that story point\n",
        "                    \"\"\", # Added expected output\n",
        "    agent=story_point_estimator_agent  # Assign the story_point_estimator_agent to the task\n",
        ")\n",
        "\n",
        "\n",
        "\n"
      ],
      "metadata": {
        "id": "aBtNHVkKRyhe"
      },
      "execution_count": null,
      "outputs": []
    },
    {
      "cell_type": "markdown",
      "source": [
        "# Story tasks creation Agent and task"
      ],
      "metadata": {
        "id": "tPn3uxDeWxaD"
      }
    },
    {
      "cell_type": "code",
      "source": [
        "story_task_creation_agent = Agent(\n",
        "    role=\"Task Creator\",\n",
        "    goal=\"create the story task under each story\",\n",
        "    backstory=\"\"\"You are an excillent in task creation of any given user story, create the task based on userstories description.\n",
        "              \"\"\",\n",
        "    verbose=True,  # Enable logging for debugging\n",
        "    llm=llm\n",
        ")\n",
        "\n",
        "\n",
        "story_task_creation_task = Task(\n",
        "    name=\"Task Creator\",\n",
        "    description=\"This Task creates task under user stories\",\n",
        "    expected_output=\"\"\"\n",
        "                      - create the task based on user-stories description, acceptance criteria and story points.\n",
        "                      - tasks should be # seprated\n",
        "                      - Assign task between kesava, nirmal, asif, tanmaya\n",
        "                      - Print your output in table format.\n",
        "                    \"\"\", # Added expected output\n",
        "    agent=story_task_creation_agent  # Assign the story_point_estimator_agent to the task\n",
        ")\n",
        "\n",
        "\n",
        "\n"
      ],
      "metadata": {
        "id": "0xeAxMcWWxaG"
      },
      "execution_count": null,
      "outputs": []
    },
    {
      "cell_type": "markdown",
      "source": [
        "# Crew tasks and agents"
      ],
      "metadata": {
        "id": "OiB2RhqFR8ON"
      }
    },
    {
      "cell_type": "code",
      "source": [
        "# Create a Crew and add the agent and task directly in the initialization\n",
        "crew = Crew(agents=[requirement_creator_agent, user_stories_creator_agent, story_point_estimator_agent, story_task_creation_agent],\n",
        "            tasks=[requirement_creator_task, user_stories_creator_task, story_point_estimator_task, story_task_creation_task],\n",
        "            process=Process.sequential)\n",
        "\n",
        "# Execute the task using the crew\n",
        "print(project_description)\n",
        "result = crew.kickoff(inputs={\"project_description\" : project_description})\n",
        "\n",
        "# Print the result\n",
        "print(result)\n"
      ],
      "metadata": {
        "id": "X6mIOImhNsFP",
        "outputId": "4f098493-820a-4b0c-c827-bab20a40f270",
        "colab": {
          "base_uri": "https://localhost:8080/"
        }
      },
      "execution_count": null,
      "outputs": [
        {
          "output_type": "stream",
          "name": "stderr",
          "text": [
            "WARNING:opentelemetry.trace:Overriding of current TracerProvider is not allowed\n"
          ]
        },
        {
          "output_type": "stream",
          "name": "stdout",
          "text": [
            "a clock on the webpage\n",
            "\u001b[1m\u001b[95m# Agent:\u001b[00m \u001b[1m\u001b[92mRequirement Creator\u001b[00m\n",
            "\u001b[95m## Task:\u001b[00m \u001b[92mThis Task creates Functional Requirements based on given a clock on the webpage\u001b[00m\n",
            "\n",
            "\n",
            "\u001b[1m\u001b[95m# Agent:\u001b[00m \u001b[1m\u001b[92mRequirement Creator\u001b[00m\n",
            "\u001b[95m## Thought:\u001b[00m \u001b[92mThought: I need to find functional requirements related to a clock displayed on a webpage.  I will search the internet for information on web clock functionalities and user requirements.\u001b[00m\n",
            "\u001b[95m## Using tool:\u001b[00m \u001b[92mSearch the internet\u001b[00m\n",
            "\u001b[95m## Tool Input:\u001b[00m \u001b[92m\n",
            "\"{\\\"search_query\\\": \\\"functional requirements for a webpage clock\\\"}\"\u001b[00m\n",
            "\u001b[95m## Tool Output:\u001b[00m \u001b[92m\n",
            "{'searchParameters': {'q': 'functional requirements for a webpage clock', 'type': 'search', 'num': 10, 'engine': 'google'}, 'organic': [{'title': 'Solved Functional Requirements 1. Clock12: Time should be - Chegg', 'link': 'https://www.chegg.com/homework-help/questions-and-answers/functional-requirements-1-clock12-time-displayed-12-hour-format-clock-exceed-12-59-59-2-cl-q51074750', 'snippet': '1. Clock12: Time should be displayed in 12-hour format where the clock does not exceed 12:59:59. 2. Clock24: Time should be displayed in 24-hour format.', 'position': 1}, {'title': 'How to Design Digital Clock using JavaScript? - GeeksforGeeks', 'link': 'https://www.geeksforgeeks.org/how-to-design-digital-clock-using-javascript/', 'snippet': 'We will learn to make a digital clock using HTML, CSS, and JavaScript. Approach Example: In this example, we have followed above explained approach.', 'position': 2}, {'title': 'CS 210 Chada Tech Clocks Functional Requirements - Studocu', 'link': 'https://www.studocu.com/en-us/document/southern-new-hampshire-university/programming-languages/cs-210-chada-tech-clocks-functional-requirements/53782564', 'snippet': 'Clock24: Time should be displayed in 24-hour format where the clock does not exceed 23:59:59. Both clocks should display on the screen with the current time in ...', 'position': 3}, {'title': 'Requirements for a New Timeclock System - Time Clock MTS', 'link': 'https://www.timeclockmts.com/timeclock-articles/questions-you-should-ask-before-choosing-time-clock-software/', 'snippet': 'A comprehensive checklist of questions that should be asked BEFORE choosing a new employee time clock system for your company.', 'position': 4}, {'title': 'Clock.md · GitHub', 'link': 'https://gist.github.com/santosh-1987/b9d6f2bf7be2142638c5aa33413181e6', 'snippet': 'Functional Requirements · 1. Live Clock · 2. Datetime Picker · 3. Sidebar with Important Events.', 'position': 5}, {'title': 'World Clock Webpage - AI Prompt - DocsBot AI', 'link': 'https://docsbot.ai/prompts/technical/world-clock-webpage', 'snippet': '3. **Clock Design**: - Each clock should have a black background. - The time should be displayed in white text. - Format the time appropriately as ` ...', 'position': 6}, {'title': 'World Clock Widget - Free & Works on Any Website - Common Ninja', 'link': 'https://www.commoninja.com/widgets/world-clock', 'snippet': \"Add a World Clock to offer time zone information, and enhance user engagement. It's free, easily customizable & mobile-friendly.\", 'position': 7}, {'title': 'Web Based Time Clock | Requirements To Run', 'link': 'https://support.easyemployer.com/hc/en-us/articles/230925907-Web-Based-Time-Clock-Requirements-To-Run', 'snippet': 'The time clock requires a persistent internet connection to work. We recommend a minimum monitor resolution of 1024x768 and/or minimum 10\" touchscreen size.', 'position': 8}, {'title': '18-642 Group Project on Requirements', 'link': 'https://course.ece.cmu.edu/~ece642/hw/gp09_Requirements.html', 'snippet': 'This is a cheap, minimalist alarm clock with ONLY the inputs, outputs, and internal values indicated. The goal is to create a set of requirements for this ...', 'position': 9}, {'title': 'High Resolution Time - W3C on GitHub', 'link': 'https://w3c.github.io/hr-time/', 'snippet': 'A clock tracks the passage of time and can report the unsafe current time that an algorithm step is executing. There are many kinds of clocks.', 'position': 10}], 'peopleAlsoAsk': [{'question': 'What is the functionality of a clock?', 'snippet': 'The primary purpose of a clock is to display the time. Clocks may also have the facility to make a loud alert signal at a specified time, typically to waken a sleeper at a preset time; they are referred to as alarm clocks.', 'title': 'Clock - Wikipedia', 'link': 'https://en.wikipedia.org/wiki/Clock'}, {'question': 'How do you write functional requirements for a website?', 'snippet': 'WELL-WRITTEN FUNCTIONAL REQUIREMENTS TYPICALLY HAVE THE FOLLOWING CHARACTERISTICS:\\n1\\nNecessary. Although functional requirements may have different priority, every one of them needs to relate to a particular business goal or user requirement.\\n2\\nConcise. ...\\n3\\nAttainable. ...\\n4\\nGranular. ...\\n5\\nConsistent. ...\\n6\\nVerifiable.', 'title': 'A Guide to Functional Requirements (with Examples) - Nuclino', 'link': 'https://www.nuclino.com/articles/functional-requirements'}, {'question': 'What is needed for a clock to work?', 'snippet': 'The Power Source: In most clocks, a weight or a mainspring stores the energy needed to drive the mechanism. The Gear Train: This series of interlocking gears transfers the energy from the power source to the escapement. Each gear moves a specific part of the clock, such as the hour or minute hand.', 'title': 'Anatomy of a Clock: Understanding Its Intricate Parts', 'link': 'https://hermleclock.com/blogs/news/anatomy-of-a-clock-understanding-its-intricate-parts'}, {'question': 'What are functional and non functional requirements for a website?', 'snippet': 'Functional requirements explain how the system must work, while non functional requirements explain how the system should perform.', 'title': 'Functional vs Non-Functional Requirements [Updated 2021]', 'link': 'https://enkonix.com/blog/functional-requirements-vs-non-functional/'}], 'relatedSearches': [{'query': 'Functional requirements for a webpage clock example'}, {'query': 'Digital clock HTML code'}, {'query': 'Functional requirements for a webpage clock github'}, {'query': 'Digital clock HTML code free'}, {'query': 'Digital clock HTML code W3Schools'}, {'query': 'Clock HTML code for website'}, {'query': 'Analog clock JavaScript'}, {'query': 'JavaScript clock'}], 'credits': 1}\n",
            "\n",
            "\n",
            "You ONLY have access to the following tools, and should NEVER make up tools that are not listed here:\n",
            "\n",
            "Tool Name: Search the internet\n",
            "Tool Arguments: {'search_query': {'description': 'Mandatory search query you want to use to search the internet', 'type': 'str'}}\n",
            "Tool Description: A tool that can be used to search the internet with a search_query. Supports different search types: 'search' (default), 'news'\n",
            "\n",
            "Use the following format:\n",
            "\n",
            "Thought: you should always think about what to do\n",
            "Action: the action to take, only one name of [Search the internet], just the name, exactly as it's written.\n",
            "Action Input: the input to the action, just a simple python dictionary, enclosed in curly braces, using \" to wrap keys and values.\n",
            "Observation: the result of the action\n",
            "\n",
            "Once all necessary information is gathered:\n",
            "\n",
            "Thought: I now know the final answer\n",
            "Final Answer: the final answer to the original input question\n",
            "\u001b[00m\n",
            "\n",
            "\n",
            "\u001b[1m\u001b[95m# Agent:\u001b[00m \u001b[1m\u001b[92mRequirement Creator\u001b[00m\n",
            "\u001b[95m## Final Answer:\u001b[00m \u001b[92m\n",
            "1. **Time Display:**\n",
            "    * The clock shall accurately display the current time.\n",
            "    * The clock shall allow the user to select between 12-hour and 24-hour time formats.\n",
            "    * The clock shall update the time dynamically at least once per second.\n",
            "    * The clock shall display the time in a clear and legible font.\n",
            "    * The clock shall be visually distinguishable from other elements on the webpage.\n",
            "\n",
            "2. **Time Zone Support (Optional):**\n",
            "    * The clock shall allow the user to select a time zone from a list of available time zones.\n",
            "    * The clock shall accurately display the time for the selected time zone.\n",
            "\n",
            "3. **Accessibility:**\n",
            "    * The clock shall be accessible to users with disabilities, conforming to WCAG guidelines (e.g., sufficient color contrast, keyboard navigation).\n",
            "\n",
            "4. **Error Handling:**\n",
            "    * The clock shall gracefully handle any errors in retrieving or displaying the time (e.g., display an appropriate message).\n",
            "\n",
            "5. **Customization (Optional):**\n",
            "    * The clock may allow users to customize the appearance of the clock (e.g., font, color, size).\u001b[00m\n",
            "\n",
            "\n",
            "\u001b[1m\u001b[95m# Agent:\u001b[00m \u001b[1m\u001b[92mUser Stories Creator\u001b[00m\n",
            "\u001b[95m## Task:\u001b[00m \u001b[92mThis Task creates userstories based on given requirements\u001b[00m\n",
            "\n",
            "\n",
            "\u001b[1m\u001b[95m# Agent:\u001b[00m \u001b[1m\u001b[92mUser Stories Creator\u001b[00m\n",
            "\u001b[95m## Thought:\u001b[00m \u001b[92mThought: I need to create user stories for sprint 1 based on the provided requirements, focusing on the core functionality and leaving optional features for later sprints.  I'll prioritize features that are essential for a functional clock.\u001b[00m\n",
            "\u001b[95m## Using tool:\u001b[00m \u001b[92mSearch the internet\u001b[00m\n",
            "\u001b[95m## Tool Input:\u001b[00m \u001b[92m\n",
            "\"{\\\"search_query\\\": \\\"best practices for writing user stories\\\"}\"\u001b[00m\n",
            "\u001b[95m## Tool Output:\u001b[00m \u001b[92m\n",
            "{'searchParameters': {'q': 'best practices for writing user stories', 'type': 'search', 'num': 10, 'engine': 'google'}, 'organic': [{'title': 'A Simple Guide to Writing Better User Stories | by Jacob Harrison', 'link': 'https://medium.com/@jacobthomasharrison/a-simple-guide-to-writing-better-user-stories-931f07f990d1', 'snippet': \"1. Agreement (Commitment) · 2. Include only what's important (Focus) · 3. Clear & Transparent(Openness) · 4. Be consistent (Respect) · 5. No ...\", 'position': 1}, {'title': 'User Stories | Examples and Template - Atlassian', 'link': 'https://www.atlassian.com/agile/project-management/user-stories', 'snippet': 'User stories are system requirements often expressed as “persona + need + purpose.” Learn how stories drive agile programs & how to get started.', 'position': 2}, {'title': 'Writing Effective User Stories - Tech at GSA', 'link': 'https://tech.gsa.gov/guides/effective_user_stories/', 'snippet': 'User stories should be written as small, independently, testable increments of the business need, and prioritized by the Product Owner.', 'position': 3}, {'title': 'How (and Why) to Write Great User Stories - The Innovation Mode', 'link': 'https://www.theinnovationmode.com/the-innovation-blog/user-stories-in-agile-the-whys-and-hows', 'snippet': 'Stories must be simple and solid. This will help team members and stakeholders deeply understand the user needs, and avoid spending time clarifying buzzwords, ...', 'position': 4}, {'title': 'What are the best practices for writing user stories - descriptions ...', 'link': 'https://pm.stackexchange.com/questions/35276/what-are-the-best-practices-for-writing-user-stories-descriptions-acceptance', 'snippet': 'A user story is a conversation placeholder, or at most a 2-3 sentence summary of who cares, why they care, and just enough context to start a conversation ...', 'position': 5, 'sitelinks': [{'title': 'Should I be using user stories as my documentation?', 'link': 'https://pm.stackexchange.com/questions/30084/should-i-be-using-user-stories-as-my-documentation'}, {'title': 'What\\'s the best way of writing user stories about \"improve this metric ...', 'link': 'https://pm.stackexchange.com/questions/12175/whats-the-best-way-of-writing-user-stories-about-improve-this-metric-if-im-n'}]}, {'title': '10 Tips for Writing Good User Stories - Roman Pichler', 'link': 'https://www.romanpichler.com/blog/10-tips-writing-good-user-stories/', 'snippet': 'Write your stories so that they are easy to understand. Keep them simple and concise. Avoid confusing and ambiguous terms, and use active voice.', 'position': 6}, {'title': \"What's your favorite way of writing user stories that ISN'T the ... - Reddit\", 'link': 'https://www.reddit.com/r/agile/comments/n9tilz/whats_your_favorite_way_of_writing_user_stories/', 'snippet': 'User stories are, however, one good way to standardise the key information: who needs this, in what context, and what are they expecting as an outcome.', 'position': 7, 'sitelinks': [{'title': 'How did you learn how to write user stories? : r/ProductManagement', 'link': 'https://www.reddit.com/r/ProductManagement/comments/ztgfg2/how_did_you_learn_how_to_write_user_stories/'}, {'title': 'Best Ways To Learn How To Create User Stories? : r/agile - Reddit', 'link': 'https://www.reddit.com/r/agile/comments/unall7/best_ways_to_learn_how_to_create_user_stories/'}, {'title': 'Best practices for writing user stories with responsive design in mind', 'link': 'https://www.reddit.com/r/ProductManagement/comments/wg1rvj/best_practices_for_writing_user_stories_with/'}, {'title': 'What are your recommendations about the creation and use ... - Reddit', 'link': 'https://www.reddit.com/r/agile/comments/m5wbsz/what_are_your_recommendations_about_the_creation/'}]}, {'title': 'Crafting Compelling User Stories: A Guide to Best Practices - LinkedIn', 'link': 'https://www.linkedin.com/pulse/crafting-compelling-user-stories-guide-best-practices-jagarlapoodi', 'snippet': 'In this article, we delve into the art of crafting the best user stories, exploring key components, best practices, and tips to ensure their effectiveness.', 'position': 8}, {'title': 'The Anatomy of a User Story | Scrum Alliance | Includes Template', 'link': 'https://resources.scrumalliance.org/Article/anatomy-user-story', 'snippet': 'Simplicity. User stories should be simple, concise statements of problems to be solved. They are not requirements documents, nor are they design docs -- they ...', 'position': 9, 'sitelinks': [{'title': 'Simplicity', 'link': 'https://resources.scrumalliance.org/Article/anatomy-user-story#:~:text=Simplicity'}, {'title': 'Structure', 'link': 'https://resources.scrumalliance.org/Article/anatomy-user-story#:~:text=Structure,-It%27s%20important%20to%20understand'}, {'title': \"It's About The Problem, Not...\", 'link': 'https://resources.scrumalliance.org/Article/anatomy-user-story#:~:text=It%27s%20About%20the%20Problem%2C%20Not%20the%20Solution'}]}], 'peopleAlsoAsk': [{'question': \"What are the 3 C's for writing user stories?\", 'snippet': \"These 3 C's are Cards, Conversation, and Confirmation. These are essential components for writing a good User Story. The Card, Conversation, and Confirmation model was introduced by Ron Jefferies in 2001 for Extreme Programming (XP) and is suitable even today.\", 'title': \"3 C's of User Stories - PremierAgile\", 'link': 'https://premieragile.com/3cs-of-user-story/'}, {'question': \"What are the 5 W's in user stories?\", 'snippet': 'The Who, What, When, Where, Why of a Story. One of the best practices for writers is to follow \"The 5Ws\" guideline, by investigating the Who, What, Where, When and Why of a story.', 'title': 'The Who, What, When, Where, Why of a Story | Institute Communications', 'link': 'https://comm.gatech.edu/resources/writers/5ws'}, {'question': 'What is the most appropriate way to write user stories?', 'snippet': 'TO WRITE SUCCESSFUL USER STORIES:\\nKeep them short.\\nKeep them simple.\\nWrite from the perspective of the user.\\nMake the value or benefit of the story clear.\\nDescribe one piece of functionality.\\nWrite user stories as a team.\\nUse acceptance criteria to show an MVP.', 'title': 'How to Write User Stories in Agile Software Development', 'link': 'https://www.easyagile.com/blog/how-to-write-good-user-stories-in-agile-software-development/'}, {'question': 'What are the 5 components of a user story?', 'snippet': 'THE 5 KEY COMPONENTS OF AN AGILE USER STORY\\nUser Stories Must Always Have a User! The first point might sound obvious. ...\\nUser stories capture what the user wants to achieve in a simple sentence. ...\\nUser stories contain a qualifying value statement. ...\\nUser stories contain acceptance criteria. ...\\nUser stories are small and simple.', 'title': 'The 5 Key Components of an Agile User Story - Digital Rebels', 'link': 'https://www.digitalrebels.co.uk/blog/2016/02/the-5-key-components-of-an-agile-user-story/'}], 'relatedSearches': [{'query': 'Writing good user stories and acceptance criteria'}, {'query': 'Best practices for writing user stories agile'}, {'query': 'User story examples'}, {'query': 'User stories in agile examples'}, {'query': 'User story template'}, {'query': 'User stories examples with acceptance criteria'}, {'query': 'How to write a user story'}, {'query': 'User story examples for website'}], 'credits': 1}\u001b[00m\n",
            "\n",
            "\n",
            "\u001b[1m\u001b[95m# Agent:\u001b[00m \u001b[1m\u001b[92mUser Stories Creator\u001b[00m\n",
            "\u001b[95m## Final Answer:\u001b[00m \u001b[92m\n",
            "**Sprint 1 User Stories:**\n",
            "\n",
            "**1. As a user, I want the clock to accurately display the current time so that I can know the time.**\n",
            "\n",
            "*   Description: The clock should display the current time with seconds precision.  It should automatically update at least once per second.  The time should be fetched from a reliable time source.\n",
            "*   Acceptance Criteria:\n",
            "    *   The clock displays the current time.\n",
            "    *   The time updates at least once per second.\n",
            "    *   The displayed time is accurate within one second.\n",
            "    *   The clock handles network errors gracefully (e.g., displays a message indicating a time retrieval issue).\n",
            "\n",
            "**2. As a user, I want to be able to select between 12-hour and 24-hour time formats so that I can view the time in my preferred format.**\n",
            "\n",
            "*   Description: The clock should provide a user interface element (e.g., a toggle button or dropdown menu) to switch between 12-hour (AM/PM) and 24-hour time formats. The selection should persist across sessions.\n",
            "*   Acceptance Criteria:\n",
            "    *   A clear and intuitive interface element exists for selecting the time format.\n",
            "    *   The clock displays the time in the selected format (12-hour or 24-hour).\n",
            "    *   The selected format is saved and restored when the user revisits the clock.\n",
            "\n",
            "**3. As a user, I want the clock to display an error message if it cannot retrieve the time so that I am aware of any issues.**\n",
            "\n",
            "*   Description: If there's an error in retrieving the current time (e.g., network problem), the clock should display a user-friendly message instead of crashing or showing incorrect data. The message should explain the problem and suggest possible actions (e.g., check internet connection).\n",
            "*   Acceptance Criteria:\n",
            "    *   The clock displays a clear and informative error message when unable to retrieve the time.\n",
            "    *   The error message suggests troubleshooting steps (if applicable).\n",
            "    *   The error message is visually distinct from the normal time display.\n",
            "\n",
            "\n",
            "**4. As a user, I want the clock to have sufficient color contrast and be keyboard navigable so that I can use it easily.**\n",
            "\n",
            "* Description: The clock should meet WCAG guidelines for accessibility, ensuring sufficient color contrast between text and background for users with visual impairments, and allowing full keyboard navigation for users who cannot use a mouse.\n",
            "* Acceptance Criteria:\n",
            "    * The clock passes WCAG color contrast checks.\n",
            "    * All interactive elements are keyboard navigable.\n",
            "    * Screen readers can accurately read the time displayed.\u001b[00m\n",
            "\n",
            "\n",
            "\u001b[1m\u001b[95m# Agent:\u001b[00m \u001b[1m\u001b[92mStory Point Estimator\u001b[00m\n",
            "\u001b[95m## Task:\u001b[00m \u001b[92mThis Task estimates story points\u001b[00m\n",
            "\n",
            "\n",
            "\u001b[1m\u001b[95m# Agent:\u001b[00m \u001b[1m\u001b[92mStory Point Estimator\u001b[00m\n",
            "\u001b[95m## Final Answer:\u001b[00m \u001b[92m\n",
            "| Story ID | Story Description                                                                                                                                                                                                                              | Story Points | Reason                                                                                                                                                                                                                                                                              | Complexity | Effort | Functionality | Development Effort | Testing Effort | Priority |\n",
            "| :------- | :---------------------------------------------------------------------------------------------------------------------------------------------------------------------------------------------------------------------------------------------------- | :---------- | :---------------------------------------------------------------------------------------------------------------------------------------------------------------------------------------------------------------------------------------------------------------------------------------- | :--------- | :------ | :------------- | :----------------- | :------------- | :------- |\n",
            "| 1        | As a user, I want the clock to accurately display the current time so that I can know the time.                                                                                                                                                           | 3          | Core functionality; requires reliable time source and accurate display. Relatively straightforward implementation, but needs robust error handling.                                                                                                                                           | Medium     | Medium  | High            | Medium             | Medium          | High     |\n",
            "| 2        | As a user, I want to be able to select between 12-hour and 24-hour time formats so that I can view the time in my preferred format.                                                                                                                            | 2          | Requires UI element and persistent storage for user preference; less complex than core time display.                                                                                                                                                                                    | Low        | Low     | Medium          | Low                | Low             | Medium   |\n",
            "| 3        | As a user, I want the clock to display an error message if it cannot retrieve the time so that I am aware of any issues.                                                                                                                                      | 2          |  Requires error handling and user-friendly message display. Relatively simple to implement, focusing on clear communication of errors.                                                                                                                                              | Low        | Low     | Low             | Low                | Low             | Medium   |\n",
            "| 4        | As a user, I want the clock to have sufficient color contrast and be keyboard navigable so that I can use it easily.                                                                                                                                   | 5          |  Involves accessibility considerations (WCAG compliance) and potentially more complex implementation for keyboard navigation and screen reader compatibility.                                                                                                                            | High       | Medium  | Medium          | Medium             | High            | High     |\u001b[00m\n",
            "\n",
            "\n",
            "\u001b[1m\u001b[95m# Agent:\u001b[00m \u001b[1m\u001b[92mTask Creator\u001b[00m\n",
            "\u001b[95m## Task:\u001b[00m \u001b[92mThis Task creates task under user stories\u001b[00m\n",
            "\n",
            "\n",
            "\u001b[1m\u001b[95m# Agent:\u001b[00m \u001b[1m\u001b[92mTask Creator\u001b[00m\n",
            "\u001b[95m## Final Answer:\u001b[00m \u001b[92m\n",
            "| Story ID | Task ID | Task Description                                                                                                                                   | Assignee | Story Points | Status | Priority |\n",
            "| :------- | :------ | :--------------------------------------------------------------------------------------------------------------------------------------------- | :------- | :---------- | :----- | :------- |\n",
            "| 1        | 1.1     | Design the UI for the clock display, ensuring clarity and readability.                                                                         | Nirmal   | 1          | To Do  | High     |\n",
            "| 1        | 1.2     | Implement the core clock functionality to retrieve and display the current time accurately.                                                | Kesava   | 1          | To Do  | High     |\n",
            "| 1        | 1.3     | Implement robust error handling for cases where the time cannot be retrieved.                                                             | Asif     | 1          | To Do  | High     |\n",
            "| 1        | 1.4     | Test the clock's accuracy and error handling across different scenarios and devices.                                                       | Tanmaya  | 1          | To Do  | High     |\n",
            "| 2        | 2.1     | Design and implement the UI element for selecting between 12-hour and 24-hour time formats.                                                  | Nirmal   | 1          | To Do  | Medium   |\n",
            "| 2        | 2.2     | Implement persistent storage for the user's preferred time format.                                                                        | Kesava   | 1          | To Do  | Medium   |\n",
            "| 2        | 2.3     | Test the time format selection functionality and ensure proper persistence of user preferences.                                            | Tanmaya  | 1          | To Do  | Medium   |\n",
            "| 3        | 3.1     | Design and implement the error message display for when the time cannot be retrieved.                                                    | Asif     | 1          | To Do  | Medium   |\n",
            "| 3        | 3.2     | Test the error message display to ensure clarity and user-friendliness.                                                                  | Tanmaya  | 1          | To Do  | Medium   |\n",
            "| 4        | 4.1     | Implement sufficient color contrast according to WCAG guidelines.                                                                          | Nirmal   | 2          | To Do  | High     |\n",
            "| 4        | 4.2     | Implement keyboard navigation for the clock, ensuring accessibility for users with disabilities.                                          | Kesava   | 2          | To Do  | High     |\n",
            "| 4        | 4.3     | Conduct thorough testing for keyboard navigation and screen reader compatibility.                                                          | Tanmaya  | 2          | To Do  | High     |\n",
            "| 4        | 4.4     | Review and ensure compliance with WCAG accessibility standards.                                                                            | Asif     | 1          | To Do  | High     |\u001b[00m\n",
            "\n",
            "\n",
            "| Story ID | Task ID | Task Description                                                                                                                                   | Assignee | Story Points | Status | Priority |\n",
            "| :------- | :------ | :--------------------------------------------------------------------------------------------------------------------------------------------- | :------- | :---------- | :----- | :------- |\n",
            "| 1        | 1.1     | Design the UI for the clock display, ensuring clarity and readability.                                                                         | Nirmal   | 1          | To Do  | High     |\n",
            "| 1        | 1.2     | Implement the core clock functionality to retrieve and display the current time accurately.                                                | Kesava   | 1          | To Do  | High     |\n",
            "| 1        | 1.3     | Implement robust error handling for cases where the time cannot be retrieved.                                                             | Asif     | 1          | To Do  | High     |\n",
            "| 1        | 1.4     | Test the clock's accuracy and error handling across different scenarios and devices.                                                       | Tanmaya  | 1          | To Do  | High     |\n",
            "| 2        | 2.1     | Design and implement the UI element for selecting between 12-hour and 24-hour time formats.                                                  | Nirmal   | 1          | To Do  | Medium   |\n",
            "| 2        | 2.2     | Implement persistent storage for the user's preferred time format.                                                                        | Kesava   | 1          | To Do  | Medium   |\n",
            "| 2        | 2.3     | Test the time format selection functionality and ensure proper persistence of user preferences.                                            | Tanmaya  | 1          | To Do  | Medium   |\n",
            "| 3        | 3.1     | Design and implement the error message display for when the time cannot be retrieved.                                                    | Asif     | 1          | To Do  | Medium   |\n",
            "| 3        | 3.2     | Test the error message display to ensure clarity and user-friendliness.                                                                  | Tanmaya  | 1          | To Do  | Medium   |\n",
            "| 4        | 4.1     | Implement sufficient color contrast according to WCAG guidelines.                                                                          | Nirmal   | 2          | To Do  | High     |\n",
            "| 4        | 4.2     | Implement keyboard navigation for the clock, ensuring accessibility for users with disabilities.                                          | Kesava   | 2          | To Do  | High     |\n",
            "| 4        | 4.3     | Conduct thorough testing for keyboard navigation and screen reader compatibility.                                                          | Tanmaya  | 2          | To Do  | High     |\n",
            "| 4        | 4.4     | Review and ensure compliance with WCAG accessibility standards.                                                                            | Asif     | 1          | To Do  | High     |\n"
          ]
        }
      ]
    },
    {
      "cell_type": "code",
      "source": [],
      "metadata": {
        "id": "ja8GuNpYPzN0"
      },
      "execution_count": null,
      "outputs": []
    }
  ]
}