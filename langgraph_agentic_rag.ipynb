{
  "nbformat": 4,
  "nbformat_minor": 0,
  "metadata": {
    "colab": {
      "provenance": [],
      "authorship_tag": "ABX9TyOLZif0C+8yWgy3/mUxOcc6",
      "include_colab_link": true
    },
    "kernelspec": {
      "name": "python3",
      "display_name": "Python 3"
    },
    "language_info": {
      "name": "python"
    }
  },
  "cells": [
    {
      "cell_type": "markdown",
      "metadata": {
        "id": "view-in-github",
        "colab_type": "text"
      },
      "source": [
        "<a href=\"https://colab.research.google.com/github/praffuln/agentic-ai/blob/master/langgraph_agentic_rag.ipynb\" target=\"_parent\"><img src=\"https://colab.research.google.com/assets/colab-badge.svg\" alt=\"Open In Colab\"/></a>"
      ]
    },
    {
      "cell_type": "code",
      "execution_count": null,
      "metadata": {
        "colab": {
          "base_uri": "https://localhost:8080/"
        },
        "id": "Xi8aB8amSB87",
        "outputId": "0c2e9ad4-20f7-41e9-b727-473013fcb492"
      },
      "outputs": [
        {
          "output_type": "stream",
          "name": "stdout",
          "text": [
            "hello world\n"
          ]
        }
      ],
      "source": [
        "# prompt: print hello world\n",
        "\n",
        "print(\"hello world\")\n"
      ]
    },
    {
      "cell_type": "code",
      "source": [
        "!pip install google-generativeai tiktoken chromadb langgraph langchain langchain_community langchainhub ipykernel langchain_groq sentence_transformers\n"
      ],
      "metadata": {
        "id": "XUPvgZUquE8s"
      },
      "execution_count": null,
      "outputs": []
    },
    {
      "cell_type": "code",
      "source": [
        "from typing import Annotated, Literal, Sequence, TypedDict\n",
        "from langchain import hub\n",
        "from langchain_core.messages import BaseMessage, HumanMessage\n",
        "from langchain_core.output_parsers import StrOutputParser\n",
        "from langchain_core.prompts import PromptTemplate\n",
        "from langchain_core.pydantic_v1 import BaseModel, Field\n",
        "from langgraph.graph.message import add_messages\n",
        "from langgraph.prebuilt import tools_condition\n",
        "from langchain_community.document_loaders import WebBaseLoader\n",
        "from langchain_community.vectorstores import Chroma\n",
        "from langchain_text_splitters import RecursiveCharacterTextSplitter\n",
        "from langchain.tools.retriever import create_retriever_tool\n",
        "from langgraph.graph import END, StateGraph, START\n",
        "from langgraph.prebuilt import ToolNode"
      ],
      "metadata": {
        "id": "lKjLajjk3T_W"
      },
      "execution_count": null,
      "outputs": []
    },
    {
      "cell_type": "markdown",
      "source": [
        "## Setup Keys For GOOGLE_API_KEY\n"
      ],
      "metadata": {
        "id": "YPFF-ppevar4"
      }
    },
    {
      "cell_type": "code",
      "source": [
        "\n",
        "# Assigning value to variable\n",
        "GEMINI_API_KEY=''\n",
        "SERPER_API_KEY = ''\n",
        "GROQ_API_KEY = ''\n"
      ],
      "metadata": {
        "id": "LbM3-zGMvdqZ"
      },
      "execution_count": null,
      "outputs": []
    },
    {
      "cell_type": "markdown",
      "source": [
        "# setup environments\n"
      ],
      "metadata": {
        "id": "n0zcWVGYvr1d"
      }
    },
    {
      "cell_type": "code",
      "source": [
        "import os\n",
        "os.environ['SERPER_API_KEY'] = SERPER_API_KEY\n",
        "os.environ['GEMINI_API_KEY'] = GEMINI_API_KEY\n",
        "os.environ['GROQ_API_KEY'] = GROQ_API_KEY\n",
        "\n",
        "\n"
      ],
      "metadata": {
        "id": "LgoK_XsEvygs"
      },
      "execution_count": null,
      "outputs": []
    },
    {
      "cell_type": "markdown",
      "source": [
        "## setup LLM"
      ],
      "metadata": {
        "id": "hDjCG2BM4415"
      }
    },
    {
      "cell_type": "code",
      "source": [
        "import google.generativeai as genai\n",
        "\n",
        "genai.configure(api_key=GEMINI_API_KEY)\n",
        "model = genai.GenerativeModel(\"gemini-1.5-flash\")\n",
        "response = model.generate_content(\"Explain how AI works\")\n",
        "print(response.text)\n"
      ],
      "metadata": {
        "id": "zfuv4uE3Dj2A",
        "colab": {
          "base_uri": "https://localhost:8080/",
          "height": 419
        },
        "outputId": "91129462-a01d-4633-ad41-7e19a7e6a800"
      },
      "execution_count": null,
      "outputs": [
        {
          "output_type": "stream",
          "name": "stdout",
          "text": [
            "AI works by mimicking human intelligence processes through machines, particularly computer systems.  There's no single \"how it works,\" as different AI approaches employ different techniques. However, several core concepts are common:\n",
            "\n",
            "**1. Data as the Foundation:** AI systems learn from data.  The more data they're trained on, the better they generally perform. This data can be structured (like tables in a database) or unstructured (like text, images, or audio).\n",
            "\n",
            "**2. Algorithms as the Engine:** Algorithms are sets of rules and statistical techniques that AI uses to analyze data, identify patterns, and make predictions or decisions.  These algorithms are the \"brains\" of the AI system, dictating how it processes information.  Different algorithms are suited for different tasks.\n",
            "\n",
            "**3. Learning from Data:** This is the crucial aspect. AI systems don't just follow pre-programmed instructions; they learn from the data they are fed.  This learning can take several forms:\n",
            "\n",
            "* **Supervised Learning:** The AI is trained on a labeled dataset, meaning the data includes both input and the desired output.  The algorithm learns to map inputs to outputs.  Example: training an image recognition system by showing it thousands of images labeled \"cat\" or \"dog.\"\n",
            "\n",
            "* **Unsupervised Learning:** The AI is trained on an unlabeled dataset.  The algorithm tries to find patterns and structures in the data without explicit guidance.  Example: clustering customers into different groups based on their purchasing behavior.\n",
            "\n",
            "* **Reinforcement Learning:** The AI learns through trial and error by interacting with an environment.  It receives rewards for desirable actions and penalties for undesirable actions.  Example: training a robot to navigate a maze by rewarding it for reaching the goal and penalizing it for hitting walls.\n",
            "\n",
            "* **Deep Learning:** A subfield of machine learning that uses artificial neural networks with multiple layers (hence \"deep\"). These networks can learn complex patterns and representations from data, often achieving state-of-the-art results in tasks like image recognition and natural language processing.\n",
            "\n",
            "**4. Models as the Representation:**  As AI learns from data, it creates a *model* – a mathematical representation of the patterns and relationships it has discovered. This model is then used to make predictions or decisions on new, unseen data.\n",
            "\n",
            "**5. Evaluation and Refinement:** AI systems are constantly evaluated to measure their performance.  Metrics like accuracy, precision, and recall are used to assess how well the system is working.  Based on this evaluation, the system's algorithms, models, or training data may be refined to improve its performance.\n",
            "\n",
            "**In short:** AI systems work by ingesting large amounts of data, using algorithms to identify patterns within that data, creating a model that represents those patterns, and then using that model to make predictions or decisions on new data. The process is iterative, with constant evaluation and refinement to improve performance.  Different techniques, like supervised, unsupervised, and reinforcement learning, and deep learning, are used depending on the specific task and the nature of the available data.\n",
            "\n"
          ]
        }
      ]
    },
    {
      "cell_type": "code",
      "source": [
        "from langchain_groq import ChatGroq\n",
        "from sentence_transformers import SentenceTransformer # Import SentenceTransformer instead of GroqEmbedding\n",
        "\n",
        "\n",
        "llm = ChatGroq(model=\"mixtral-8x7b-32768\")\n",
        "\n",
        "llm.invoke(\"tell me something about ai\")\n",
        "\n",
        "# Now use SentenceTransformer for embedding\n",
        "embedding_model = SentenceTransformer('all-mpnet-base-v2')  # Choose a suitable pre-trained model\n",
        "embedding = embedding_model.encode(\"tell me something about ai\")\n",
        "\n",
        "print(embedding) # Print the embedding to see the result"
      ],
      "metadata": {
        "colab": {
          "base_uri": "https://localhost:8080/"
        },
        "id": "6DmQlQ0FViCo",
        "outputId": "d2ca2f7d-b59e-430d-d698-4c3da51f1ada"
      },
      "execution_count": null,
      "outputs": [
        {
          "output_type": "stream",
          "name": "stdout",
          "text": [
            "[-4.51203575e-03  2.20128950e-02 -4.33849730e-02 -1.77831128e-02\n",
            " -3.06594893e-02  8.90099071e-03  5.25341509e-03 -4.57331073e-03\n",
            "  2.32293960e-02 -1.16360784e-02  1.13399606e-02  1.65772773e-02\n",
            " -1.06733488e-02  8.23313668e-02  3.30831483e-02 -2.61901524e-02\n",
            "  2.75212415e-02 -4.16853130e-02  5.27629033e-02 -4.37602401e-02\n",
            " -4.88797277e-02 -2.66430527e-02 -5.22194691e-02 -2.14641169e-03\n",
            " -1.80472750e-02 -3.59376930e-02 -1.77159403e-02 -2.27067973e-02\n",
            " -1.07827326e-02 -7.24562630e-03 -3.39170173e-02 -9.26617160e-02\n",
            "  3.07737361e-03  4.10415530e-02  1.43738237e-06 -4.15152535e-02\n",
            "  3.65924835e-02  2.57706698e-02 -4.86444570e-02 -2.42777113e-02\n",
            " -9.24347248e-03  6.82267770e-02  3.60279693e-03  1.42892776e-02\n",
            " -5.68199642e-02  5.76578975e-02  5.50136119e-02  3.05756554e-02\n",
            " -1.68321887e-03  6.17104881e-02 -1.65109942e-03  4.90002614e-03\n",
            "  3.29998769e-02 -2.69368626e-02  1.60680916e-02 -5.70929535e-02\n",
            "  3.82944047e-02 -2.31349524e-02  6.24355376e-02 -5.50966188e-02\n",
            " -8.93084332e-03  4.00706148e-03 -5.96136134e-03 -8.04617163e-03\n",
            "  3.19913551e-02  4.78001535e-02  8.71881470e-03 -5.62767349e-02\n",
            "  1.11189876e-02  1.51841557e-02  3.18401866e-02  1.14119723e-02\n",
            "  1.05322693e-02  2.19636913e-02  4.13285531e-02 -6.78697750e-02\n",
            " -2.35228259e-02  5.26318029e-02  1.51801249e-03 -2.54767854e-03\n",
            "  2.88595855e-02  4.52348702e-02 -3.31694447e-03 -5.01616718e-03\n",
            "  6.58794539e-03  6.58371076e-02 -1.65209044e-02 -3.11110895e-02\n",
            "  1.35925710e-02 -1.65256243e-02  2.97349151e-02 -1.94762126e-02\n",
            "  1.85664184e-02  4.89745550e-02 -4.69074808e-02 -1.58644989e-02\n",
            " -2.80969497e-02  1.58361178e-02 -2.99883895e-02 -2.77613122e-02\n",
            "  3.50026377e-02 -3.09406016e-02  1.59359109e-02  1.72273777e-02\n",
            "  2.98686437e-02  8.93900469e-02  4.48349863e-03  4.11793552e-02\n",
            " -5.48086725e-02  3.72050218e-02 -5.98632507e-02 -1.86905991e-02\n",
            " -2.90036425e-02  4.91347313e-02  6.03268966e-02 -3.30092851e-03\n",
            "  2.48170812e-02  1.88994743e-02 -6.26630560e-02  1.33382669e-02\n",
            " -5.91992475e-02  2.15992443e-02 -4.75309510e-03  1.81825068e-02\n",
            " -6.62532076e-02 -3.40916328e-02 -7.64711946e-02  7.94695877e-03\n",
            "  1.76551007e-02 -2.07577683e-02  2.99369320e-02  1.83741981e-03\n",
            " -6.27769763e-03  1.36670889e-02  2.23138761e-02  7.02653602e-02\n",
            " -2.90497759e-04  8.43937602e-03 -3.73990200e-02  1.51127735e-02\n",
            "  6.29117787e-02 -9.30037871e-02  3.41850445e-02 -1.36504751e-02\n",
            "  1.03624966e-02 -1.58074200e-02 -2.32117102e-02 -6.14641793e-02\n",
            " -1.15074245e-02 -1.47905974e-02 -2.52422672e-02  4.11863551e-02\n",
            " -5.85128255e-02 -1.72285140e-02  5.80963604e-02  1.66737922e-02\n",
            "  5.17982580e-02  2.69511081e-02 -4.78827767e-03  5.23051247e-03\n",
            "  2.96293404e-02  3.72822881e-02  5.65246344e-02 -2.99066957e-02\n",
            " -9.10244230e-03  1.28174229e-02  2.97978371e-02  1.52238328e-02\n",
            " -9.56428051e-02  2.53210943e-02  9.84911993e-03  3.87846753e-02\n",
            "  2.16178820e-02  1.23677654e-02  2.30812486e-02  2.83148512e-02\n",
            " -1.33149896e-03  5.51913343e-02  1.02500319e-02 -8.74432549e-03\n",
            "  6.65569603e-02  9.30344872e-03 -1.75500195e-02  6.99374229e-02\n",
            "  9.61585529e-03  4.25926521e-02 -4.34563635e-03  3.18926387e-02\n",
            " -4.49277014e-02 -6.85805753e-02  5.43145509e-03 -3.77302282e-02\n",
            " -1.88751183e-02  2.04866938e-02  1.08126914e-02  3.33186821e-04\n",
            "  1.57414265e-02 -1.32434934e-01 -2.04973128e-02  1.94707904e-02\n",
            " -5.40354736e-02 -6.81425184e-02  2.73608547e-02 -7.92848226e-03\n",
            "  5.93193248e-03 -7.25601241e-02  1.30617898e-03 -3.55291925e-02\n",
            " -3.22468020e-02 -9.43174772e-03  3.09208669e-02 -2.51863338e-02\n",
            "  2.59860861e-03  1.76999345e-02  1.16882275e-03 -9.96860489e-03\n",
            "  2.09510773e-02  4.60623093e-02 -3.48499119e-02  2.98581198e-02\n",
            " -5.05266041e-02  4.46510874e-02 -2.28466354e-02 -1.95176527e-02\n",
            " -4.03348729e-02 -6.90738708e-02  2.41931025e-02 -1.11951847e-02\n",
            "  3.81069221e-02  3.58020775e-02 -5.21781594e-02  2.51391437e-02\n",
            "  1.91473402e-02  1.28771998e-02 -5.30951135e-02  2.37802565e-02\n",
            "  3.10583152e-02  7.22556710e-02  2.73829363e-02 -7.49432594e-02\n",
            " -1.36189116e-02  3.38751785e-02  5.95531985e-02 -1.58708654e-02\n",
            "  1.95343066e-02 -5.86993545e-02  5.16377576e-02  2.14202087e-02\n",
            "  2.97905821e-02 -2.01575607e-02  3.73222120e-03  1.84389725e-02\n",
            "  2.07420085e-02  2.24718843e-02 -8.77477042e-03  8.61979835e-03\n",
            "  4.14760225e-03  1.66155677e-02 -1.17685031e-02 -1.49877788e-02\n",
            "  3.89718860e-02 -3.58401835e-02  1.04754297e-02  3.73746753e-02\n",
            "  1.15185352e-02 -1.09903766e-02  9.25788060e-02 -7.19234347e-02\n",
            " -2.04689186e-02  2.29300167e-02 -1.18294824e-02 -3.30782235e-02\n",
            " -1.52191110e-02 -9.68059339e-03 -1.03589101e-02  9.66655731e-04\n",
            "  2.33860109e-02 -2.45673582e-02 -2.84716915e-02  2.58951262e-02\n",
            "  4.16200347e-02 -3.37005444e-02 -3.70964967e-02 -3.61611811e-03\n",
            " -2.92657614e-02 -8.86501465e-03  8.36420208e-02 -2.74699414e-03\n",
            " -1.37550989e-02  2.51469649e-02 -1.30323088e-02  6.91349283e-02\n",
            " -1.03116333e-02 -2.73374282e-02 -2.69483821e-03 -2.56017949e-02\n",
            " -3.01286075e-02  9.11262408e-02 -1.28640104e-02  4.35762256e-02\n",
            "  3.10513917e-02  3.02125495e-02  5.67772910e-02  2.97696758e-02\n",
            "  4.44923043e-02  5.38933016e-02  8.32954794e-03 -4.90906741e-03\n",
            " -2.18009390e-02  6.53272495e-02  3.81750390e-02  1.13760093e-02\n",
            "  3.33644822e-02  4.36239354e-02  1.35524878e-02 -3.42327915e-02\n",
            " -3.01119797e-02 -1.47814872e-02 -3.72005664e-02  2.61561200e-02\n",
            "  4.61422605e-03 -1.57386847e-02  8.80378112e-02  5.11612569e-04\n",
            "  1.02917487e-02 -1.26019279e-02 -4.69329320e-02  3.10398340e-02\n",
            "  2.97645312e-02  1.41698578e-02  2.40183920e-02  1.83872394e-02\n",
            "  1.99668538e-02  2.56696492e-02  4.48548328e-03 -5.10354117e-02\n",
            " -1.50104789e-02 -4.86290492e-02 -4.76463623e-02 -9.56508797e-03\n",
            " -7.58065144e-03 -1.33214900e-02 -2.80308761e-02  8.85923486e-03\n",
            " -2.99924370e-02  8.75938591e-03  2.10660510e-02 -7.33370483e-02\n",
            " -3.83519009e-02 -8.26806501e-02  7.47343749e-02  1.12250419e-02\n",
            " -2.02284437e-02 -1.88782532e-02  1.91971136e-03 -4.53578448e-03\n",
            "  4.69014049e-02 -6.06136955e-03 -2.04271786e-02  2.57379226e-02\n",
            "  4.24024463e-02 -1.37765761e-02  3.12059838e-02  9.48483497e-03\n",
            " -4.39127535e-02  2.32061204e-02  3.24947014e-02 -5.50595671e-03\n",
            " -4.78507346e-03  2.07994319e-02  1.25761097e-02  2.89731566e-02\n",
            " -3.03187408e-02  2.85323504e-02  8.11775401e-03 -5.43119013e-02\n",
            "  2.45311856e-02 -1.22184763e-02 -6.75902069e-02  3.70208621e-02\n",
            "  4.62768041e-02 -4.11561802e-02  7.19577540e-03 -1.84300747e-02\n",
            " -4.44809720e-03 -6.95621744e-02 -1.62136815e-02  2.55043544e-02\n",
            " -4.83567417e-02 -3.37409088e-03 -5.77222602e-03 -2.72323266e-02\n",
            " -1.19528122e-01  3.77389579e-03 -1.65440496e-02 -1.57706197e-02\n",
            " -1.60566960e-02 -1.44128762e-02 -2.06054151e-02  1.36833554e-02\n",
            " -6.31951320e-04 -7.41358195e-03  1.89287495e-02  2.99598090e-02\n",
            " -7.42315594e-03  7.07524642e-02  1.21308729e-01  3.94922346e-02\n",
            " -8.99785906e-02 -4.05133143e-02 -4.10722718e-02  7.09168836e-02\n",
            "  5.79993613e-02  2.04049759e-02  2.97429804e-02 -9.74814314e-03\n",
            " -4.79727564e-03 -1.18978322e-02  4.52405103e-02  1.81317218e-02\n",
            "  3.42092775e-02  4.98526432e-02  3.11885253e-02 -5.01107760e-02\n",
            "  7.32974964e-04 -3.00319847e-02 -5.67166507e-02  1.94799937e-02\n",
            " -9.48678609e-03 -6.49532024e-03 -1.70558542e-02 -1.08292717e-02\n",
            " -2.94565540e-02  3.95937152e-02 -2.75488012e-02 -6.45096749e-02\n",
            " -2.26256661e-02 -3.50397383e-03 -4.95485403e-02 -5.11267819e-02\n",
            " -2.05847602e-02  2.90086516e-03  5.51109947e-02  2.30202749e-02\n",
            " -2.94950902e-02  2.09981631e-02  3.44818495e-02 -4.22100388e-02\n",
            " -2.13913806e-02  1.10938307e-02  3.74508984e-02  1.98864043e-02\n",
            " -5.92319220e-02  1.78755336e-02 -4.34057489e-02 -1.52490437e-02\n",
            " -3.23336609e-02  3.73050161e-02 -2.21771523e-02  5.06377406e-02\n",
            "  5.84693216e-02  3.97224352e-02  4.97092307e-02 -5.76016214e-03\n",
            " -6.36720518e-03 -1.38912937e-02 -2.97686979e-02  2.35749446e-02\n",
            "  3.23996576e-03  2.03493200e-02 -1.91410445e-02  1.50401136e-02\n",
            " -1.47703560e-02 -2.96609104e-02  5.23182377e-03 -3.25093046e-02\n",
            " -2.62102224e-02 -3.83710787e-02 -1.54113695e-02  9.67843365e-03\n",
            "  8.17671791e-02 -8.98558460e-03 -4.07317467e-02  2.80114636e-03\n",
            "  1.09838473e-03  8.24430375e-04 -2.49117985e-02  2.70770807e-02\n",
            "  3.93121038e-03 -2.40597725e-02  1.95311420e-02  2.72407997e-02\n",
            "  4.50039320e-02 -2.74598449e-02  1.08780488e-02 -4.93578129e-02\n",
            "  5.32366848e-03  2.45159250e-02 -1.92445535e-02  9.06766877e-02\n",
            " -1.02382991e-03  9.95794777e-03 -9.02352855e-03  3.38276476e-02\n",
            "  2.79259160e-02  2.18473244e-02  2.13004719e-03  3.79141085e-02\n",
            " -1.76179875e-02 -2.98188475e-04  1.29029276e-02  4.27449197e-02\n",
            " -7.91396350e-02 -4.62280102e-02  4.13806504e-03  5.44423983e-02\n",
            "  2.05810890e-02 -8.28051846e-03 -6.03019260e-02 -6.15849122e-02\n",
            "  3.86017337e-02  2.21958160e-02  1.69955231e-02 -2.00240500e-03\n",
            "  3.56353000e-02 -2.27601286e-02  2.21358668e-02  1.99470688e-02\n",
            "  3.82440314e-02  5.27739711e-02 -3.70429270e-02  5.08428812e-02\n",
            " -4.49040793e-02  3.39934155e-02 -3.40975635e-02  4.44442444e-02\n",
            " -7.50845065e-03  4.94476780e-02  4.86394530e-03  4.49786596e-02\n",
            "  5.90135111e-03 -4.49954383e-02 -1.86154060e-02  2.32391432e-02\n",
            "  2.45021023e-02 -5.08699678e-02  3.55358049e-02  5.07869497e-02\n",
            "  1.19744930e-02 -1.86456703e-02 -2.59307511e-02 -1.39497193e-02\n",
            " -5.72750568e-02 -1.08427778e-02 -2.00564414e-02 -5.75409040e-33\n",
            " -2.11657081e-02 -4.83531058e-02  5.47912857e-03  4.56692465e-02\n",
            " -5.50063699e-02 -4.22083065e-02 -8.66315328e-03  2.53709611e-02\n",
            " -5.91158420e-02  5.50753763e-03 -3.41421254e-02  4.34273668e-03\n",
            "  4.86051943e-03  5.46702417e-03  2.49401145e-02  2.01907959e-02\n",
            "  5.19191381e-03  1.07712047e-02 -6.05447870e-03  3.02576888e-02\n",
            " -4.20058258e-02 -2.78715901e-02 -2.91353911e-02 -4.29692082e-02\n",
            "  4.55784313e-02 -7.45486608e-03  4.71706036e-03 -3.33358273e-02\n",
            " -6.38490617e-02 -4.81396876e-02 -4.15168656e-03  4.07212302e-02\n",
            "  1.10632991e-02  4.94796969e-02 -8.89160763e-03  2.54173409e-02\n",
            " -3.55344557e-04 -6.31973967e-02  5.28207142e-03  2.45827734e-02\n",
            " -1.28710335e-02 -9.16410610e-02 -6.37201639e-03 -2.14585960e-02\n",
            " -3.98475118e-02  1.01911006e-02  5.81754334e-02 -2.30412371e-02\n",
            "  4.18929793e-02 -4.02369350e-02 -5.58311008e-02 -1.53698539e-02\n",
            " -5.91208860e-02 -3.03141698e-02  1.79499518e-02  2.25054733e-02\n",
            " -1.27544543e-02  7.91348796e-03  6.14366168e-03  3.70016731e-02\n",
            " -3.77105661e-02  9.13482253e-03  8.82566441e-03 -3.07663698e-02\n",
            "  4.28988039e-02 -6.79080375e-03  4.96618189e-02 -2.59338431e-02\n",
            " -8.73328559e-03 -3.72837858e-05 -3.50850746e-02  8.71078745e-02\n",
            "  1.32671581e-03  5.53366495e-03 -4.01233286e-02 -4.75886948e-02\n",
            "  2.18941085e-02  3.49075235e-02  3.22984308e-02  5.75906411e-03\n",
            " -3.61596905e-02 -2.97911908e-03 -7.49314278e-02  8.74555204e-03\n",
            "  8.13253969e-02 -9.24335346e-02 -1.43100705e-03  2.11044196e-02\n",
            " -5.04484354e-03 -1.21152122e-02  3.06464788e-02  3.93913016e-02\n",
            " -3.86185274e-02 -3.39673832e-02  1.01766899e-01 -1.19105252e-02\n",
            "  2.74730735e-02  4.26464416e-02  2.49943864e-02 -1.36214029e-02\n",
            " -2.59770714e-02 -1.21539226e-04 -5.29066473e-02  6.06717318e-02\n",
            "  7.14510605e-02  1.47081865e-02 -4.36351262e-03  6.36535063e-02\n",
            " -1.41716637e-02 -2.26963405e-02  5.72982128e-04 -1.90448891e-02\n",
            "  5.50731905e-02 -8.82947519e-02 -4.09667566e-02 -2.15040948e-02\n",
            "  4.04978986e-04  2.06311103e-02 -5.56054227e-02  2.04462186e-03\n",
            " -5.03785685e-02 -3.45891565e-02 -4.92949001e-02 -1.62168103e-03\n",
            " -5.32091558e-02 -1.87230501e-02 -3.06511782e-02  2.39845328e-02\n",
            " -2.40133703e-02 -7.49885067e-02 -3.69619392e-02 -2.79252622e-02\n",
            "  2.10887322e-07 -7.34782368e-02  4.27526869e-02  4.84662540e-02\n",
            "  3.20300870e-02  3.42653925e-03  7.28635862e-02 -7.02472702e-02\n",
            "  7.02832418e-04  1.62972676e-04  2.42789276e-02  7.23433308e-03\n",
            "  8.08054954e-03 -3.30996960e-02 -3.35610285e-02 -1.43081835e-02\n",
            " -2.01462936e-02 -3.87872681e-02 -2.45963484e-02 -2.71534361e-02\n",
            " -1.50085026e-02  2.65773069e-02  5.63351922e-02  3.81670110e-02\n",
            " -1.11597292e-02  1.64179448e-02 -6.77161366e-02 -3.28241102e-02\n",
            "  3.93680818e-02  7.49693364e-02 -1.08616333e-02  1.55454399e-02\n",
            "  1.67656355e-02 -1.28583787e-02  6.45284727e-03 -3.75228971e-02\n",
            " -3.22354436e-02 -2.57265158e-02  3.57622467e-02 -3.81268375e-03\n",
            "  1.79808158e-02  2.27858871e-02 -8.42283852e-03  8.28228425e-03\n",
            "  7.76261464e-03  8.25217515e-02  4.93225046e-02 -5.51919304e-02\n",
            " -3.13560106e-02  6.08474808e-03  2.59821713e-02 -1.93134341e-02\n",
            "  1.06806047e-02  3.65863107e-02 -3.75459455e-02 -1.70264952e-02\n",
            " -5.02065793e-02  2.48731319e-02  9.25086439e-03  3.52953859e-02\n",
            "  2.63714567e-02 -3.11931558e-02 -3.76141742e-02  2.53951401e-02\n",
            "  1.44933229e-02  4.12964635e-02 -3.96198174e-03 -2.34127846e-02\n",
            "  5.43943136e-35  2.63982173e-02 -9.59324744e-03 -1.67669766e-02\n",
            "  5.06727025e-02  6.75167516e-03 -3.29176299e-02 -4.15347219e-02\n",
            " -2.52378709e-03  1.67821739e-02  4.03138064e-02 -3.96851227e-02]\n"
          ]
        }
      ]
    },
    {
      "cell_type": "markdown",
      "source": [
        "## Load Data"
      ],
      "metadata": {
        "id": "fYT_mkVMKDrY"
      }
    },
    {
      "cell_type": "code",
      "source": [
        "urls= [\"https://lilianweng.github.io/posts/2023-06-23-agent/\",\n",
        "      \"https://lilianweng.github.io/posts/2023-03-15-prompt-engineering/\"]\n",
        "docs = [WebBaseLoader(url).load() for url in urls]\n",
        "\n",
        "docs[0][0].metadata"
      ],
      "metadata": {
        "colab": {
          "base_uri": "https://localhost:8080/"
        },
        "id": "f6S3v7jPKF7u",
        "outputId": "925db5aa-dbd8-4d20-af2b-9582b91595eb"
      },
      "execution_count": null,
      "outputs": [
        {
          "output_type": "execute_result",
          "data": {
            "text/plain": [
              "{'source': 'https://lilianweng.github.io/posts/2023-06-23-agent/',\n",
              " 'title': \"LLM Powered Autonomous Agents | Lil'Log\",\n",
              " 'description': 'Building agents with LLM (large language model) as its core controller is a cool concept. Several proof-of-concepts demos, such as AutoGPT, GPT-Engineer and BabyAGI, serve as inspiring examples. The potentiality of LLM extends beyond generating well-written copies, stories, essays and programs; it can be framed as a powerful general problem solver.\\nAgent System Overview\\nIn a LLM-powered autonomous agent system, LLM functions as the agent’s brain, complemented by several key components:\\n\\nPlanning\\n\\nSubgoal and decomposition: The agent breaks down large tasks into smaller, manageable subgoals, enabling efficient handling of complex tasks.\\nReflection and refinement: The agent can do self-criticism and self-reflection over past actions, learn from mistakes and refine them for future steps, thereby improving the quality of final results.\\n\\n\\nMemory\\n\\nShort-term memory: I would consider all the in-context learning (See Prompt Engineering) as utilizing short-term memory of the model to learn.\\nLong-term memory: This provides the agent with the capability to retain and recall (infinite) information over extended periods, often by leveraging an external vector store and fast retrieval.\\n\\n\\nTool use\\n\\nThe agent learns to call external APIs for extra information that is missing from the model weights (often hard to change after pre-training), including current information, code execution capability, access to proprietary information sources and more.\\n\\n\\n\\n\\nFig. 1. Overview of a LLM-powered autonomous agent system.\\nComponent One: Planning\\nA complicated task usually involves many steps. An agent needs to know what they are and plan ahead.',\n",
              " 'language': 'en'}"
            ]
          },
          "metadata": {},
          "execution_count": 70
        }
      ]
    },
    {
      "cell_type": "code",
      "source": [
        "docs_list = [item for sublist in docs for item in sublist]\n",
        "\n",
        "text_splitter=RecursiveCharacterTextSplitter.from_tiktoken_encoder(chunk_size=100, chunk_overlap=5)\n",
        "doc_splits=text_splitter.split_documents(docs_list)\n",
        "doc_splits"
      ],
      "metadata": {
        "id": "L0nILKQtMm7L"
      },
      "execution_count": null,
      "outputs": []
    },
    {
      "cell_type": "code",
      "source": [
        "\n",
        "from langchain_community.embeddings import HuggingFaceEmbeddings\n",
        "\n",
        "embedding_model = HuggingFaceEmbeddings(model_name=\"all-mpnet-base-v2\")\n",
        "\n",
        "\n",
        "vectorstore=Chroma.from_documents(\n",
        "    documents=doc_splits,\n",
        "    collection_name=\"rag-chrome\",\n",
        "    embedding=embedding_model\n",
        ")\n"
      ],
      "metadata": {
        "id": "wCTnL03wOGVQ"
      },
      "execution_count": null,
      "outputs": []
    },
    {
      "cell_type": "code",
      "source": [
        "retriever=vectorstore.as_retriever()\n"
      ],
      "metadata": {
        "id": "QWWBnrbyPpaB"
      },
      "execution_count": null,
      "outputs": []
    },
    {
      "cell_type": "markdown",
      "source": [
        "### convert retriever to tool"
      ],
      "metadata": {
        "id": "66-IFDTlqrgo"
      }
    },
    {
      "cell_type": "code",
      "source": [
        "retriever_tool = create_retriever_tool(\n",
        "    retriever,\n",
        "    \"retrieve_blog_posts\",\n",
        "    \"Search and return information about Lilian Weng blog posts on LLM agents, prompt engineering, and adversarial attacks on LLMs.You are a specialized assistant. Use the 'retriever_tool' **only** when the query explicitly relates to LangChain blog data. For all other queries, respond directly without using any tool. For simple queries like 'hi', 'hello', or 'how are you', provide a normal response.\",\n",
        "\n",
        ")"
      ],
      "metadata": {
        "id": "YLf2hjNEqx55"
      },
      "execution_count": null,
      "outputs": []
    },
    {
      "cell_type": "code",
      "source": [
        "tools=[retriever_tool]"
      ],
      "metadata": {
        "id": "1EsabF4EsEYW"
      },
      "execution_count": null,
      "outputs": []
    },
    {
      "cell_type": "markdown",
      "source": [
        "## Fuctions & Graph"
      ],
      "metadata": {
        "id": "ZkOKdhL4ANmJ"
      }
    },
    {
      "cell_type": "code",
      "source": [
        "def ai_assistant(state):\n",
        "    print(\"---CALL AGENT---\")\n",
        "    messages = state['messages']\n",
        "    print(f\"this is my message: {messages}\")\n",
        "\n",
        "    llm_with_tool = llm.bind_tools(tools)\n",
        "    response = llm_with_tool.invoke(messages)\n",
        "    #response=handle_query(messages)\n",
        "    return {\"messages\": [response]}\n",
        "\n",
        "\n",
        "\n",
        "    # print(\"---CALL AGENT---\")\n",
        "    # messages = state['messages']\n",
        "    # print(f\"this is my message: {messages}\")\n",
        "\n",
        "    # if len(messages)>1:\n",
        "    #     response=llm.invoke(messages[-1].content)\n",
        "    #     return {\"messages\": [response]}\n",
        "    # else:\n",
        "    #     llm_with_tool = llm.bind_tools(tools)\n",
        "    #     response = llm_with_tool.invoke(messages)\n",
        "    #     #response=handle_query(messages)\n",
        "    #     return {\"messages\": [response]}\n"
      ],
      "metadata": {
        "id": "5RUsp2p0ARbr"
      },
      "execution_count": null,
      "outputs": []
    },
    {
      "cell_type": "code",
      "source": [
        "def retrieve(state):\n",
        "  pass"
      ],
      "metadata": {
        "id": "0peOMOp2AVUG"
      },
      "execution_count": null,
      "outputs": []
    },
    {
      "cell_type": "code",
      "source": [
        "def rewrite(state):\n",
        "  pass"
      ],
      "metadata": {
        "id": "sLYBYeFNAg8K"
      },
      "execution_count": null,
      "outputs": []
    },
    {
      "cell_type": "code",
      "source": [
        "def generate(state):\n",
        "  pass"
      ],
      "metadata": {
        "id": "WywPV4WiAktk"
      },
      "execution_count": null,
      "outputs": []
    },
    {
      "cell_type": "code",
      "source": [
        "class AgentState(BaseModel):\n",
        "    pass"
      ],
      "metadata": {
        "id": "D40luyjDA4yP"
      },
      "execution_count": null,
      "outputs": []
    },
    {
      "cell_type": "code",
      "source": [
        "workflow=StateGraph(AgentState)\n",
        "workflow.add_node(\"My_AI_Assistant\",ai_assistant)\n",
        "retrieve=ToolNode([retriever_tool])   ### way to add retriever_tool under node\n",
        "workflow.add_node(\"retriever\", retrieve)\n",
        "workflow.add_node(\"Query_Rewriter\", rewrite)\n",
        "workflow.add_node(\"Output_Generator\", generate)\n"
      ],
      "metadata": {
        "id": "josu2KMNAsq6"
      },
      "execution_count": null,
      "outputs": []
    },
    {
      "cell_type": "code",
      "source": [
        "workflow.add_edge(START, \"My_AI_Assistant\")\n",
        "workflow.add_edge(\"My_AI_Assistant\", \"Vector_Retriever\")\n",
        "# workflow.add_conditional_edges()"
      ],
      "metadata": {
        "id": "0z-oLiDQBetq"
      },
      "execution_count": null,
      "outputs": []
    },
    {
      "cell_type": "code",
      "source": [
        "app = workflow.compile()"
      ],
      "metadata": {
        "id": "BMKy1NHDEVBu"
      },
      "execution_count": null,
      "outputs": []
    },
    {
      "cell_type": "code",
      "source": [
        "app.invoke({\"messages\": [HumanMessage(content=\"tell me something about ai\")]})"
      ],
      "metadata": {
        "id": "GktjJiiJEc8K"
      },
      "execution_count": null,
      "outputs": []
    }
  ]
}