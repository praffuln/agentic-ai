{
  "nbformat": 4,
  "nbformat_minor": 0,
  "metadata": {
    "colab": {
      "provenance": [],
      "toc_visible": true,
      "authorship_tag": "ABX9TyPZADKsFWyZ/V/tRiJhpePm",
      "include_colab_link": true
    },
    "kernelspec": {
      "name": "python3",
      "display_name": "Python 3"
    },
    "language_info": {
      "name": "python"
    }
  },
  "cells": [
    {
      "cell_type": "markdown",
      "metadata": {
        "id": "view-in-github",
        "colab_type": "text"
      },
      "source": [
        "<a href=\"https://colab.research.google.com/github/praffuln/agentic-ai/blob/master/langgraph_agentic_rag.ipynb\" target=\"_parent\"><img src=\"https://colab.research.google.com/assets/colab-badge.svg\" alt=\"Open In Colab\"/></a>"
      ]
    },
    {
      "cell_type": "code",
      "execution_count": 25,
      "metadata": {
        "colab": {
          "base_uri": "https://localhost:8080/"
        },
        "id": "Xi8aB8amSB87",
        "outputId": "4aad5128-856b-43fc-a8cd-07698c1e316e"
      },
      "outputs": [
        {
          "output_type": "stream",
          "name": "stdout",
          "text": [
            "hello world\n"
          ]
        }
      ],
      "source": [
        "# prompt: print hello world\n",
        "\n",
        "print(\"hello world\")\n"
      ]
    },
    {
      "cell_type": "code",
      "source": [
        "!pip install google-generativeai tiktoken chromadb langgraph langchain langchain_community langchainhub ipykernel langchain_groq sentence_transformers\n"
      ],
      "metadata": {
        "id": "XUPvgZUquE8s"
      },
      "execution_count": null,
      "outputs": []
    },
    {
      "cell_type": "code",
      "source": [
        "from typing import Annotated, Literal, Sequence, TypedDict\n",
        "from langchain import hub\n",
        "from langchain_core.messages import BaseMessage, HumanMessage\n",
        "from langchain_core.output_parsers import StrOutputParser\n",
        "from langchain_core.prompts import PromptTemplate\n",
        "from langchain_core.pydantic_v1 import BaseModel, Field\n",
        "from langgraph.graph.message import add_messages\n",
        "from langgraph.prebuilt import tools_condition\n",
        "from langchain_community.document_loaders import WebBaseLoader\n",
        "from langchain_community.vectorstores import Chroma\n",
        "from langchain_text_splitters import RecursiveCharacterTextSplitter\n",
        "from langchain.tools.retriever import create_retriever_tool\n",
        "from langgraph.graph import END, StateGraph, START\n",
        "from langgraph.prebuilt import ToolNode"
      ],
      "metadata": {
        "id": "lKjLajjk3T_W"
      },
      "execution_count": 27,
      "outputs": []
    },
    {
      "cell_type": "markdown",
      "source": [
        "## Setup Keys For GOOGLE_API_KEY\n"
      ],
      "metadata": {
        "id": "YPFF-ppevar4"
      }
    },
    {
      "cell_type": "code",
      "source": [
        "\n",
        "# Assigning value to variable\n",
        "GEMINI_API_KEY=''\n",
        "SERPER_API_KEY = ''\n",
        "GROQ_API_KEY = ''\n",
        "\n"
      ],
      "metadata": {
        "id": "LbM3-zGMvdqZ"
      },
      "execution_count": 28,
      "outputs": []
    },
    {
      "cell_type": "markdown",
      "source": [
        "# setup environments\n"
      ],
      "metadata": {
        "id": "n0zcWVGYvr1d"
      }
    },
    {
      "cell_type": "code",
      "source": [
        "import os\n",
        "os.environ['SERPER_API_KEY'] = SERPER_API_KEY\n",
        "os.environ['GEMINI_API_KEY'] = GEMINI_API_KEY\n",
        "os.environ['GROQ_API_KEY'] = GROQ_API_KEY\n",
        "\n",
        "\n"
      ],
      "metadata": {
        "id": "LgoK_XsEvygs"
      },
      "execution_count": 29,
      "outputs": []
    },
    {
      "cell_type": "markdown",
      "source": [
        "## setup LLM"
      ],
      "metadata": {
        "id": "hDjCG2BM4415"
      }
    },
    {
      "cell_type": "code",
      "source": [
        "import google.generativeai as genai\n",
        "\n",
        "genai.configure(api_key=GEMINI_API_KEY)\n",
        "model = genai.GenerativeModel(\"gemini-1.5-flash\")\n",
        "response = model.generate_content(\"Explain how AI works\")\n",
        "print(response.text)\n"
      ],
      "metadata": {
        "id": "zfuv4uE3Dj2A",
        "colab": {
          "base_uri": "https://localhost:8080/",
          "height": 419
        },
        "outputId": "144692cc-5aa4-4f60-a179-948422bdbf12"
      },
      "execution_count": 30,
      "outputs": [
        {
          "output_type": "stream",
          "name": "stdout",
          "text": [
            "Artificial intelligence (AI) is a broad field encompassing various techniques that enable computers to mimic human intelligence.  There's no single \"how it works\" answer, as different AI approaches utilize different methods. However, we can break it down into several key concepts:\n",
            "\n",
            "**1. Data is King:**  AI systems learn from data.  The more relevant and high-quality data they are trained on, the better they perform. This data can be anything from images and text to sensor readings and financial transactions.\n",
            "\n",
            "**2. Algorithms and Models:**  AI uses algorithms – sets of rules and statistical techniques – to process and learn from data. These algorithms are implemented as models, which are mathematical representations of the problem the AI is trying to solve.  Examples include:\n",
            "\n",
            "* **Machine Learning (ML):**  This is a subset of AI where systems learn from data without explicit programming.  Instead of being explicitly programmed with rules, they identify patterns and relationships in the data to make predictions or decisions.  Several types of ML exist:\n",
            "    * **Supervised Learning:** The algorithm is trained on labeled data (data with known outputs).  For example, showing it many pictures of cats and dogs labeled as such, so it learns to distinguish them.\n",
            "    * **Unsupervised Learning:** The algorithm is trained on unlabeled data and tries to find structure or patterns on its own.  For example, grouping similar customers based on their purchasing history.\n",
            "    * **Reinforcement Learning:** The algorithm learns through trial and error by interacting with an environment and receiving rewards or penalties for its actions.  This is commonly used in robotics and game playing.\n",
            "\n",
            "* **Deep Learning (DL):** A specialized subset of ML that uses artificial neural networks with multiple layers (hence \"deep\"). These networks are inspired by the structure and function of the human brain.  They excel at tasks involving complex patterns, like image recognition, natural language processing, and speech recognition.\n",
            "\n",
            "**3. Training and Optimization:**  AI models are \"trained\" using vast amounts of data.  This involves feeding the data into the model and adjusting its parameters (weights and biases in neural networks) to minimize errors and improve accuracy.  This process often involves sophisticated optimization algorithms that iteratively refine the model's performance.\n",
            "\n",
            "**4. Inference (Prediction):** Once trained, the model can make predictions or decisions on new, unseen data. This is called inference.  For example, a trained image recognition model can identify objects in a new image it has never encountered before.\n",
            "\n",
            "**5. Evaluation and Refinement:**  The performance of an AI model is constantly evaluated using various metrics (accuracy, precision, recall, etc.).  Based on this evaluation, the model can be further refined, retrained, or improved to enhance its capabilities.\n",
            "\n",
            "\n",
            "In essence, AI works by combining vast amounts of data, powerful algorithms, and iterative training to create systems that can learn, reason, and make decisions, often mimicking – and sometimes surpassing – human capabilities in specific tasks.  The specific techniques used vary significantly depending on the task and the available data.\n",
            "\n"
          ]
        }
      ]
    },
    {
      "cell_type": "code",
      "source": [
        "from langchain_groq import ChatGroq\n",
        "from sentence_transformers import SentenceTransformer # Import SentenceTransformer instead of GroqEmbedding\n",
        "\n",
        "\n",
        "llm = ChatGroq(model=\"mixtral-8x7b-32768\")\n",
        "\n",
        "llm.invoke(\"tell me something about ai\")\n",
        "\n",
        "# Now use SentenceTransformer for embedding\n",
        "embedding_model = SentenceTransformer('all-mpnet-base-v2')  # Choose a suitable pre-trained model\n",
        "embedding = embedding_model.encode(\"tell me something about ai\")\n",
        "\n",
        "print(embedding) # Print the embedding to see the result"
      ],
      "metadata": {
        "id": "6DmQlQ0FViCo"
      },
      "execution_count": null,
      "outputs": []
    },
    {
      "cell_type": "markdown",
      "source": [
        "## Load Data"
      ],
      "metadata": {
        "id": "fYT_mkVMKDrY"
      }
    },
    {
      "cell_type": "code",
      "source": [
        "urls= [\"https://lilianweng.github.io/posts/2023-06-23-agent/\",\n",
        "      \"https://lilianweng.github.io/posts/2023-03-15-prompt-engineering/\"]\n",
        "docs = [WebBaseLoader(url).load() for url in urls]\n",
        "\n",
        "docs[0][0].metadata"
      ],
      "metadata": {
        "colab": {
          "base_uri": "https://localhost:8080/"
        },
        "id": "f6S3v7jPKF7u",
        "outputId": "6b2d73f5-ab31-45f0-aefd-d1dca69b135d"
      },
      "execution_count": 32,
      "outputs": [
        {
          "output_type": "execute_result",
          "data": {
            "text/plain": [
              "{'source': 'https://lilianweng.github.io/posts/2023-06-23-agent/',\n",
              " 'title': \"LLM Powered Autonomous Agents | Lil'Log\",\n",
              " 'description': 'Building agents with LLM (large language model) as its core controller is a cool concept. Several proof-of-concepts demos, such as AutoGPT, GPT-Engineer and BabyAGI, serve as inspiring examples. The potentiality of LLM extends beyond generating well-written copies, stories, essays and programs; it can be framed as a powerful general problem solver.\\nAgent System Overview\\nIn a LLM-powered autonomous agent system, LLM functions as the agent’s brain, complemented by several key components:\\n\\nPlanning\\n\\nSubgoal and decomposition: The agent breaks down large tasks into smaller, manageable subgoals, enabling efficient handling of complex tasks.\\nReflection and refinement: The agent can do self-criticism and self-reflection over past actions, learn from mistakes and refine them for future steps, thereby improving the quality of final results.\\n\\n\\nMemory\\n\\nShort-term memory: I would consider all the in-context learning (See Prompt Engineering) as utilizing short-term memory of the model to learn.\\nLong-term memory: This provides the agent with the capability to retain and recall (infinite) information over extended periods, often by leveraging an external vector store and fast retrieval.\\n\\n\\nTool use\\n\\nThe agent learns to call external APIs for extra information that is missing from the model weights (often hard to change after pre-training), including current information, code execution capability, access to proprietary information sources and more.\\n\\n\\n\\n\\nFig. 1. Overview of a LLM-powered autonomous agent system.\\nComponent One: Planning\\nA complicated task usually involves many steps. An agent needs to know what they are and plan ahead.',\n",
              " 'language': 'en'}"
            ]
          },
          "metadata": {},
          "execution_count": 32
        }
      ]
    },
    {
      "cell_type": "code",
      "source": [
        "docs_list = [item for sublist in docs for item in sublist]\n",
        "\n",
        "text_splitter=RecursiveCharacterTextSplitter.from_tiktoken_encoder(chunk_size=100, chunk_overlap=5)\n",
        "doc_splits=text_splitter.split_documents(docs_list)\n",
        "doc_splits"
      ],
      "metadata": {
        "id": "L0nILKQtMm7L"
      },
      "execution_count": null,
      "outputs": []
    },
    {
      "cell_type": "code",
      "source": [
        "\n",
        "from langchain_community.embeddings import HuggingFaceEmbeddings\n",
        "\n",
        "embedding_model = HuggingFaceEmbeddings(model_name=\"all-mpnet-base-v2\")\n",
        "\n",
        "\n",
        "vectorstore=Chroma.from_documents(\n",
        "    documents=doc_splits,\n",
        "    collection_name=\"rag-chrome\",\n",
        "    embedding=embedding_model\n",
        ")\n"
      ],
      "metadata": {
        "id": "wCTnL03wOGVQ"
      },
      "execution_count": 34,
      "outputs": []
    },
    {
      "cell_type": "code",
      "source": [
        "retriever=vectorstore.as_retriever()\n"
      ],
      "metadata": {
        "id": "QWWBnrbyPpaB"
      },
      "execution_count": 35,
      "outputs": []
    },
    {
      "cell_type": "markdown",
      "source": [
        "### convert retriever to tool"
      ],
      "metadata": {
        "id": "66-IFDTlqrgo"
      }
    },
    {
      "cell_type": "code",
      "source": [
        "retriever_tool = create_retriever_tool(\n",
        "    retriever,\n",
        "    \"retrieve_blog_posts\",\n",
        "    \"Search and return information about Lilian Weng blog posts on LLM agents, prompt engineering, and adversarial attacks on LLMs.You are a specialized assistant. Use the 'retriever_tool' **only** when the query explicitly relates to LangChain blog data. For all other queries, respond directly without using any tool. For simple queries like 'hi', 'hello', or 'how are you', provide a normal response.\",\n",
        "\n",
        ")"
      ],
      "metadata": {
        "id": "YLf2hjNEqx55"
      },
      "execution_count": 36,
      "outputs": []
    },
    {
      "cell_type": "code",
      "source": [
        "tools=[retriever_tool]"
      ],
      "metadata": {
        "id": "1EsabF4EsEYW"
      },
      "execution_count": 37,
      "outputs": []
    },
    {
      "cell_type": "markdown",
      "source": [
        "## Fuctions & Graph"
      ],
      "metadata": {
        "id": "ZkOKdhL4ANmJ"
      }
    },
    {
      "cell_type": "code",
      "source": [
        "class AgentState(TypedDict):\n",
        "    messages: Annotated[Sequence[BaseMessage], add_messages]"
      ],
      "metadata": {
        "id": "24X3jfqbUJ6D"
      },
      "execution_count": 38,
      "outputs": []
    },
    {
      "cell_type": "code",
      "source": [
        "class grade(BaseModel):\n",
        "    binary_score:str=Field(description=\"Relevance score 'yes' or 'no'\")"
      ],
      "metadata": {
        "id": "j3UmoWzVCskx"
      },
      "execution_count": 39,
      "outputs": []
    },
    {
      "cell_type": "code",
      "source": [
        "def grade_documents(state:AgentState)->Literal[\"Output_Generator\", \"Query_Rewriter\"]:\n",
        "    llm_with_structure_op=llm.with_structured_output(grade)\n",
        "\n",
        "    prompt=PromptTemplate(\n",
        "        template=\"\"\"You are a grader deciding if a document is relevant to a user’s question.\n",
        "                    Here is the document: {context}\n",
        "                    Here is the user’s question: {question}\n",
        "                    If the document talks about or contains information related to the user’s question, mark it as relevant.\n",
        "                    Give a 'yes' or 'no' answer to show if the document is relevant to the question.\"\"\",\n",
        "                    input_variables=[\"context\", \"question\"]\n",
        "                    )\n",
        "    chain = prompt | llm_with_structure_op\n",
        "\n",
        "    messages = state[\"messages\"]\n",
        "    print(f\"message from the grader: {messages}\")\n",
        "    last_message = messages[-1]\n",
        "    question = messages[0].content\n",
        "    docs = last_message.content\n",
        "    scored_result = chain.invoke({\"question\": question, \"context\": docs})\n",
        "    score = scored_result.binary_score\n",
        "\n",
        "    if score == \"yes\":\n",
        "        print(\"---DECISION: DOCS RELEVANT---\")\n",
        "        return \"generator\" #this should be a node name\n",
        "    else:\n",
        "        print(\"---DECISION: DOCS NOT RELEVANT---\")\n",
        "        return \"rewriter\" #this should be a node name\n"
      ],
      "metadata": {
        "id": "V5NCGYnpC2Rj"
      },
      "execution_count": 40,
      "outputs": []
    },
    {
      "cell_type": "code",
      "source": [
        "def ai_assistant(state):\n",
        "    print(\"---CALL AGENT---\")\n",
        "    messages = state['messages']\n",
        "    print(f\"this is my message: {messages}\")\n",
        "\n",
        "    llm_with_tool = llm.bind_tools(tools)\n",
        "    response = llm_with_tool.invoke(messages)\n",
        "    #response=handle_query(messages)\n",
        "    return {\"messages\": [response]}\n",
        "\n",
        "\n",
        "\n",
        "    # print(\"---CALL AGENT---\")\n",
        "    # messages = state['messages']\n",
        "    # print(f\"this is my message: {messages}\")\n",
        "\n",
        "    # if len(messages)>1:\n",
        "    #     response=llm.invoke(messages[-1].content)\n",
        "    #     return {\"messages\": [response]}\n",
        "    # else:\n",
        "    #     llm_with_tool = llm.bind_tools(tools)\n",
        "    #     response = llm_with_tool.invoke(messages)\n",
        "    #     #response=handle_query(messages)\n",
        "    #     return {\"messages\": [response]}\n"
      ],
      "metadata": {
        "id": "5RUsp2p0ARbr"
      },
      "execution_count": 41,
      "outputs": []
    },
    {
      "cell_type": "code",
      "source": [
        "def retrieve(state):\n",
        "  pass"
      ],
      "metadata": {
        "id": "0peOMOp2AVUG"
      },
      "execution_count": 42,
      "outputs": []
    },
    {
      "cell_type": "code",
      "source": [
        "from langchain_core.messages import  HumanMessage\n",
        "def rewrite(state:AgentState):\n",
        "    print(\"---TRANSFORM QUERY---\")\n",
        "    messages = state[\"messages\"]\n",
        "    question = messages[0].content\n",
        "\n",
        "    print(f\"here is message from rewrite: {messages}\")\n",
        "\n",
        "    message = [HumanMessage(content=f\"\"\"Look at the input and try to reason about the underlying semantic intent or meaning.\n",
        "                    Here is the initial question: {question}\n",
        "                    Formulate an improved question: \"\"\")\n",
        "       ]\n",
        "    response = llm.invoke(message)\n",
        "    return {\"messages\": [response]}\n"
      ],
      "metadata": {
        "id": "sLYBYeFNAg8K"
      },
      "execution_count": 43,
      "outputs": []
    },
    {
      "cell_type": "code",
      "source": [
        "def generate(state:AgentState):\n",
        "    print(\"---GENERATE---\")\n",
        "    messages = state[\"messages\"]\n",
        "\n",
        "    print(f\"here is message from generate: {messages}\")\n",
        "\n",
        "    question = messages[0].content\n",
        "    last_message = messages[-1]\n",
        "    docs = last_message.content\n",
        "\n",
        "    prompt = \"\"\"\n",
        "                You are an assistant for question-answering tasks. Use the following pieces of retrieved context to answer the question.\n",
        "                If you don't know the answer, just say that you don't know. Use three sentences maximum and keep the answer concise.\n",
        "                Question: {question}\n",
        "                Context: {context}\n",
        "                Answer:\n",
        "            \"\"\"\n",
        "\n",
        "    rag_chain = prompt | llm\n",
        "\n",
        "    response = rag_chain.invoke({\"context\": docs, \"question\": question})\n",
        "    print(f\"this is my response:{response}\")\n",
        "\n",
        "    return {\"messages\": [response]}\n"
      ],
      "metadata": {
        "id": "WywPV4WiAktk"
      },
      "execution_count": 44,
      "outputs": []
    },
    {
      "cell_type": "code",
      "source": [
        "workflow=StateGraph(AgentState)\n",
        "workflow.add_node(\"ai_assistant\",ai_assistant)\n",
        "retrieve=ToolNode([retriever_tool])   ### way to add retriever_tool under node\n",
        "workflow.add_node(\"retriever\", retrieve)\n",
        "workflow.add_node(\"rewriter\", rewrite)\n",
        "workflow.add_node(\"generator\", generate)\n"
      ],
      "metadata": {
        "id": "josu2KMNAsq6",
        "colab": {
          "base_uri": "https://localhost:8080/"
        },
        "outputId": "ea8a9ccb-eb6a-4bcf-f189-3dba98434d05"
      },
      "execution_count": 45,
      "outputs": [
        {
          "output_type": "execute_result",
          "data": {
            "text/plain": [
              "<langgraph.graph.state.StateGraph at 0x79a7371a3550>"
            ]
          },
          "metadata": {},
          "execution_count": 45
        }
      ]
    },
    {
      "cell_type": "code",
      "source": [
        "workflow.add_edge(START, \"ai_assistant\")\n",
        "\n",
        "workflow.add_conditional_edges(\"ai_assistant\",\n",
        "                               tools_condition,\n",
        "                               {\"tools\": \"retriever\",\n",
        "                                END: END,})\n",
        "\n",
        "workflow.add_conditional_edges(\"retriever\",\n",
        "                            grade_documents,\n",
        "                            {\"generator\": \"generator\",\n",
        "                            \"rewriter\": \"rewriter\"\n",
        "                            }\n",
        "                            )\n",
        "\n",
        "workflow.add_edge(\"generator\", END)\n",
        "\n",
        "workflow.add_edge(\"rewriter\", \"ai_assistant\")\n"
      ],
      "metadata": {
        "id": "0z-oLiDQBetq",
        "colab": {
          "base_uri": "https://localhost:8080/"
        },
        "outputId": "6ca91a98-671f-4fab-ac6e-2e64134a4d74"
      },
      "execution_count": 46,
      "outputs": [
        {
          "output_type": "execute_result",
          "data": {
            "text/plain": [
              "<langgraph.graph.state.StateGraph at 0x79a7371a3550>"
            ]
          },
          "metadata": {},
          "execution_count": 46
        }
      ]
    },
    {
      "cell_type": "code",
      "source": [
        "app = workflow.compile()"
      ],
      "metadata": {
        "id": "BMKy1NHDEVBu"
      },
      "execution_count": 47,
      "outputs": []
    },
    {
      "cell_type": "code",
      "source": [
        "from IPython.display import Image, display\n",
        "\n",
        "try:\n",
        "    display(Image(app.get_graph(xray=True).draw_mermaid_png()))\n",
        "except Exception:\n",
        "    # This requires some extra dependencies and is optional\n",
        "    pass"
      ],
      "metadata": {
        "id": "J6MQJ8DFs3EZ",
        "outputId": "f687c3ef-e94d-4a40-c7bd-cbc7dc51163e",
        "colab": {
          "base_uri": "https://localhost:8080/",
          "height": 473
        }
      },
      "execution_count": 51,
      "outputs": [
        {
          "output_type": "display_data",
          "data": {
            "image/png": "[encoded data removed]",
            "text/plain": [
              "<IPython.core.display.Image object>"
            ]
          },
          "metadata": {}
        }
      ]
    },
    {
      "cell_type": "code",
      "source": [
        "app.invoke({\"messages\": [HumanMessage(content=\"tell me something about ai\")]})"
      ],
      "metadata": {
        "id": "GktjJiiJEc8K",
        "colab": {
          "base_uri": "https://localhost:8080/"
        },
        "outputId": "5dd32b31-71ae-4fe7-bf09-0540ec72db43"
      },
      "execution_count": 48,
      "outputs": [
        {
          "output_type": "stream",
          "name": "stdout",
          "text": [
            "---CALL AGENT---\n",
            "this is my message: [HumanMessage(content='tell me something about ai', additional_kwargs={}, response_metadata={}, id='a6f103f5-f66e-4a69-b5f3-8412e93d6bf2')]\n"
          ]
        },
        {
          "output_type": "execute_result",
          "data": {
            "text/plain": [
              "{'messages': [HumanMessage(content='tell me something about ai', additional_kwargs={}, response_metadata={}, id='a6f103f5-f66e-4a69-b5f3-8412e93d6bf2'),\n",
              "  AIMessage(content=\"AI, or artificial intelligence, is a field of computer science that focuses on creating smart machines capable of performing tasks that would typically require human intelligence. This includes activities such as learning, reasoning, problem-solving, perception, and language understanding. AI has various applications, including gaming, voice recognition, and self-driving cars. It's a rapidly evolving field, with ongoing research to create even more sophisticated and intelligent systems.\", additional_kwargs={}, response_metadata={'token_usage': {'completion_tokens': 89, 'prompt_tokens': 1267, 'total_tokens': 1356, 'completion_time': 0.136576439, 'prompt_time': 0.142741537, 'queue_time': 0.02003823099999999, 'total_time': 0.279317976}, 'model_name': 'mixtral-8x7b-32768', 'system_fingerprint': 'fp_c5f20b5bb1', 'finish_reason': 'stop', 'logprobs': None}, id='run-db010290-34c7-49bd-bb64-411bb75b6dc1-0', usage_metadata={'input_tokens': 1267, 'output_tokens': 89, 'total_tokens': 1356})]}"
            ]
          },
          "metadata": {},
          "execution_count": 48
        }
      ]
    },
    {
      "cell_type": "code",
      "source": [
        "app.invoke({\"messages\": [HumanMessage(content=\"what is autonomous agent ?\")]})"
      ],
      "metadata": {
        "id": "lVa82xsxrhEk",
        "outputId": "855c4dc0-71ff-46b3-f65d-c5c8aaa4780e",
        "colab": {
          "base_uri": "https://localhost:8080/"
        }
      },
      "execution_count": 49,
      "outputs": [
        {
          "output_type": "stream",
          "name": "stdout",
          "text": [
            "---CALL AGENT---\n",
            "this is my message: [HumanMessage(content='what is autonomous agent ?', additional_kwargs={}, response_metadata={}, id='d3711457-4f1b-4701-8a10-30df104af6fe')]\n"
          ]
        },
        {
          "output_type": "execute_result",
          "data": {
            "text/plain": [
              "{'messages': [HumanMessage(content='what is autonomous agent ?', additional_kwargs={}, response_metadata={}, id='d3711457-4f1b-4701-8a10-30df104af6fe'),\n",
              "  AIMessage(content='An autonomous agent is a software entity that can independently make decisions and perform tasks based on its programming and input from the environment. It can perceive its surroundings, reason about the information it receives, and take actions to achieve its goals. Autonomous agents can be found in various applications, such as robotics, gaming, and artificial intelligence.', additional_kwargs={}, response_metadata={'token_usage': {'completion_tokens': 71, 'prompt_tokens': 1268, 'total_tokens': 1339, 'completion_time': 0.109002781, 'prompt_time': 0.155527114, 'queue_time': 0.01862308700000001, 'total_time': 0.264529895}, 'model_name': 'mixtral-8x7b-32768', 'system_fingerprint': 'fp_c5f20b5bb1', 'finish_reason': 'stop', 'logprobs': None}, id='run-294c5c1a-7ead-423e-b017-50f8f57ed535-0', usage_metadata={'input_tokens': 1268, 'output_tokens': 71, 'total_tokens': 1339})]}"
            ]
          },
          "metadata": {},
          "execution_count": 49
        }
      ]
    },
    {
      "cell_type": "code",
      "source": [
        "app.invoke({\"messages\": [HumanMessage(content=\"who is the prime minister of India ?\")]})"
      ],
      "metadata": {
        "id": "C7J-IXdOslWr",
        "outputId": "22a34ce0-86a6-4c83-e59a-d2f723945b1d",
        "colab": {
          "base_uri": "https://localhost:8080/"
        }
      },
      "execution_count": 50,
      "outputs": [
        {
          "output_type": "stream",
          "name": "stdout",
          "text": [
            "---CALL AGENT---\n",
            "this is my message: [HumanMessage(content='who is the prime minister of India ?', additional_kwargs={}, response_metadata={}, id='61cb2d39-8f9c-40d4-b3c0-e6071c49ef50')]\n"
          ]
        },
        {
          "output_type": "execute_result",
          "data": {
            "text/plain": [
              "{'messages': [HumanMessage(content='who is the prime minister of India ?', additional_kwargs={}, response_metadata={}, id='61cb2d39-8f9c-40d4-b3c0-e6071c49ef50'),\n",
              "  AIMessage(content=\"The current Prime Minister of India is Narendra Modi. I didn't need to use any tools to provide this answer.\", additional_kwargs={}, response_metadata={'token_usage': {'completion_tokens': 29, 'prompt_tokens': 1270, 'total_tokens': 1299, 'completion_time': 0.043426923, 'prompt_time': 0.056962058, 'queue_time': 0.020166152, 'total_time': 0.100388981}, 'model_name': 'mixtral-8x7b-32768', 'system_fingerprint': 'fp_c5f20b5bb1', 'finish_reason': 'stop', 'logprobs': None}, id='run-41f16f90-b55e-4030-a89a-9582035180cd-0', usage_metadata={'input_tokens': 1270, 'output_tokens': 29, 'total_tokens': 1299})]}"
            ]
          },
          "metadata": {},
          "execution_count": 50
        }
      ]
    }
  ]
}