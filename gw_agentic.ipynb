{
  "nbformat": 4,
  "nbformat_minor": 0,
  "metadata": {
    "colab": {
      "provenance": [],
      "authorship_tag": "ABX9TyN3OSGfwtxHMj6sn11SudI/",
      "include_colab_link": true
    },
    "kernelspec": {
      "name": "python3",
      "display_name": "Python 3"
    },
    "language_info": {
      "name": "python"
    }
  },
  "cells": [
    {
      "cell_type": "markdown",
      "metadata": {
        "id": "view-in-github",
        "colab_type": "text"
      },
      "source": [
        "<a href=\"https://colab.research.google.com/github/praffuln/agentic-ai/blob/master/gw_agentic.ipynb\" target=\"_parent\"><img src=\"https://colab.research.google.com/assets/colab-badge.svg\" alt=\"Open In Colab\"/></a>"
      ]
    },
    {
      "cell_type": "code",
      "execution_count": 1,
      "metadata": {
        "colab": {
          "base_uri": "https://localhost:8080/"
        },
        "id": "QUgQezdm4JEh",
        "outputId": "6b0ec9f0-fddb-4514-8180-98ed1c9820a4"
      },
      "outputs": [
        {
          "output_type": "stream",
          "name": "stdout",
          "text": [
            "hello world\n"
          ]
        }
      ],
      "source": [
        "# prompt: print hello world\n",
        "\n",
        "print(\"hello world\")"
      ]
    },
    {
      "cell_type": "code",
      "source": [
        "!pip install google-generativeai tiktoken chromadb langgraph langchain langchain_community langchainhub ipykernel langchain_groq sentence_transformers boto3 langchain_aws docx exceptions\n",
        "!pip install --upgrade python-docx"
      ],
      "metadata": {
        "id": "wVOW-bao4dak"
      },
      "execution_count": null,
      "outputs": []
    },
    {
      "cell_type": "markdown",
      "source": [
        "### Import dependencies"
      ],
      "metadata": {
        "id": "RmPwyiHl5IaS"
      }
    },
    {
      "cell_type": "code",
      "source": [
        "from typing import List, Any, Optional, TypedDict, Dict\n",
        "from pydantic import BaseModel, Field, root_validator\n",
        "from langchain_community.document_loaders import PyPDFLoader\n",
        "from langchain.document_loaders import TextLoader\n",
        "from langchain.llms import OpenAI\n",
        "from langchain.schema import SystemMessage, HumanMessage\n",
        "import boto3\n",
        "from langchain_aws.chat_models.bedrock import ChatBedrock\n",
        "from langgraph.graph import END, StateGraph, START\n",
        "from docx import Document\n",
        "import json\n",
        "\n",
        "import re\n",
        "from typing import Dict, List"
      ],
      "metadata": {
        "id": "ol834Nm35H49"
      },
      "execution_count": 12,
      "outputs": []
    }
  ]
}