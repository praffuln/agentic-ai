{
  "nbformat": 4,
  "nbformat_minor": 0,
  "metadata": {
    "colab": {
      "provenance": [],
      "authorship_tag": "ABX9TyPV3Lbhhcgs4W52sbmVwODu",
      "include_colab_link": true
    },
    "kernelspec": {
      "name": "python3",
      "display_name": "Python 3"
    },
    "language_info": {
      "name": "python"
    }
  },
  "cells": [
    {
      "cell_type": "markdown",
      "metadata": {
        "id": "view-in-github",
        "colab_type": "text"
      },
      "source": [
        "<a href=\"https://colab.research.google.com/github/praffuln/agentic-ai/blob/master/gw_agentic.ipynb\" target=\"_parent\"><img src=\"https://colab.research.google.com/assets/colab-badge.svg\" alt=\"Open In Colab\"/></a>"
      ]
    },
    {
      "cell_type": "code",
      "execution_count": 1,
      "metadata": {
        "colab": {
          "base_uri": "https://localhost:8080/"
        },
        "id": "QUgQezdm4JEh",
        "outputId": "6b0ec9f0-fddb-4514-8180-98ed1c9820a4"
      },
      "outputs": [
        {
          "output_type": "stream",
          "name": "stdout",
          "text": [
            "hello world\n"
          ]
        }
      ],
      "source": [
        "# prompt: print hello world\n",
        "\n",
        "print(\"hello world\")"
      ]
    },
    {
      "cell_type": "code",
      "source": [
        "!pip install google-generativeai tiktoken chromadb langgraph langchain langchain_community langchainhub ipykernel langchain_groq sentence_transformers boto3 langchain_aws docx exceptions langchain_openai\n",
        "!pip install --upgrade python-docx"
      ],
      "metadata": {
        "id": "wVOW-bao4dak"
      },
      "execution_count": null,
      "outputs": []
    },
    {
      "cell_type": "markdown",
      "source": [
        "### Import dependencies"
      ],
      "metadata": {
        "id": "RmPwyiHl5IaS"
      }
    },
    {
      "cell_type": "code",
      "source": [
        "from typing import List, Any, Optional, TypedDict, Dict\n",
        "from pydantic import BaseModel, Field, root_validator\n",
        "from langchain_community.document_loaders import PyPDFLoader\n",
        "from langchain.document_loaders import TextLoader\n",
        "from langchain.llms import OpenAI\n",
        "from langchain.schema import SystemMessage, HumanMessage\n",
        "import boto3\n",
        "from langchain_aws.chat_models.bedrock import ChatBedrock\n",
        "from langgraph.graph import END, StateGraph, START\n",
        "from docx import Document\n",
        "import json\n",
        "\n",
        "import re\n",
        "from typing import Dict, List"
      ],
      "metadata": {
        "id": "ol834Nm35H49"
      },
      "execution_count": 9,
      "outputs": []
    },
    {
      "cell_type": "markdown",
      "source": [
        "## LLM"
      ],
      "metadata": {
        "id": "nppj_URn8sep"
      }
    },
    {
      "cell_type": "code",
      "source": [
        "from langchain_community.chat_models import BedrockChat\n",
        "from langchain_community.embeddings import BedrockEmbeddings\n",
        "import boto3\n",
        "import os\n",
        "from langchain_core.messages import HumanMessage, SystemMessage\n",
        "\n",
        "\n",
        "os.environ[\"AZURE_OPENAI_API_KEY\"] = \"611dff392d7a4f3780f84060b3d6bc9e\"\n",
        "os.environ[\"OPENAI_API_KEY\"] = \"611dff392d7a4f3780f84060b3d6bc9e\"\n",
        "\n",
        "\n",
        "model_embedding=\"amazon.titan-embed-text-v1\"\n",
        "# bedrock_runtime = boto3.client('bedrock-runtime', region_name=\"us-east-1\")\n",
        "# embedding_model = BedrockEmbeddings(client=bedrock_runtime,model_id=model_embedding)\n",
        "\n",
        "\n",
        "max_tokens = 1024*2*2\n",
        "temperature = 0\n",
        "top_k = 250\n",
        "top_p = 1\n",
        "model_id = \"anthropic.claude-3-sonnet-20240229-v1:0\"\n",
        "version = \"bedrock-2023-05-31\"\n",
        "pause_time = 30\n",
        "\n",
        "\n",
        "\n",
        "from enum import Enum, auto\n",
        "from abc import ABC, abstractmethod\n",
        "\n",
        "class LLM(ABC):\n",
        "    def __init__(self) -> None:\n",
        "        super().__init__()\n",
        "\n",
        "    @abstractmethod\n",
        "    def operation(self):\n",
        "        pass\n",
        "\n",
        "\n",
        "class BedrockChatSonnet(LLM):\n",
        "\n",
        "    def __init__(self) -> None:\n",
        "        super().__init__()\n",
        "        self.model = \"model\"\n",
        "\n",
        "    def operation(self):\n",
        "        #self.model.invoke() ##Like this.\n",
        "        print('invoke to BedrockChatSonnet model !!!!!')\n",
        "\n",
        "\n",
        "class BedrockChatHaiku(LLM):\n",
        "\n",
        "    def __init__(self) -> None:\n",
        "        super().__init__()\n",
        "        self.model = \"model2\"\n",
        "\n",
        "    def operation(self):\n",
        "        #self.model.invoke() ##Like this.\n",
        "        print('invoke to BedrockChatHaiku model !!!!!')\n",
        "\n",
        "class LLMType(Enum):\n",
        "\n",
        "    BedrockChatSonnet = auto()\n",
        "    BedrockChatHaiku = auto()\n",
        "\n",
        "    def some_method(self):\n",
        "        return f\"Method implemented for {self.name}\"\n",
        "\n",
        "\n",
        "# Creating a dictionary with enum members as keys\n",
        "llm_objects_map = {\n",
        "    LLMType.BedrockChatSonnet: BedrockChatSonnet(),\n",
        "    LLMType.BedrockChatHaiku: BedrockChatHaiku()\n",
        "\n",
        "}\n",
        "\n",
        "class LllProvider:\n",
        "\n",
        "    @staticmethod\n",
        "    def provide(llm_type: LLMType) -> LLM:\n",
        "        return llm_objects_map[llm_type]\n",
        "\n",
        "\n",
        "class LLMInteractor(ABC):\n",
        "\n",
        "    def __init__(self) -> None:\n",
        "        pass\n",
        "\n",
        "    @abstractmethod\n",
        "    def interact(self, conversation_id, query):\n",
        "        pass\n",
        "\n",
        "    @abstractmethod\n",
        "    def interact(self, query):\n",
        "        pass\n",
        "\n",
        "class LLMInteractorImpl(LLMInteractor):\n",
        "\n",
        "    def __init__(self) -> None:\n",
        "        super().__init__()\n",
        "        self.prompManager = object\n",
        "        self.conversation_memory = object\n",
        "        self.llm_provider = LllProvider\n",
        "\n",
        "    def interact(self, conversation_id, query) -> str:\n",
        "        ## based on promptManager, conversation_memory and llm_provider get result from llm\n",
        "        return f\"LLM Result for conversation_id - {conversation_id} and query - {query}\"\n",
        "\n",
        "\n",
        "    def interact(self, query) -> str:\n",
        "        ## based on promptManager, conversation_memory and llm_provider get result from llm\n",
        "        return f\"LLM Result for query - {query}\"\n",
        "\n",
        "\n",
        "if __name__ == \"__main__\":\n",
        "   LllProvider.provide(LLMType.BedrockChatSonnet).operation()"
      ],
      "metadata": {
        "id": "0fLPBm0H8vQv"
      },
      "execution_count": null,
      "outputs": []
    },
    {
      "cell_type": "markdown",
      "source": [
        "### Graph Manager"
      ],
      "metadata": {
        "id": "nw45sdqqJYyR"
      }
    },
    {
      "cell_type": "code",
      "source": [
        "from enum import Enum\n",
        "from typing import Callable\n",
        "\n",
        "def method1():\n",
        "    return \"method1 result\"\n",
        "\n",
        "def method2():\n",
        "    return 42\n",
        "\n",
        "def method3():\n",
        "    print('Hello World')\n",
        "\n",
        "class Tool(Enum):\n",
        "    METHOD1 = (\"method1\", method1)\n",
        "    METHOD2 = (\"method2\", method2)\n",
        "    METHOD3 = (\"method3\", method3)\n",
        "\n",
        "    def __init__(self, identifier: str, toolFunction: Callable[[], object]):\n",
        "        self.identifier = identifier\n",
        "        self.toolFunction = toolFunction\n",
        "\n",
        "# Accessing METHOD1 and METHOD2 and calling their functions\n",
        "tool1 = Tool.METHOD1\n",
        "tool2 = Tool.METHOD2\n",
        "tool3 = Tool.METHOD3\n",
        "\n",
        "# print(f\"Tool: {tool1.identifier}, Result: {tool1.toolFunction()}\")\n",
        "# print(f\"Tool: {tool2.identifier}, Result: {tool2.toolFunction()}\")\n",
        "# print(f\"Tool: {tool3.identifier}, Result: {tool3.toolFunction()}\")\n",
        "\n",
        "\n",
        "#### Iterate over all the values of tools\n",
        "for tool in Tool:\n",
        "    print(f\"Tool: {tool.identifier}, Result: {tool.toolFunction()}\")\n",
        "\n",
        "####### create ToolList"
      ],
      "metadata": {
        "colab": {
          "base_uri": "https://localhost:8080/"
        },
        "id": "1hzobP_8Jfx8",
        "outputId": "6bb81c2c-e80a-4f95-b165-a59d555356a7"
      },
      "execution_count": 4,
      "outputs": [
        {
          "output_type": "stream",
          "name": "stdout",
          "text": [
            "Tool: method1, Result: method1 result\n",
            "Tool: method2, Result: 42\n",
            "Hello World\n",
            "Tool: method3, Result: None\n"
          ]
        }
      ]
    },
    {
      "cell_type": "markdown",
      "source": [
        "### Edge"
      ],
      "metadata": {
        "id": "kj68MP8MKz7z"
      }
    },
    {
      "cell_type": "code",
      "source": [
        "class EdgeType(Enum):\n",
        "    DIRECTED = \"Directed\"\n",
        "    UNDIRECTED = \"Undirected\"\n",
        "\n",
        "\n",
        "class Edge(Enum):\n",
        "\n",
        "    EDGE_1 = (Tool.METHOD1, Tool.METHOD2, EdgeType.DIRECTED)\n",
        "    EDGE_2 = (Tool.METHOD2, Tool.METHOD3, EdgeType.DIRECTED)\n",
        "\n",
        "    def __init__(self, tool1: Tool, tool2: Tool, edge_type: EdgeType):\n",
        "        self.tool1 = tool1\n",
        "        self.tool2 = tool2\n",
        "        self.edge_type = edge_type\n",
        "\n",
        "    def __str__(self):\n",
        "        return f\"Edge({self.tool1.identifier}, {self.tool2.identifier}, {self.edge_type.value})\"\n",
        "\n",
        "\n",
        "#### Iterate over all the values of edges\n",
        "for edge in Edge:\n",
        "  print(edge)\n",
        "\n",
        ""
      ],
      "metadata": {
        "colab": {
          "base_uri": "https://localhost:8080/"
        },
        "id": "VRKlOoZoK2gE",
        "outputId": "cd83f3ba-b331-467b-85c0-f2501a2af827"
      },
      "execution_count": 7,
      "outputs": [
        {
          "output_type": "stream",
          "name": "stdout",
          "text": [
            "Edge(method1, method2, Directed)\n",
            "Edge(method2, method3, Directed)\n"
          ]
        }
      ]
    },
    {
      "cell_type": "markdown",
      "source": [
        "### Agentstate"
      ],
      "metadata": {
        "id": "EbPY5OQBMaez"
      }
    },
    {
      "cell_type": "code",
      "source": [
        "class AgentState(TypedDict):\n",
        "    input_text: str\n",
        "    GreenWashingWords: List\n",
        "    Sentences: List\n",
        "    Actions: List\n",
        "    flagged_keywords_sentences : List\n",
        "    flagged_sentences : List\n",
        "    unflagged_keywords_sentences: List\n",
        "    ChangedSentence: List\n",
        "    corrected_proposals : dict\n",
        "    unflagged_proposals : dict\n",
        "    verified_text : str\n",
        "    greenwashing_percentage : List\n",
        "\n",
        "    identification: dict\n",
        "    verification: dict\n",
        "    OriginalSentence: List[str]\n",
        "    verification_results: dict"
      ],
      "metadata": {
        "id": "3FijxurZMb3u"
      },
      "execution_count": 11,
      "outputs": []
    },
    {
      "cell_type": "markdown",
      "source": [
        "### graph setup"
      ],
      "metadata": {
        "id": "k36CGTonM3Bu"
      }
    },
    {
      "cell_type": "markdown",
      "source": [
        "### Tool List\n",
        "\n",
        "\n"
      ],
      "metadata": {
        "id": "Hv6RWqkLOiau"
      }
    },
    {
      "cell_type": "code",
      "source": [
        "# Function to identify greenwashing terms\n",
        "def identify_tool(state: AgentState):\n",
        "    print(\"-------------------Starting Indetify tool----------------\")\n",
        "    input_text = state[\"input_text\"]\n",
        "    GreenWashingWords = [\"Green\", \"Washing\", \"Words\"]\n",
        "    Sentences = [\"Identify tool state AgentState....\"]\n",
        "\n",
        "    return {\"GreenWashingWords\":GreenWashingWords, \"Sentences\":Sentences}\n",
        "\n",
        "\n",
        "\n",
        "# Function to verify greenwashing\n",
        "def verify_greenwashing(state: AgentState):\n",
        "    input_text = state[\"input_text\"]\n",
        "    GreenWashingWords = state[\"GreenWashingWords\"]\n",
        "    Sentences = state[\"Sentences\"]\n",
        "    Actions = [\"actions1\", \"actions2\"]\n",
        "\n",
        "    return {\"GreenWashingWords\":GreenWashingWords, \"Sentences\":Sentences, \"Actions\":Actions}\n",
        "\n",
        "\n",
        "# Function to verify greenwashing\n",
        "def get_flagged_keywords(state: AgentState):\n",
        "    GreenWashingWords = state[\"GreenWashingWords\"]\n",
        "    Sentences = state[\"Sentences\"]\n",
        "    Actions = state[\"Actions\"]\n",
        "    flagged_keywords_sentences = [\"flagged\", \"keywords\", \"sentences\"]\n",
        "    flagged_sentences = [\"flagged\", \"sentences\"]\n",
        "\n",
        "\n",
        "    return {\"flagged_keywords_sentences\":flagged_keywords_sentences,\n",
        "            \"flagged_sentences\":flagged_sentences}\n",
        "\n",
        "\n",
        "# Function to get unflagged keywords sentences\n",
        "def get_unflagged_keywords_sentences(state: AgentState):\n",
        "    GreenWashingWords = state[\"GreenWashingWords\"]\n",
        "    Sentences = state[\"Sentences\"]\n",
        "    Actions = state[\"Actions\"]\n",
        "    unflagged_keywords_sentences = [\"unflagged\", \"keywords\", \"sentences\"]\n",
        "\n",
        "    return {\"unflagged_keywords_sentences\":unflagged_keywords_sentences}\n",
        "\n",
        "\n",
        "# Function to get correct propose tool\n",
        "def correct_propose_tool(state: AgentState):\n",
        "    flagged_keywords_sentences = state[\"flagged_keywords_sentences\"]\n",
        "    corrected_proposals  = {}\n",
        "    corrected_proposal = [\"corrected\", \"proposal\"]\n",
        "\n",
        "    return {\"corrected_proposals\":corrected_proposals}\n",
        "\n",
        "\n",
        "## Function to correct grammar tool\n",
        "def correct_grammar_tool(state: AgentState):\n",
        "    corrected_proposals  = state[\"corrected_proposals\"]\n",
        "\n",
        "    return {\"corrected_proposals\":corrected_proposals}\n",
        "\n",
        "## Function to unflagged proposal tool\n",
        "def unflagged_proposal_tool(state: AgentState):\n",
        "    unflagged_keywords_sentences = state[\"unflagged_keywords_sentences\"]\n",
        "    unflagged_proposals = [\"unflagged\", \"proposals\"]\n",
        "\n",
        "    return {\"unflagged_proposals\":unflagged_proposals}\n",
        "\n",
        "\n",
        "## Function for verifier tool\n",
        "def verifier_tool(state: AgentState):\n",
        "    input_text = state[\"input_text\"]\n",
        "    corrected_proposals = state[\"corrected_proposals\"]\n",
        "    print(corrected_proposals)\n",
        "    unflagged_proposals = state[\"unflagged_proposals\"]\n",
        "    print(unflagged_proposals)\n",
        "    greenwashing_percentage = state[\"greenwashing_percentage\"]\n",
        "    print(greenwashing_percentage)\n",
        "    verified_text = \"verified_text\"\n",
        "    print(\"-------------verifier_tool Function ended--------------\")\n",
        "    return {\"verified_text\":verified_text,\n",
        "            \"corrected_proposals\":corrected_proposals,\n",
        "            \"unflagged_proposals\":unflagged_proposals,\n",
        "            \"greenwashing_percentage\":greenwashing_percentage,\n",
        "            }\n",
        "\n",
        "\n",
        "## function calculate_greenwashing_percentage\n",
        "def calculate_greenwashing_percentage(state: AgentState):\n",
        "    Sentences = state[\"Sentences\"]\n",
        "    input_text = state[\"input_text\"]\n",
        "    greenwashing_percentage = [12]\n",
        "\n",
        "    return {\"greenwashing_percentage\":greenwashing_percentage}\n",
        "\n",
        "\n",
        "## function change_state_variables\n",
        "def change_state_variables(state: AgentState):\n",
        "    if \"verified_text\" in state:\n",
        "        verified_text = state[\"verified_text\"]\n",
        "        return {\"input_text\": verified_text}\n",
        "    else:\n",
        "        raise KeyError(\"Key2 'verified_text' not found in state\")"
      ],
      "metadata": {
        "id": "YtcI03R-Myq3"
      },
      "execution_count": 20,
      "outputs": []
    },
    {
      "cell_type": "code",
      "source": [
        "def setup_workflow():\n",
        "    workflow = StateGraph(AgentState)\n",
        "\n",
        "    workflow.add_node(\"identify_tool\", identify_tool)\n",
        "    workflow.add_node(\"verify_greenwashing\", verify_greenwashing)\n",
        "    workflow.add_node(\"get_flagged_keywords\", get_flagged_keywords)\n",
        "    workflow.add_node(\"get_unflagged_keywords_sentences\", get_unflagged_keywords_sentences)\n",
        "    workflow.add_node(\"correct_propose_tool\", correct_propose_tool)\n",
        "    workflow.add_node(\"correct_grammar_tool\", correct_grammar_tool)\n",
        "    workflow.add_node(\"unflagged_proposal_tool\", unflagged_proposal_tool)\n",
        "    workflow.add_node(\"verifier_tool\", verifier_tool)\n",
        "    workflow.add_node(\"calculate_greenwashing_percentage\", calculate_greenwashing_percentage)\n",
        "    workflow.add_node(\"change_state_variables\", change_state_variables)\n",
        "\n",
        "\n",
        "    workflow.add_edge(START, \"identify_tool\")\n",
        "    workflow.add_edge(\"identify_tool\", \"verify_greenwashing\")\n",
        "    workflow.add_edge(\"verify_greenwashing\", \"calculate_greenwashing_percentage\")\n",
        "    workflow.add_edge(\"calculate_greenwashing_percentage\", \"get_unflagged_keywords_sentences\")\n",
        "    workflow.add_edge(\"get_unflagged_keywords_sentences\", \"unflagged_proposal_tool\")\n",
        "    workflow.add_edge(\"unflagged_proposal_tool\", \"get_flagged_keywords\")\n",
        "    workflow.add_edge(\"get_flagged_keywords\", \"correct_propose_tool\")\n",
        "    workflow.add_edge(\"correct_propose_tool\", \"correct_grammar_tool\")\n",
        "    workflow.add_edge(\"correct_grammar_tool\", \"verifier_tool\")\n",
        "\n",
        "   #  workflow.add_conditional_edges(\"verifier_tool\",\n",
        "   #                                 continue_or_not_func,\n",
        "   #                              #    {\"continue\":\"change_state_variables\",\n",
        "   #                                 {\"continue\":END,\n",
        "   #                                  \"end\":END}\n",
        "   #                                 )\n",
        "    # workflow.add_edge(\"change_state_variables\", END)\n",
        "    # workflow.add_edge(\"change_state_variables\", \"identify_tool\")\n",
        "    workflow.add_edge(\"verifier_tool\", END)\n",
        "\n",
        "    graph = workflow.compile()\n",
        "    return graph"
      ],
      "metadata": {
        "id": "SvPOsG4JMGu8"
      },
      "execution_count": 21,
      "outputs": []
    },
    {
      "cell_type": "code",
      "source": [
        "graph = setup_workflow()\n",
        "\n",
        "# print the workflow\n",
        "from IPython.display import Image, display # type: ignore\n",
        "display(Image(graph.get_graph(xray=True).draw_mermaid_png()))"
      ],
      "metadata": {
        "colab": {
          "base_uri": "https://localhost:8080/",
          "height": 1000
        },
        "id": "nRozXvHQSvpI",
        "outputId": "64156dcc-c854-4893-eb77-38a6825746cc"
      },
      "execution_count": 22,
      "outputs": [
        {
          "output_type": "display_data",
          "data": {
            "image/png": "[encoded data removed]",
            "text/plain": [
              "<IPython.core.display.Image object>"
            ]
          },
          "metadata": {}
        }
      ]
    },
    {
      "cell_type": "markdown",
      "source": [
        "### Refactored Graph Manager"
      ],
      "metadata": {
        "id": "Ncm0CkAtTwSa"
      }
    },
    {
      "cell_type": "markdown",
      "source": [
        "#### Copy tools again in a class"
      ],
      "metadata": {
        "id": "Tx-73ZfFT7Sb"
      }
    },
    {
      "cell_type": "code",
      "source": [
        "class ToolBox:\n",
        "\n",
        "  llm = \"llm_interactor\"\n",
        "  promptManager = \"promptManager\"\n",
        "  s3Loader = \"s3Loader\"\n",
        "\n",
        "  # Function to identify greenwashing terms\n",
        "  def identify_tool(state: AgentState):\n",
        "      print(\"-------------------Starting Indetify tool----------------\", ToolBox.llm, ToolBox.promptManager, ToolBox.s3Loader)\n",
        "      input_text = state[\"input_text\"]\n",
        "      GreenWashingWords = [\"Green\", \"Washing\", \"Words\"]\n",
        "      Sentences = [\"Identify tool state AgentState....\"]\n",
        "\n",
        "      return {\"GreenWashingWords\":GreenWashingWords, \"Sentences\":Sentences}\n",
        "\n",
        "\n",
        "\n",
        "  # Function to verify greenwashing\n",
        "  def verify_greenwashing(state: AgentState):\n",
        "      print(\"-------------------Starting verify_greenwashing tool----------------\")\n",
        "      input_text = state[\"input_text\"]\n",
        "      GreenWashingWords = state[\"GreenWashingWords\"]\n",
        "      Sentences = state[\"Sentences\"]\n",
        "      Actions = [\"actions1\", \"actions2\"]\n",
        "\n",
        "      return {\"GreenWashingWords\":GreenWashingWords, \"Sentences\":Sentences, \"Actions\":Actions}\n",
        "\n",
        "\n",
        "  # Function to verify greenwashing\n",
        "  def get_flagged_keywords(state: AgentState):\n",
        "      print(\"-------------------Starting get_flagged_keywords tool----------------\")\n",
        "      GreenWashingWords = state[\"GreenWashingWords\"]\n",
        "      Sentences = state[\"Sentences\"]\n",
        "      Actions = state[\"Actions\"]\n",
        "      flagged_keywords_sentences = [\"flagged\", \"keywords\", \"sentences\"]\n",
        "      flagged_sentences = [\"flagged\", \"sentences\"]\n",
        "\n",
        "\n",
        "      return {\"flagged_keywords_sentences\":flagged_keywords_sentences,\n",
        "              \"flagged_sentences\":flagged_sentences}\n",
        "\n",
        "\n",
        "  # Function to get unflagged keywords sentences\n",
        "  def get_unflagged_keywords_sentences(state: AgentState):\n",
        "      print(\"-------------------Starting get_unflagged_keywords_sentences tool----------------\")\n",
        "      GreenWashingWords = state[\"GreenWashingWords\"]\n",
        "      Sentences = state[\"Sentences\"]\n",
        "      Actions = state[\"Actions\"]\n",
        "      unflagged_keywords_sentences = [\"unflagged\", \"keywords\", \"sentences\"]\n",
        "\n",
        "      return {\"unflagged_keywords_sentences\":unflagged_keywords_sentences}\n",
        "\n",
        "\n",
        "  # Function to get correct propose tool\n",
        "  def correct_propose_tool(state: AgentState):\n",
        "      print(\"-------------------Starting correct_propose_tool tool----------------\")\n",
        "      flagged_keywords_sentences = state[\"flagged_keywords_sentences\"]\n",
        "      corrected_proposals  = {}\n",
        "      corrected_proposal = [\"corrected\", \"proposal\"]\n",
        "\n",
        "      return {\"corrected_proposals\":corrected_proposals}\n",
        "\n",
        "\n",
        "  ## Function to correct grammar tool\n",
        "  def correct_grammar_tool(state: AgentState):\n",
        "      print(\"-------------------Starting correct_grammar_tool tool----------------\")\n",
        "      corrected_proposals  = state[\"corrected_proposals\"]\n",
        "\n",
        "      return {\"corrected_proposals\":corrected_proposals}\n",
        "\n",
        "  ## Function to unflagged proposal tool\n",
        "  def unflagged_proposal_tool(state: AgentState):\n",
        "      print(\"-------------------Starting unflagged_proposal_tool tool----------------\")\n",
        "      unflagged_keywords_sentences = state[\"unflagged_keywords_sentences\"]\n",
        "      unflagged_proposals = [\"unflagged\", \"proposals\"]\n",
        "\n",
        "      return {\"unflagged_proposals\":unflagged_proposals}\n",
        "\n",
        "\n",
        "  ## Function for verifier tool\n",
        "  def verifier_tool(state: AgentState):\n",
        "      print(\"-------------------Starting verifier_tool tool----------------\")\n",
        "      input_text = state[\"input_text\"]\n",
        "      corrected_proposals = state[\"corrected_proposals\"]\n",
        "      print(corrected_proposals)\n",
        "      unflagged_proposals = state[\"unflagged_proposals\"]\n",
        "      print(unflagged_proposals)\n",
        "      greenwashing_percentage = state[\"greenwashing_percentage\"]\n",
        "      print(greenwashing_percentage)\n",
        "      verified_text = \"verified_text\"\n",
        "      print(\"-------------verifier_tool Function ended--------------\")\n",
        "      return {\"verified_text\":verified_text,\n",
        "              \"corrected_proposals\":corrected_proposals,\n",
        "              \"unflagged_proposals\":unflagged_proposals,\n",
        "              \"greenwashing_percentage\":greenwashing_percentage,\n",
        "              }\n",
        "\n",
        "\n",
        "  ## function calculate_greenwashing_percentage\n",
        "  def calculate_greenwashing_percentage(state: AgentState):\n",
        "      print(\"-------------------Starting calculate_greenwashing_percentage tool----------------\")\n",
        "      Sentences = state[\"Sentences\"]\n",
        "      input_text = state[\"input_text\"]\n",
        "      greenwashing_percentage = [12]\n",
        "\n",
        "      return {\"greenwashing_percentage\":greenwashing_percentage}\n",
        "\n",
        "\n",
        "  ## function change_state_variables\n",
        "  def change_state_variables(state: AgentState):\n",
        "      print(\"-------------------Starting change_state_variables tool----------------\")\n",
        "      if \"verified_text\" in state:\n",
        "          verified_text = state[\"verified_text\"]\n",
        "          return {\"input_text\": verified_text}\n",
        "      else:\n",
        "          raise KeyError(\"Key2 'verified_text' not found in state\")"
      ],
      "metadata": {
        "id": "ip3PufaTT1QC"
      },
      "execution_count": 144,
      "outputs": []
    },
    {
      "cell_type": "markdown",
      "source": [
        "### Create tools enum"
      ],
      "metadata": {
        "id": "khjU3zGwULpF"
      }
    },
    {
      "cell_type": "code",
      "source": [
        "from enum import Enum\n",
        "from typing import Callable\n",
        "\n",
        "class Tool(Enum):\n",
        "\n",
        "    IDENTITY_TOOL = (\"identify_tool\", ToolBox.identify_tool)\n",
        "    VERIFY_GREENWASHING = (\"verify_greenwashing\", ToolBox.verify_greenwashing)\n",
        "    GET_FLAGGED_KEYWORDS = (\"get_flagged_keywords\", ToolBox.get_flagged_keywords)\n",
        "    GET_UNFLAGGED_KEYWORDS_SENTENCES = (\"get_unflagged_keywords_sentences\", ToolBox.get_unflagged_keywords_sentences)\n",
        "    CORRECT_PROPOSE_TOOL = (\"correct_propose_tool\", ToolBox.correct_propose_tool)\n",
        "    CORRECT_GRAMMER_TOOL = (\"correct_grammar_tool\", ToolBox.correct_grammar_tool)\n",
        "    UNFLAGGED_PROPOSAL_TOOL = (\"unflagged_proposal_tool\", ToolBox.unflagged_proposal_tool)\n",
        "    VERIFIER_TOOL = (\"verifier_tool\", ToolBox.verifier_tool)\n",
        "    CALCULATE_GREENWASHING_PERCENTAGE = (\"calculate_greenwashing_percentage\", ToolBox.calculate_greenwashing_percentage)\n",
        "    CHANGE_STATE_VARIABLES = (\"change_state_variables\", ToolBox.change_state_variables)\n",
        "\n",
        "    def __init__(self, identifier: str, toolFunction: Callable[[Dict[str, Any]], Dict[str, Any]]):\n",
        "        self.identifier = identifier\n",
        "        self.toolFunction = toolFunction\n",
        "\n",
        "\n",
        "# Accessing CALCULATE_GREENWASHING_PERCENTAGE\n",
        "tool1 = Tool.CALCULATE_GREENWASHING_PERCENTAGE\n",
        "tool2 = Tool.VERIFIER_TOOL\n",
        "\n",
        "\n",
        "#### Iterate over all the values of tools\n",
        "for tool in Tool:\n",
        "    # Create a dummy state for demonstration purposes\n",
        "    # You'll need to replace this with your actual state management logic\n",
        "    dummy_state = {\"input_text\": \"This is a test input.\"}\n",
        "    print(f\"Tool: {tool.identifier}\")\n"
      ],
      "metadata": {
        "colab": {
          "base_uri": "https://localhost:8080/"
        },
        "id": "U2E4O0r3UOMT",
        "outputId": "8ce4abf9-620a-4994-9714-b51e15b511d8"
      },
      "execution_count": 145,
      "outputs": [
        {
          "output_type": "stream",
          "name": "stdout",
          "text": [
            "Tool: identify_tool\n",
            "Tool: verify_greenwashing\n",
            "Tool: get_flagged_keywords\n",
            "Tool: get_unflagged_keywords_sentences\n",
            "Tool: correct_propose_tool\n",
            "Tool: correct_grammar_tool\n",
            "Tool: unflagged_proposal_tool\n",
            "Tool: verifier_tool\n",
            "Tool: calculate_greenwashing_percentage\n",
            "Tool: change_state_variables\n"
          ]
        }
      ]
    },
    {
      "cell_type": "markdown",
      "source": [
        "### Edge"
      ],
      "metadata": {
        "id": "fvApFDfmWdTV"
      }
    },
    {
      "cell_type": "code",
      "source": [
        "class EdgeType(Enum):\n",
        "    DIRECTED = \"Directed\"\n",
        "    CONDITIONAL = \"Conditional\"\n",
        "\n",
        "\n",
        "class Edge(Enum):\n",
        "\n",
        "    IDENTITY_TOOL_TO_VERIFY_GREENWASHING_EDGE = (Tool.IDENTITY_TOOL, Tool.VERIFY_GREENWASHING, EdgeType.DIRECTED)\n",
        "    VERIFY_GREENWASHING_TO_CALCULATE_GREENWASHING_PERCENTAGE = (Tool.VERIFY_GREENWASHING, Tool.CALCULATE_GREENWASHING_PERCENTAGE, EdgeType.DIRECTED)\n",
        "    CALCULATE_GREENWASHING_PERCENTAGE_TO_GET_UNFLAGGED_KEYWORDS_SENTENCES = (Tool.CALCULATE_GREENWASHING_PERCENTAGE, Tool.GET_UNFLAGGED_KEYWORDS_SENTENCES, EdgeType.DIRECTED)\n",
        "\n",
        "    GET_UNFLAGGED_KEYWORDS_SENTENCES_TO_UNFLAGGED_PROPOSAL_TOOL = (Tool.GET_UNFLAGGED_KEYWORDS_SENTENCES, Tool.UNFLAGGED_PROPOSAL_TOOL, EdgeType.DIRECTED)\n",
        "    UNFLAGGED_PROPOSAL_TOOL_TO_GET_FLAGGED_KEYWORDS = (Tool.UNFLAGGED_PROPOSAL_TOOL, Tool.GET_FLAGGED_KEYWORDS, EdgeType.DIRECTED)\n",
        "    GET_FLAGGED_KEYWORDS_TO_CORRECT_PROPOSE_TOOL = (Tool.GET_FLAGGED_KEYWORDS, Tool.CORRECT_PROPOSE_TOOL, EdgeType.DIRECTED)\n",
        "    CORRECT_PROPOSE_TOOL_TO_CORRECT_GRAMMER_TOOL = (Tool.CORRECT_PROPOSE_TOOL, Tool.CORRECT_GRAMMER_TOOL, EdgeType.DIRECTED)\n",
        "\n",
        "    CORRECT_GRAMMER_TOOL_TO_VERIFIER_TOOLL = (Tool.CORRECT_GRAMMER_TOOL, Tool.VERIFIER_TOOL, EdgeType.DIRECTED)\n",
        "\n",
        "    def __init__(self, tool1: Tool, tool2: Tool, edge_type: EdgeType):\n",
        "        self.tool1 = tool1\n",
        "        self.tool2 = tool2\n",
        "        self.edge_type = edge_type\n",
        "\n",
        "    def __str__(self):\n",
        "        return f\"Edge({self.tool1.identifier}, {self.tool2.identifier}, {self.edge_type.value})\"\n",
        "\n",
        "\n",
        "#### Iterate over all the values of edges\n",
        "for edge in Edge:\n",
        "  print(edge)\n"
      ],
      "metadata": {
        "colab": {
          "base_uri": "https://localhost:8080/"
        },
        "id": "mar6QBwwWfaL",
        "outputId": "597e8021-ac88-41aa-a7fb-83d30a6ea10a"
      },
      "execution_count": 146,
      "outputs": [
        {
          "output_type": "stream",
          "name": "stdout",
          "text": [
            "Edge(identify_tool, verify_greenwashing, Directed)\n",
            "Edge(verify_greenwashing, calculate_greenwashing_percentage, Directed)\n",
            "Edge(calculate_greenwashing_percentage, get_unflagged_keywords_sentences, Directed)\n",
            "Edge(get_unflagged_keywords_sentences, unflagged_proposal_tool, Directed)\n",
            "Edge(unflagged_proposal_tool, get_flagged_keywords, Directed)\n",
            "Edge(get_flagged_keywords, correct_propose_tool, Directed)\n",
            "Edge(correct_propose_tool, correct_grammar_tool, Directed)\n",
            "Edge(correct_grammar_tool, verifier_tool, Directed)\n"
          ]
        }
      ]
    },
    {
      "cell_type": "markdown",
      "source": [
        "### Graph Manager"
      ],
      "metadata": {
        "id": "M41vMzbLZdEa"
      }
    },
    {
      "cell_type": "code",
      "source": [
        "class Graph :\n",
        "\n",
        "    def __init__(self):\n",
        "        self.nodes = Tool\n",
        "        self.edges = Edge\n",
        "\n",
        "    def __construct_nodes(self, workflow):\n",
        "        for node in self.nodes:\n",
        "          workflow.add_node(node.identifier, node.toolFunction)\n",
        "\n",
        "    def __construct_edges(self, workflow):\n",
        "\n",
        "        ### construct first edge from Start\n",
        "        first_edge = list(Edge)[0]\n",
        "        workflow.add_edge(START, first_edge.tool1.identifier)\n",
        "\n",
        "        ### construct rest of the edges\n",
        "        for edge in self.edges:\n",
        "            if(edge.edge_type == EdgeType.DIRECTED):\n",
        "               workflow.add_edge(edge.tool1.identifier, edge.tool2.identifier)\n",
        "\n",
        "        #add last edge to the END\n",
        "        last_edge = list(Edge)[-1]\n",
        "        workflow.add_edge(last_edge.tool2.identifier, END)\n",
        "\n",
        "\n",
        "\n",
        "    def setup_workflow(self, agentState: AgentState):\n",
        "        workflow = StateGraph(agentState)\n",
        "\n",
        "        self.__construct_nodes(workflow)\n",
        "        self.__construct_edges(workflow)\n",
        "\n",
        "\n",
        "        graph = workflow.compile()\n",
        "        return graph\n",
        "\n",
        "\n",
        "from abc import ABC, abstractmethod\n",
        "\n",
        "class GraphProvider(ABC):\n",
        "\n",
        "    @abstractmethod\n",
        "    def provide_graph(self):\n",
        "        pass\n",
        "\n",
        "class GraphProviderImpl(GraphProvider):\n",
        "\n",
        "    def provide_graph(self)-> Graph:\n",
        "        return Graph().setup_workflow(AgentState)\n",
        "\n",
        "\n"
      ],
      "metadata": {
        "id": "PWJT4S8WZfr1"
      },
      "execution_count": 154,
      "outputs": []
    },
    {
      "cell_type": "markdown",
      "source": [
        "### app.py"
      ],
      "metadata": {
        "id": "dk57MPhB1fCb"
      }
    },
    {
      "cell_type": "code",
      "source": [
        "graph = GraphProviderImpl().provide_graph()\n",
        "\n",
        "# print the workflow\n",
        "from IPython.display import Image, display # type: ignore\n",
        "display(Image(graph.get_graph(xray=True).draw_mermaid_png()))\n",
        "\n",
        "\n",
        "\n",
        "input = {\n",
        "    \"input_text\" : \"input for text\",\n",
        "}\n",
        "\n",
        "answer = graph.invoke(input)\n",
        "answer"
      ],
      "metadata": {
        "colab": {
          "base_uri": "https://localhost:8080/",
          "height": 1000
        },
        "id": "J0swzDY7msuU",
        "outputId": "8b9ff0c6-7c8e-4502-da48-8f6a0f075733"
      },
      "execution_count": 157,
      "outputs": [
        {
          "output_type": "display_data",
          "data": {
            "image/png": "[encoded data removed]",
            "text/plain": [
              "<IPython.core.display.Image object>"
            ]
          },
          "metadata": {}
        },
        {
          "output_type": "stream",
          "name": "stdout",
          "text": [
            "-------------------Starting Indetify tool---------------- llm_interactor promptManager s3Loader\n",
            "-------------------Starting verify_greenwashing tool----------------\n",
            "-------------------Starting calculate_greenwashing_percentage tool----------------\n",
            "-------------------Starting get_unflagged_keywords_sentences tool----------------\n",
            "-------------------Starting unflagged_proposal_tool tool----------------\n",
            "-------------------Starting get_flagged_keywords tool----------------\n",
            "-------------------Starting correct_propose_tool tool----------------\n",
            "-------------------Starting correct_grammar_tool tool----------------\n",
            "-------------------Starting verifier_tool tool----------------\n",
            "{}\n",
            "['unflagged', 'proposals']\n",
            "[12]\n",
            "-------------verifier_tool Function ended--------------\n"
          ]
        },
        {
          "output_type": "execute_result",
          "data": {
            "text/plain": [
              "{'input_text': 'input for text',\n",
              " 'GreenWashingWords': ['Green', 'Washing', 'Words'],\n",
              " 'Sentences': ['Identify tool state AgentState....'],\n",
              " 'Actions': ['actions1', 'actions2'],\n",
              " 'flagged_keywords_sentences': ['flagged', 'keywords', 'sentences'],\n",
              " 'flagged_sentences': ['flagged', 'sentences'],\n",
              " 'unflagged_keywords_sentences': ['unflagged', 'keywords', 'sentences'],\n",
              " 'corrected_proposals': {},\n",
              " 'unflagged_proposals': ['unflagged', 'proposals'],\n",
              " 'verified_text': 'verified_text',\n",
              " 'greenwashing_percentage': [12]}"
            ]
          },
          "metadata": {},
          "execution_count": 157
        }
      ]
    },
    {
      "cell_type": "markdown",
      "source": [
        "#### More classes\n",
        "\n",
        "S3 loader\n",
        "\n",
        "Prompt Manager\n",
        "\n"
      ],
      "metadata": {
        "id": "4g-QOJS34DOn"
      }
    }
  ]
}